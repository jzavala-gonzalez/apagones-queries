{
 "cells": [
  {
   "cell_type": "code",
   "execution_count": 15,
   "metadata": {},
   "outputs": [],
   "source": [
    "from dotenv import load_dotenv\n",
    "import boto3\n",
    "import os\n",
    "import polars as pl"
   ]
  },
  {
   "cell_type": "code",
   "execution_count": 16,
   "metadata": {},
   "outputs": [
    {
     "data": {
      "text/plain": [
       "True"
      ]
     },
     "execution_count": 16,
     "metadata": {},
     "output_type": "execute_result"
    }
   ],
   "source": [
    "load_dotenv()"
   ]
  },
  {
   "cell_type": "code",
   "execution_count": 17,
   "metadata": {},
   "outputs": [],
   "source": [
    "s3 = boto3.client('s3',\n",
    "    endpoint_url='https://'+os.getenv('DUCKDB_S3_ENDPOINT'),\n",
    ")"
   ]
  },
  {
   "cell_type": "code",
   "execution_count": 18,
   "metadata": {},
   "outputs": [],
   "source": [
    "# List all objects in the bucket\n",
    "objects = s3.list_objects_v2(Bucket='archiva-apagones')\n",
    "# objects"
   ]
  },
  {
   "cell_type": "code",
   "execution_count": 19,
   "metadata": {},
   "outputs": [],
   "source": [
    "\n",
    "\n",
    "def get_all_objects():\n",
    "    \n",
    "    # Initial request to list objects\n",
    "    paginator = s3.get_paginator('list_objects_v2')\n",
    "    pages = paginator.paginate(Bucket='archiva-apagones')\n",
    "\n",
    "    for page in pages:\n",
    "        if 'Contents' in page:\n",
    "            for obj in page['Contents']:\n",
    "                yield obj\n"
   ]
  },
  {
   "cell_type": "code",
   "execution_count": 20,
   "metadata": {},
   "outputs": [
    {
     "name": "stdout",
     "output_type": "stream",
     "text": [
      "{'Key': 'genera/data_source/2023-12-26/genera_data_source__2023-12-26T21-48-54-0400.js', 'LastModified': datetime.datetime(2023, 12, 27, 1, 48, 55, 975000, tzinfo=tzutc()), 'ETag': '\"cc75570b565784e1e73e04eeef2a323c\"', 'Size': 10311, 'StorageClass': 'STANDARD'}\n"
     ]
    }
   ],
   "source": [
    "for obj in objects['Contents']:\n",
    "    print(obj)\n",
    "    break"
   ]
  },
  {
   "cell_type": "code",
   "execution_count": 21,
   "metadata": {},
   "outputs": [
    {
     "data": {
      "text/html": [
       "<div><style>\n",
       ".dataframe > thead > tr > th,\n",
       ".dataframe > tbody > tr > td {\n",
       "  text-align: right;\n",
       "  white-space: pre-wrap;\n",
       "}\n",
       "</style>\n",
       "<small>shape: (4_425, 6)</small><table border=\"1\" class=\"dataframe\"><thead><tr><th>Key</th><th>LastModified</th><th>ETag</th><th>Size</th><th>StorageClass</th><th>dataset</th></tr><tr><td>str</td><td>datetime[μs]</td><td>str</td><td>i64</td><td>str</td><td>str</td></tr></thead><tbody><tr><td>&quot;genera/data_so…</td><td>2023-12-27 01:48:55.975</td><td>&quot;&quot;cc75570b56578…</td><td>10311</td><td>&quot;STANDARD&quot;</td><td>&quot;genera/data_so…</td></tr><tr><td>&quot;genera/data_so…</td><td>2023-12-27 02:35:43.279</td><td>&quot;&quot;29739f74bbdb6…</td><td>10305</td><td>&quot;STANDARD&quot;</td><td>&quot;genera/data_so…</td></tr><tr><td>&quot;genera/data_so…</td><td>2023-12-27 02:40:17.820</td><td>&quot;&quot;fb81ee8ba448e…</td><td>10304</td><td>&quot;STANDARD&quot;</td><td>&quot;genera/data_so…</td></tr><tr><td>&quot;genera/data_so…</td><td>2023-12-27 02:45:15.713</td><td>&quot;&quot;2ffe81b9af089…</td><td>10300</td><td>&quot;STANDARD&quot;</td><td>&quot;genera/data_so…</td></tr><tr><td>&quot;genera/data_so…</td><td>2023-12-27 02:50:16.624</td><td>&quot;&quot;4609efd807273…</td><td>10298</td><td>&quot;STANDARD&quot;</td><td>&quot;genera/data_so…</td></tr><tr><td>&quot;genera/data_so…</td><td>2023-12-27 02:55:13.952</td><td>&quot;&quot;fefcf9dfd4089…</td><td>10297</td><td>&quot;STANDARD&quot;</td><td>&quot;genera/data_so…</td></tr><tr><td>&quot;genera/data_so…</td><td>2023-12-27 03:00:17.059</td><td>&quot;&quot;9dc57786f9846…</td><td>10299</td><td>&quot;STANDARD&quot;</td><td>&quot;genera/data_so…</td></tr><tr><td>&quot;genera/data_so…</td><td>2023-12-27 03:05:19.057</td><td>&quot;&quot;19e51d1cbc1b3…</td><td>10298</td><td>&quot;STANDARD&quot;</td><td>&quot;genera/data_so…</td></tr><tr><td>&quot;genera/data_so…</td><td>2023-12-27 03:10:17.064</td><td>&quot;&quot;f34eedd77e21d…</td><td>10298</td><td>&quot;STANDARD&quot;</td><td>&quot;genera/data_so…</td></tr><tr><td>&quot;genera/data_so…</td><td>2023-12-27 03:15:17.183</td><td>&quot;&quot;e6fd08df8aedb…</td><td>10300</td><td>&quot;STANDARD&quot;</td><td>&quot;genera/data_so…</td></tr><tr><td>&quot;genera/data_so…</td><td>2023-12-27 03:20:15.332</td><td>&quot;&quot;da17019d17e66…</td><td>10294</td><td>&quot;STANDARD&quot;</td><td>&quot;genera/data_so…</td></tr><tr><td>&quot;genera/data_so…</td><td>2023-12-27 03:25:15.433</td><td>&quot;&quot;ec35476d6d007…</td><td>10297</td><td>&quot;STANDARD&quot;</td><td>&quot;genera/data_so…</td></tr><tr><td>&hellip;</td><td>&hellip;</td><td>&hellip;</td><td>&hellip;</td><td>&hellip;</td><td>&hellip;</td></tr><tr><td>&quot;regions_withou…</td><td>2023-12-30 15:55:13.961</td><td>&quot;&quot;62bcb2631e0f7…</td><td>1948</td><td>&quot;STANDARD&quot;</td><td>&quot;regions_withou…</td></tr><tr><td>&quot;regions_withou…</td><td>2023-12-30 16:00:15.539</td><td>&quot;&quot;f8779ed6c0e62…</td><td>1948</td><td>&quot;STANDARD&quot;</td><td>&quot;regions_withou…</td></tr><tr><td>&quot;regions_withou…</td><td>2023-12-30 16:05:14.969</td><td>&quot;&quot;c94da090770d1…</td><td>1948</td><td>&quot;STANDARD&quot;</td><td>&quot;regions_withou…</td></tr><tr><td>&quot;regions_withou…</td><td>2023-12-30 16:10:17.417</td><td>&quot;&quot;0ecf0818bc042…</td><td>1946</td><td>&quot;STANDARD&quot;</td><td>&quot;regions_withou…</td></tr><tr><td>&quot;regions_withou…</td><td>2023-12-30 16:15:13.960</td><td>&quot;&quot;1cb51ea7cf4e1…</td><td>1946</td><td>&quot;STANDARD&quot;</td><td>&quot;regions_withou…</td></tr><tr><td>&quot;regions_withou…</td><td>2023-12-30 16:20:16.830</td><td>&quot;&quot;92c08b2131066…</td><td>1947</td><td>&quot;STANDARD&quot;</td><td>&quot;regions_withou…</td></tr><tr><td>&quot;regions_withou…</td><td>2023-12-30 16:25:17.545</td><td>&quot;&quot;8128e76a9fb57…</td><td>1946</td><td>&quot;STANDARD&quot;</td><td>&quot;regions_withou…</td></tr><tr><td>&quot;regions_withou…</td><td>2023-12-30 16:30:18.512</td><td>&quot;&quot;54d82f2d85b02…</td><td>1946</td><td>&quot;STANDARD&quot;</td><td>&quot;regions_withou…</td></tr><tr><td>&quot;regions_withou…</td><td>2023-12-30 16:35:16.838</td><td>&quot;&quot;bf7b31439c3b3…</td><td>1948</td><td>&quot;STANDARD&quot;</td><td>&quot;regions_withou…</td></tr><tr><td>&quot;regions_withou…</td><td>2023-12-30 16:40:16.923</td><td>&quot;&quot;ff1a7fe4142eb…</td><td>1950</td><td>&quot;STANDARD&quot;</td><td>&quot;regions_withou…</td></tr><tr><td>&quot;regions_withou…</td><td>2023-12-30 16:45:15.239</td><td>&quot;&quot;a854ddf309609…</td><td>1950</td><td>&quot;STANDARD&quot;</td><td>&quot;regions_withou…</td></tr><tr><td>&quot;regions_withou…</td><td>2023-12-30 16:50:14.835</td><td>&quot;&quot;8297a8cbd6ed4…</td><td>1950</td><td>&quot;STANDARD&quot;</td><td>&quot;regions_withou…</td></tr></tbody></table></div>"
      ],
      "text/plain": [
       "shape: (4_425, 6)\n",
       "┌────────────────────┬──────────────┬───────────────────┬───────┬──────────────┬───────────────────┐\n",
       "│ Key                ┆ LastModified ┆ ETag              ┆ Size  ┆ StorageClass ┆ dataset           │\n",
       "│ ---                ┆ ---          ┆ ---               ┆ ---   ┆ ---          ┆ ---               │\n",
       "│ str                ┆ datetime[μs] ┆ str               ┆ i64   ┆ str          ┆ str               │\n",
       "╞════════════════════╪══════════════╪═══════════════════╪═══════╪══════════════╪═══════════════════╡\n",
       "│ genera/data_source ┆ 2023-12-27   ┆ \"cc75570b565784e1 ┆ 10311 ┆ STANDARD     ┆ genera/data_sourc │\n",
       "│ /2023-12-26/ge…    ┆ 01:48:55.975 ┆ e73e04eeef2a323…  ┆       ┆              ┆ e                 │\n",
       "│ genera/data_source ┆ 2023-12-27   ┆ \"29739f74bbdb6716 ┆ 10305 ┆ STANDARD     ┆ genera/data_sourc │\n",
       "│ /2023-12-26/ge…    ┆ 02:35:43.279 ┆ ef1aa064179ae25…  ┆       ┆              ┆ e                 │\n",
       "│ genera/data_source ┆ 2023-12-27   ┆ \"fb81ee8ba448e259 ┆ 10304 ┆ STANDARD     ┆ genera/data_sourc │\n",
       "│ /2023-12-26/ge…    ┆ 02:40:17.820 ┆ b73cabeaafbd6b3…  ┆       ┆              ┆ e                 │\n",
       "│ genera/data_source ┆ 2023-12-27   ┆ \"2ffe81b9af089da2 ┆ 10300 ┆ STANDARD     ┆ genera/data_sourc │\n",
       "│ /2023-12-26/ge…    ┆ 02:45:15.713 ┆ 4b8f30ba02de8a4…  ┆       ┆              ┆ e                 │\n",
       "│ …                  ┆ …            ┆ …                 ┆ …     ┆ …            ┆ …                 │\n",
       "│ regions_without_se ┆ 2023-12-30   ┆ \"bf7b31439c3b3b40 ┆ 1948  ┆ STANDARD     ┆ regions_without_s │\n",
       "│ rvice/2023-12-…    ┆ 16:35:16.838 ┆ 8695625e2fbc9b8…  ┆       ┆              ┆ ervice            │\n",
       "│ regions_without_se ┆ 2023-12-30   ┆ \"ff1a7fe4142eb3d6 ┆ 1950  ┆ STANDARD     ┆ regions_without_s │\n",
       "│ rvice/2023-12-…    ┆ 16:40:16.923 ┆ 4b2777e1a937f02…  ┆       ┆              ┆ ervice            │\n",
       "│ regions_without_se ┆ 2023-12-30   ┆ \"a854ddf309609572 ┆ 1950  ┆ STANDARD     ┆ regions_without_s │\n",
       "│ rvice/2023-12-…    ┆ 16:45:15.239 ┆ 1aff21f6c85e721…  ┆       ┆              ┆ ervice            │\n",
       "│ regions_without_se ┆ 2023-12-30   ┆ \"8297a8cbd6ed4615 ┆ 1950  ┆ STANDARD     ┆ regions_without_s │\n",
       "│ rvice/2023-12-…    ┆ 16:50:14.835 ┆ 3cd30f7d28d05f0…  ┆       ┆              ┆ ervice            │\n",
       "└────────────────────┴──────────────┴───────────────────┴───────┴──────────────┴───────────────────┘"
      ]
     },
     "execution_count": 21,
     "metadata": {},
     "output_type": "execute_result"
    }
   ],
   "source": [
    "objects_df = (\n",
    "    pl.DataFrame(get_all_objects())\n",
    "    .with_columns([\n",
    "        pl.when(pl.col('Key').str.starts_with('genera'))\n",
    "        .then(pl.col('Key').str.split('/').list.slice(0,2).list.join('/'))\n",
    "        .otherwise(pl.col('Key').str.split('/').list.get(0))\n",
    "        .alias('dataset')\n",
    "    ])\n",
    ")\n",
    "objects_df"
   ]
  },
  {
   "cell_type": "code",
   "execution_count": 26,
   "metadata": {},
   "outputs": [
    {
     "data": {
      "text/html": [
       "<div>\n",
       "<style scoped>\n",
       "    .dataframe tbody tr th:only-of-type {\n",
       "        vertical-align: middle;\n",
       "    }\n",
       "\n",
       "    .dataframe tbody tr th {\n",
       "        vertical-align: top;\n",
       "    }\n",
       "\n",
       "    .dataframe thead th {\n",
       "        text-align: right;\n",
       "    }\n",
       "</style>\n",
       "<table border=\"1\" class=\"dataframe\">\n",
       "  <thead>\n",
       "    <tr style=\"text-align: right;\">\n",
       "      <th></th>\n",
       "      <th>dataset</th>\n",
       "      <th>count</th>\n",
       "      <th>Size</th>\n",
       "      <th>Size (MB)</th>\n",
       "      <th>Avg. Size</th>\n",
       "      <th>Avg. Daily Size (MB)</th>\n",
       "    </tr>\n",
       "  </thead>\n",
       "  <tbody>\n",
       "    <tr>\n",
       "      <th>0</th>\n",
       "      <td>genera/data_source</td>\n",
       "      <td>1039</td>\n",
       "      <td>10657224</td>\n",
       "      <td>10.657224</td>\n",
       "      <td>10257.0</td>\n",
       "      <td>2.954</td>\n",
       "    </tr>\n",
       "    <tr>\n",
       "      <th>1</th>\n",
       "      <td>regions_without_service</td>\n",
       "      <td>3172</td>\n",
       "      <td>6181911</td>\n",
       "      <td>6.181911</td>\n",
       "      <td>1949.0</td>\n",
       "      <td>0.561</td>\n",
       "    </tr>\n",
       "    <tr>\n",
       "      <th>2</th>\n",
       "      <td>outage_towns</td>\n",
       "      <td>212</td>\n",
       "      <td>634805</td>\n",
       "      <td>0.634805</td>\n",
       "      <td>2994.0</td>\n",
       "      <td>0.862</td>\n",
       "    </tr>\n",
       "    <tr>\n",
       "      <th>3</th>\n",
       "      <td>penguins.csv</td>\n",
       "      <td>1</td>\n",
       "      <td>13478</td>\n",
       "      <td>0.013478</td>\n",
       "      <td>13478.0</td>\n",
       "      <td>3.882</td>\n",
       "    </tr>\n",
       "    <tr>\n",
       "      <th>4</th>\n",
       "      <td>regions_without_service.json</td>\n",
       "      <td>1</td>\n",
       "      <td>1947</td>\n",
       "      <td>0.001947</td>\n",
       "      <td>1947.0</td>\n",
       "      <td>0.561</td>\n",
       "    </tr>\n",
       "  </tbody>\n",
       "</table>\n",
       "</div>"
      ],
      "text/plain": [
       "                        dataset  count      Size  Size (MB)  Avg. Size  \\\n",
       "0            genera/data_source   1039  10657224  10.657224    10257.0   \n",
       "1       regions_without_service   3172   6181911   6.181911     1949.0   \n",
       "2                  outage_towns    212    634805   0.634805     2994.0   \n",
       "3                  penguins.csv      1     13478   0.013478    13478.0   \n",
       "4  regions_without_service.json      1      1947   0.001947     1947.0   \n",
       "\n",
       "   Avg. Daily Size (MB)  \n",
       "0                 2.954  \n",
       "1                 0.561  \n",
       "2                 0.862  \n",
       "3                 3.882  \n",
       "4                 0.561  "
      ]
     },
     "execution_count": 26,
     "metadata": {},
     "output_type": "execute_result"
    }
   ],
   "source": [
    "(\n",
    "    objects_df\n",
    "    .group_by('dataset')\n",
    "    .agg([\n",
    "        pl.count(),\n",
    "        pl.sum('Size')\n",
    "    ])\n",
    "    .with_columns([\n",
    "        (pl.col('Size')/1e6).alias('Size (MB)'),\n",
    "        (pl.col('Size')/pl.col('count')).round().alias('Avg. Size'),\n",
    "        (pl.col('Size')/pl.col('count') * 288 / 1e6).round(3).alias('Avg. Daily Size (MB)'),\n",
    "    ])\n",
    "    .sort('Size (MB)', descending=True)\n",
    ").to_pandas()"
   ]
  }
 ],
 "metadata": {
  "kernelspec": {
   "display_name": "apagones-queries",
   "language": "python",
   "name": "python3"
  },
  "language_info": {
   "codemirror_mode": {
    "name": "ipython",
    "version": 3
   },
   "file_extension": ".py",
   "mimetype": "text/x-python",
   "name": "python",
   "nbconvert_exporter": "python",
   "pygments_lexer": "ipython3",
   "version": "3.11.6"
  },
  "orig_nbformat": 4
 },
 "nbformat": 4,
 "nbformat_minor": 2
}
