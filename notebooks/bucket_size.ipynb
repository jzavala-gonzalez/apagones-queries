{
 "cells": [
  {
   "cell_type": "code",
   "execution_count": 100,
   "metadata": {},
   "outputs": [],
   "source": [
    "from dotenv import load_dotenv\n",
    "import boto3\n",
    "import os\n",
    "import polars as pl\n",
    "from scripts.utils import download_object, get_all_objects"
   ]
  },
  {
   "cell_type": "code",
   "execution_count": 101,
   "metadata": {},
   "outputs": [
    {
     "data": {
      "text/plain": [
       "True"
      ]
     },
     "execution_count": 101,
     "metadata": {},
     "output_type": "execute_result"
    }
   ],
   "source": [
    "load_dotenv()"
   ]
  },
  {
   "cell_type": "code",
   "execution_count": 102,
   "metadata": {},
   "outputs": [],
   "source": [
    "s3 = boto3.client('s3',\n",
    "    endpoint_url='https://'+os.getenv('DUCKDB_S3_ENDPOINT'),\n",
    ")"
   ]
  },
  {
   "cell_type": "code",
   "execution_count": 103,
   "metadata": {},
   "outputs": [],
   "source": [
    "# List all objects in the bucket\n",
    "objects = s3.list_objects_v2(Bucket='archiva-apagones')\n",
    "# objects"
   ]
  },
  {
   "cell_type": "code",
   "execution_count": 104,
   "metadata": {},
   "outputs": [
    {
     "name": "stdout",
     "output_type": "stream",
     "text": [
      "{'Key': 'databases/regions_without_service_cache.db', 'LastModified': datetime.datetime(2024, 1, 26, 0, 20, 23, 821000, tzinfo=tzutc()), 'ETag': '\"aa802cf8565e74b4ff1d0d147d52534d\"', 'Size': 2109440, 'StorageClass': 'STANDARD'}\n"
     ]
    }
   ],
   "source": [
    "for obj in objects['Contents']:\n",
    "    print(obj)\n",
    "    break"
   ]
  },
  {
   "cell_type": "code",
   "execution_count": 105,
   "metadata": {},
   "outputs": [
    {
     "data": {
      "text/html": [
       "<div><style>\n",
       ".dataframe > thead > tr > th,\n",
       ".dataframe > tbody > tr > td {\n",
       "  text-align: right;\n",
       "  white-space: pre-wrap;\n",
       "}\n",
       "</style>\n",
       "<small>shape: (27_142, 6)</small><table border=\"1\" class=\"dataframe\"><thead><tr><th>Key</th><th>LastModified</th><th>ETag</th><th>Size</th><th>StorageClass</th><th>dataset</th></tr><tr><td>str</td><td>datetime[μs]</td><td>str</td><td>i64</td><td>str</td><td>str</td></tr></thead><tbody><tr><td>&quot;databases/regi…</td><td>2024-01-26 00:20:23.821</td><td>&quot;&quot;aa802cf8565e7…</td><td>2109440</td><td>&quot;STANDARD&quot;</td><td>&quot;databases&quot;</td></tr><tr><td>&quot;genera/data_so…</td><td>2023-12-27 01:48:55.975</td><td>&quot;&quot;cc75570b56578…</td><td>10311</td><td>&quot;STANDARD&quot;</td><td>&quot;genera/data_so…</td></tr><tr><td>&quot;genera/data_so…</td><td>2023-12-27 02:35:43.279</td><td>&quot;&quot;29739f74bbdb6…</td><td>10305</td><td>&quot;STANDARD&quot;</td><td>&quot;genera/data_so…</td></tr><tr><td>&quot;genera/data_so…</td><td>2023-12-27 02:40:17.820</td><td>&quot;&quot;fb81ee8ba448e…</td><td>10304</td><td>&quot;STANDARD&quot;</td><td>&quot;genera/data_so…</td></tr><tr><td>&quot;genera/data_so…</td><td>2023-12-27 02:45:15.713</td><td>&quot;&quot;2ffe81b9af089…</td><td>10300</td><td>&quot;STANDARD&quot;</td><td>&quot;genera/data_so…</td></tr><tr><td>&quot;genera/data_so…</td><td>2023-12-27 02:50:16.624</td><td>&quot;&quot;4609efd807273…</td><td>10298</td><td>&quot;STANDARD&quot;</td><td>&quot;genera/data_so…</td></tr><tr><td>&quot;genera/data_so…</td><td>2023-12-27 02:55:13.952</td><td>&quot;&quot;fefcf9dfd4089…</td><td>10297</td><td>&quot;STANDARD&quot;</td><td>&quot;genera/data_so…</td></tr><tr><td>&quot;genera/data_so…</td><td>2023-12-27 03:00:17.059</td><td>&quot;&quot;9dc57786f9846…</td><td>10299</td><td>&quot;STANDARD&quot;</td><td>&quot;genera/data_so…</td></tr><tr><td>&quot;genera/data_so…</td><td>2023-12-27 03:05:19.057</td><td>&quot;&quot;19e51d1cbc1b3…</td><td>10298</td><td>&quot;STANDARD&quot;</td><td>&quot;genera/data_so…</td></tr><tr><td>&quot;genera/data_so…</td><td>2023-12-27 03:10:17.064</td><td>&quot;&quot;f34eedd77e21d…</td><td>10298</td><td>&quot;STANDARD&quot;</td><td>&quot;genera/data_so…</td></tr><tr><td>&quot;genera/data_so…</td><td>2023-12-27 03:15:17.183</td><td>&quot;&quot;e6fd08df8aedb…</td><td>10300</td><td>&quot;STANDARD&quot;</td><td>&quot;genera/data_so…</td></tr><tr><td>&quot;genera/data_so…</td><td>2023-12-27 03:20:15.332</td><td>&quot;&quot;da17019d17e66…</td><td>10294</td><td>&quot;STANDARD&quot;</td><td>&quot;genera/data_so…</td></tr><tr><td>&hellip;</td><td>&hellip;</td><td>&hellip;</td><td>&hellip;</td><td>&hellip;</td><td>&hellip;</td></tr><tr><td>&quot;regions_withou…</td><td>2024-01-25 23:25:17.625</td><td>&quot;&quot;3eaf40db6fe12…</td><td>1947</td><td>&quot;STANDARD&quot;</td><td>&quot;regions_withou…</td></tr><tr><td>&quot;regions_withou…</td><td>2024-01-25 23:30:17.234</td><td>&quot;&quot;dd3df21688415…</td><td>1951</td><td>&quot;STANDARD&quot;</td><td>&quot;regions_withou…</td></tr><tr><td>&quot;regions_withou…</td><td>2024-01-25 23:35:15.951</td><td>&quot;&quot;a5323dc378459…</td><td>1950</td><td>&quot;STANDARD&quot;</td><td>&quot;regions_withou…</td></tr><tr><td>&quot;regions_withou…</td><td>2024-01-25 23:40:18.648</td><td>&quot;&quot;23c8cc7b68d55…</td><td>1950</td><td>&quot;STANDARD&quot;</td><td>&quot;regions_withou…</td></tr><tr><td>&quot;regions_withou…</td><td>2024-01-25 23:45:15.331</td><td>&quot;&quot;3004f5d7b9736…</td><td>1950</td><td>&quot;STANDARD&quot;</td><td>&quot;regions_withou…</td></tr><tr><td>&quot;regions_withou…</td><td>2024-01-25 23:50:14.630</td><td>&quot;&quot;9d5e7d4826115…</td><td>1950</td><td>&quot;STANDARD&quot;</td><td>&quot;regions_withou…</td></tr><tr><td>&quot;regions_withou…</td><td>2024-01-25 23:55:15.516</td><td>&quot;&quot;bd5544cf14a6c…</td><td>1949</td><td>&quot;STANDARD&quot;</td><td>&quot;regions_withou…</td></tr><tr><td>&quot;regions_withou…</td><td>2024-01-26 00:00:18.514</td><td>&quot;&quot;924eb52805d01…</td><td>1949</td><td>&quot;STANDARD&quot;</td><td>&quot;regions_withou…</td></tr><tr><td>&quot;regions_withou…</td><td>2024-01-26 00:05:14.656</td><td>&quot;&quot;b6bebc37a98b9…</td><td>1949</td><td>&quot;STANDARD&quot;</td><td>&quot;regions_withou…</td></tr><tr><td>&quot;regions_withou…</td><td>2024-01-26 00:10:14.767</td><td>&quot;&quot;c3d2ba365bdbe…</td><td>1950</td><td>&quot;STANDARD&quot;</td><td>&quot;regions_withou…</td></tr><tr><td>&quot;regions_withou…</td><td>2024-01-26 00:15:14.534</td><td>&quot;&quot;446e48dbd6e0f…</td><td>1947</td><td>&quot;STANDARD&quot;</td><td>&quot;regions_withou…</td></tr><tr><td>&quot;regions_withou…</td><td>2024-01-26 00:20:16.800</td><td>&quot;&quot;c12fbcd87b571…</td><td>1949</td><td>&quot;STANDARD&quot;</td><td>&quot;regions_withou…</td></tr></tbody></table></div>"
      ],
      "text/plain": [
       "shape: (27_142, 6)\n",
       "┌───────────────────┬──────────────┬───────────────────┬─────────┬──────────────┬──────────────────┐\n",
       "│ Key               ┆ LastModified ┆ ETag              ┆ Size    ┆ StorageClass ┆ dataset          │\n",
       "│ ---               ┆ ---          ┆ ---               ┆ ---     ┆ ---          ┆ ---              │\n",
       "│ str               ┆ datetime[μs] ┆ str               ┆ i64     ┆ str          ┆ str              │\n",
       "╞═══════════════════╪══════════════╪═══════════════════╪═════════╪══════════════╪══════════════════╡\n",
       "│ databases/regions ┆ 2024-01-26   ┆ \"aa802cf8565e74b4 ┆ 2109440 ┆ STANDARD     ┆ databases        │\n",
       "│ _without_servic…  ┆ 00:20:23.821 ┆ ff1d0d147d52534…  ┆         ┆              ┆                  │\n",
       "│ genera/data_sourc ┆ 2023-12-27   ┆ \"cc75570b565784e1 ┆ 10311   ┆ STANDARD     ┆ genera/data_sour │\n",
       "│ e/2023-12-26/ge…  ┆ 01:48:55.975 ┆ e73e04eeef2a323…  ┆         ┆              ┆ ce               │\n",
       "│ genera/data_sourc ┆ 2023-12-27   ┆ \"29739f74bbdb6716 ┆ 10305   ┆ STANDARD     ┆ genera/data_sour │\n",
       "│ e/2023-12-26/ge…  ┆ 02:35:43.279 ┆ ef1aa064179ae25…  ┆         ┆              ┆ ce               │\n",
       "│ genera/data_sourc ┆ 2023-12-27   ┆ \"fb81ee8ba448e259 ┆ 10304   ┆ STANDARD     ┆ genera/data_sour │\n",
       "│ e/2023-12-26/ge…  ┆ 02:40:17.820 ┆ b73cabeaafbd6b3…  ┆         ┆              ┆ ce               │\n",
       "│ …                 ┆ …            ┆ …                 ┆ …       ┆ …            ┆ …                │\n",
       "│ regions_without_s ┆ 2024-01-26   ┆ \"b6bebc37a98b90b1 ┆ 1949    ┆ STANDARD     ┆ regions_without_ │\n",
       "│ ervice/2024-01-…  ┆ 00:05:14.656 ┆ ba133db6e1cef6a…  ┆         ┆              ┆ service          │\n",
       "│ regions_without_s ┆ 2024-01-26   ┆ \"c3d2ba365bdbe854 ┆ 1950    ┆ STANDARD     ┆ regions_without_ │\n",
       "│ ervice/2024-01-…  ┆ 00:10:14.767 ┆ 797dd5e63e2ac16…  ┆         ┆              ┆ service          │\n",
       "│ regions_without_s ┆ 2024-01-26   ┆ \"446e48dbd6e0ff18 ┆ 1947    ┆ STANDARD     ┆ regions_without_ │\n",
       "│ ervice/2024-01-…  ┆ 00:15:14.534 ┆ c9b1557a6fa70c8…  ┆         ┆              ┆ service          │\n",
       "│ regions_without_s ┆ 2024-01-26   ┆ \"c12fbcd87b571e26 ┆ 1949    ┆ STANDARD     ┆ regions_without_ │\n",
       "│ ervice/2024-01-…  ┆ 00:20:16.800 ┆ 1f3ca0de23433c4…  ┆         ┆              ┆ service          │\n",
       "└───────────────────┴──────────────┴───────────────────┴─────────┴──────────────┴──────────────────┘"
      ]
     },
     "execution_count": 105,
     "metadata": {},
     "output_type": "execute_result"
    }
   ],
   "source": [
    "objects_df = (\n",
    "    pl.DataFrame(get_all_objects(s3))\n",
    "    .with_columns([\n",
    "        pl.when(pl.col('Key').str.starts_with('genera'))\n",
    "        .then(pl.col('Key').str.split('/').list.slice(0,2).list.join('/'))\n",
    "        .otherwise(pl.col('Key').str.split('/').list.get(0))\n",
    "        .alias('dataset')\n",
    "    ])\n",
    ")\n",
    "objects_df"
   ]
  },
  {
   "cell_type": "code",
   "execution_count": 106,
   "metadata": {},
   "outputs": [
    {
     "data": {
      "text/html": [
       "<div>\n",
       "<style scoped>\n",
       "    .dataframe tbody tr th:only-of-type {\n",
       "        vertical-align: middle;\n",
       "    }\n",
       "\n",
       "    .dataframe tbody tr th {\n",
       "        vertical-align: top;\n",
       "    }\n",
       "\n",
       "    .dataframe thead th {\n",
       "        text-align: right;\n",
       "    }\n",
       "</style>\n",
       "<table border=\"1\" class=\"dataframe\">\n",
       "  <thead>\n",
       "    <tr style=\"text-align: right;\">\n",
       "      <th></th>\n",
       "      <th>dataset</th>\n",
       "      <th>count</th>\n",
       "      <th>Size</th>\n",
       "      <th>Size (MB)</th>\n",
       "      <th>Avg. Size</th>\n",
       "      <th>Avg. Daily Size (MB)</th>\n",
       "    </tr>\n",
       "  </thead>\n",
       "  <tbody>\n",
       "    <tr>\n",
       "      <th>0</th>\n",
       "      <td>genera/data_source</td>\n",
       "      <td>8609</td>\n",
       "      <td>88141466</td>\n",
       "      <td>88.141466</td>\n",
       "      <td>10238.0</td>\n",
       "      <td>2.949</td>\n",
       "    </tr>\n",
       "    <tr>\n",
       "      <th>1</th>\n",
       "      <td>outage_towns</td>\n",
       "      <td>7788</td>\n",
       "      <td>28947276</td>\n",
       "      <td>28.947276</td>\n",
       "      <td>3717.0</td>\n",
       "      <td>1.070</td>\n",
       "    </tr>\n",
       "    <tr>\n",
       "      <th>2</th>\n",
       "      <td>regions_without_service</td>\n",
       "      <td>10742</td>\n",
       "      <td>20936333</td>\n",
       "      <td>20.936333</td>\n",
       "      <td>1949.0</td>\n",
       "      <td>0.561</td>\n",
       "    </tr>\n",
       "    <tr>\n",
       "      <th>3</th>\n",
       "      <td>databases</td>\n",
       "      <td>1</td>\n",
       "      <td>2109440</td>\n",
       "      <td>2.109440</td>\n",
       "      <td>2109440.0</td>\n",
       "      <td>607.519</td>\n",
       "    </tr>\n",
       "    <tr>\n",
       "      <th>4</th>\n",
       "      <td>penguins.csv</td>\n",
       "      <td>1</td>\n",
       "      <td>13478</td>\n",
       "      <td>0.013478</td>\n",
       "      <td>13478.0</td>\n",
       "      <td>3.882</td>\n",
       "    </tr>\n",
       "    <tr>\n",
       "      <th>5</th>\n",
       "      <td>regions_without_service.json</td>\n",
       "      <td>1</td>\n",
       "      <td>1947</td>\n",
       "      <td>0.001947</td>\n",
       "      <td>1947.0</td>\n",
       "      <td>0.561</td>\n",
       "    </tr>\n",
       "  </tbody>\n",
       "</table>\n",
       "</div>"
      ],
      "text/plain": [
       "                        dataset  count      Size  Size (MB)  Avg. Size  \\\n",
       "0            genera/data_source   8609  88141466  88.141466    10238.0   \n",
       "1                  outage_towns   7788  28947276  28.947276     3717.0   \n",
       "2       regions_without_service  10742  20936333  20.936333     1949.0   \n",
       "3                     databases      1   2109440   2.109440  2109440.0   \n",
       "4                  penguins.csv      1     13478   0.013478    13478.0   \n",
       "5  regions_without_service.json      1      1947   0.001947     1947.0   \n",
       "\n",
       "   Avg. Daily Size (MB)  \n",
       "0                 2.949  \n",
       "1                 1.070  \n",
       "2                 0.561  \n",
       "3               607.519  \n",
       "4                 3.882  \n",
       "5                 0.561  "
      ]
     },
     "execution_count": 106,
     "metadata": {},
     "output_type": "execute_result"
    }
   ],
   "source": [
    "summary_df = (\n",
    "    objects_df\n",
    "    .group_by('dataset')\n",
    "    .agg([\n",
    "        pl.count(),\n",
    "        pl.sum('Size')\n",
    "    ])\n",
    "    .with_columns([\n",
    "        (pl.col('Size')/1e6).alias('Size (MB)'),\n",
    "        (pl.col('Size')/pl.col('count')).round().alias('Avg. Size'),\n",
    "        (pl.col('Size')/pl.col('count') * 288 / 1e6).round(3).alias('Avg. Daily Size (MB)'),\n",
    "    ])\n",
    "    .sort('Size (MB)', descending=True)\n",
    ")\n",
    "\n",
    "summary_df.to_pandas()"
   ]
  },
  {
   "cell_type": "code",
   "execution_count": 107,
   "metadata": {},
   "outputs": [
    {
     "name": "stdout",
     "output_type": "stream",
     "text": [
      "Total bucket size:\n"
     ]
    },
    {
     "data": {
      "text/html": [
       "<div><style>\n",
       ".dataframe > thead > tr > th,\n",
       ".dataframe > tbody > tr > td {\n",
       "  text-align: right;\n",
       "  white-space: pre-wrap;\n",
       "}\n",
       "</style>\n",
       "<small>shape: (1, 1)</small><table border=\"1\" class=\"dataframe\"><thead><tr><th>Size (MB)</th></tr><tr><td>f64</td></tr></thead><tbody><tr><td>140.14994</td></tr></tbody></table></div>"
      ],
      "text/plain": [
       "shape: (1, 1)\n",
       "┌───────────┐\n",
       "│ Size (MB) │\n",
       "│ ---       │\n",
       "│ f64       │\n",
       "╞═══════════╡\n",
       "│ 140.14994 │\n",
       "└───────────┘"
      ]
     },
     "execution_count": 107,
     "metadata": {},
     "output_type": "execute_result"
    }
   ],
   "source": [
    "print('Total bucket size:')\n",
    "(\n",
    "    summary_df\n",
    "    .select([\n",
    "        pl.col('Size (MB)').sum()\n",
    "    ])\n",
    ")"
   ]
  }
 ],
 "metadata": {
  "kernelspec": {
   "display_name": "apagones-queries",
   "language": "python",
   "name": "python3"
  },
  "language_info": {
   "codemirror_mode": {
    "name": "ipython",
    "version": 3
   },
   "file_extension": ".py",
   "mimetype": "text/x-python",
   "name": "python",
   "nbconvert_exporter": "python",
   "pygments_lexer": "ipython3",
   "version": "3.11.6"
  },
  "orig_nbformat": 4
 },
 "nbformat": 4,
 "nbformat_minor": 2
}
