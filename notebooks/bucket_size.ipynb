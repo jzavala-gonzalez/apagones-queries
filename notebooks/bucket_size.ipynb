{
 "cells": [
  {
   "cell_type": "code",
   "execution_count": 44,
   "metadata": {},
   "outputs": [],
   "source": [
    "from dotenv import load_dotenv\n",
    "import boto3\n",
    "import os\n",
    "import polars as pl\n",
    "from scripts.utils import download_object, get_all_objects"
   ]
  },
  {
   "cell_type": "code",
   "execution_count": 2,
   "metadata": {},
   "outputs": [
    {
     "data": {
      "text/plain": [
       "True"
      ]
     },
     "execution_count": 2,
     "metadata": {},
     "output_type": "execute_result"
    }
   ],
   "source": [
    "load_dotenv()"
   ]
  },
  {
   "cell_type": "code",
   "execution_count": 3,
   "metadata": {},
   "outputs": [],
   "source": [
    "s3 = boto3.client('s3',\n",
    "    endpoint_url='https://'+os.getenv('DUCKDB_S3_ENDPOINT'),\n",
    ")"
   ]
  },
  {
   "cell_type": "code",
   "execution_count": 4,
   "metadata": {},
   "outputs": [],
   "source": [
    "# List all objects in the bucket\n",
    "objects = s3.list_objects_v2(Bucket='archiva-apagones')\n",
    "# objects"
   ]
  },
  {
   "cell_type": "code",
   "execution_count": 42,
   "metadata": {},
   "outputs": [],
   "source": [
    "\n"
   ]
  },
  {
   "cell_type": "code",
   "execution_count": 18,
   "metadata": {},
   "outputs": [
    {
     "data": {
      "text/plain": [
       "'./archiva-apagones/regions_without_service/2023-12-18'"
      ]
     },
     "execution_count": 18,
     "metadata": {},
     "output_type": "execute_result"
    }
   ],
   "source": []
  },
  {
   "cell_type": "code",
   "execution_count": 47,
   "metadata": {},
   "outputs": [
    {
     "name": "stdout",
     "output_type": "stream",
     "text": [
      "63 objects missing locally\n",
      "Downloading regions_without_service/2024-01-15/regions_without_service__2024-01-15T19-40-16-0400.json to ./archiva-apagones/regions_without_service/2024-01-15/regions_without_service__2024-01-15T19-40-16-0400.json\n",
      "Downloading regions_without_service/2024-01-15/regions_without_service__2024-01-15T19-25-15-0400.json to ./archiva-apagones/regions_without_service/2024-01-15/regions_without_service__2024-01-15T19-25-15-0400.json\n",
      "Downloading regions_without_service/2024-01-15/regions_without_service__2024-01-15T19-00-18-0400.json to ./archiva-apagones/regions_without_service/2024-01-15/regions_without_service__2024-01-15T19-00-18-0400.json\n",
      "Downloading regions_without_service/2024-01-15/regions_without_service__2024-01-15T17-35-13-0400.json to ./archiva-apagones/regions_without_service/2024-01-15/regions_without_service__2024-01-15T17-35-13-0400.json\n",
      "Downloading regions_without_service/2024-01-15/regions_without_service__2024-01-15T18-30-15-0400.json to ./archiva-apagones/regions_without_service/2024-01-15/regions_without_service__2024-01-15T18-30-15-0400.json\n",
      "Downloading regions_without_service/2024-01-15/regions_without_service__2024-01-15T18-45-14-0400.json to ./archiva-apagones/regions_without_service/2024-01-15/regions_without_service__2024-01-15T18-45-14-0400.json\n",
      "Downloading regions_without_service/2024-01-15/regions_without_service__2024-01-15T17-55-12-0400.json to ./archiva-apagones/regions_without_service/2024-01-15/regions_without_service__2024-01-15T17-55-12-0400.json\n",
      "Downloading regions_without_service/2024-01-15/regions_without_service__2024-01-15T19-45-13-0400.json to ./archiva-apagones/regions_without_service/2024-01-15/regions_without_service__2024-01-15T19-45-13-0400.json\n",
      "Downloading regions_without_service/2024-01-15/regions_without_service__2024-01-15T22-00-15-0400.json to ./archiva-apagones/regions_without_service/2024-01-15/regions_without_service__2024-01-15T22-00-15-0400.json\n",
      "Downloading regions_without_service/2024-01-15/regions_without_service__2024-01-15T18-20-14-0400.json to ./archiva-apagones/regions_without_service/2024-01-15/regions_without_service__2024-01-15T18-20-14-0400.json\n",
      "Downloading regions_without_service/2024-01-15/regions_without_service__2024-01-15T20-50-15-0400.json to ./archiva-apagones/regions_without_service/2024-01-15/regions_without_service__2024-01-15T20-50-15-0400.json\n",
      "Downloading regions_without_service/2024-01-15/regions_without_service__2024-01-15T17-45-14-0400.json to ./archiva-apagones/regions_without_service/2024-01-15/regions_without_service__2024-01-15T17-45-14-0400.json\n",
      "Downloading regions_without_service/2024-01-15/regions_without_service__2024-01-15T19-20-15-0400.json to ./archiva-apagones/regions_without_service/2024-01-15/regions_without_service__2024-01-15T19-20-15-0400.json\n",
      "Downloading regions_without_service/2024-01-15/regions_without_service__2024-01-15T17-20-14-0400.json to ./archiva-apagones/regions_without_service/2024-01-15/regions_without_service__2024-01-15T17-20-14-0400.json\n",
      "Downloading regions_without_service/2024-01-15/regions_without_service__2024-01-15T21-05-14-0400.json to ./archiva-apagones/regions_without_service/2024-01-15/regions_without_service__2024-01-15T21-05-14-0400.json\n",
      "Downloading regions_without_service/2024-01-15/regions_without_service__2024-01-15T22-15-14-0400.json to ./archiva-apagones/regions_without_service/2024-01-15/regions_without_service__2024-01-15T22-15-14-0400.json\n",
      "Downloading regions_without_service/2024-01-15/regions_without_service__2024-01-15T22-10-13-0400.json to ./archiva-apagones/regions_without_service/2024-01-15/regions_without_service__2024-01-15T22-10-13-0400.json\n",
      "Downloading regions_without_service/2024-01-15/regions_without_service__2024-01-15T21-00-17-0400.json to ./archiva-apagones/regions_without_service/2024-01-15/regions_without_service__2024-01-15T21-00-17-0400.json\n",
      "Downloading regions_without_service/2024-01-15/regions_without_service__2024-01-15T18-55-14-0400.json to ./archiva-apagones/regions_without_service/2024-01-15/regions_without_service__2024-01-15T18-55-14-0400.json\n",
      "Downloading regions_without_service/2024-01-15/regions_without_service__2024-01-15T17-50-14-0400.json to ./archiva-apagones/regions_without_service/2024-01-15/regions_without_service__2024-01-15T17-50-14-0400.json\n",
      "Downloading regions_without_service/2024-01-15/regions_without_service__2024-01-15T21-20-15-0400.json to ./archiva-apagones/regions_without_service/2024-01-15/regions_without_service__2024-01-15T21-20-15-0400.json\n",
      "Downloading regions_without_service/2024-01-15/regions_without_service__2024-01-15T20-35-14-0400.json to ./archiva-apagones/regions_without_service/2024-01-15/regions_without_service__2024-01-15T20-35-14-0400.json\n",
      "Downloading regions_without_service/2024-01-15/regions_without_service__2024-01-15T21-35-13-0400.json to ./archiva-apagones/regions_without_service/2024-01-15/regions_without_service__2024-01-15T21-35-13-0400.json\n",
      "Downloading regions_without_service/2024-01-15/regions_without_service__2024-01-15T19-50-14-0400.json to ./archiva-apagones/regions_without_service/2024-01-15/regions_without_service__2024-01-15T19-50-14-0400.json\n",
      "Downloading regions_without_service/2024-01-15/regions_without_service__2024-01-15T18-05-15-0400.json to ./archiva-apagones/regions_without_service/2024-01-15/regions_without_service__2024-01-15T18-05-15-0400.json\n",
      "Downloading regions_without_service/2024-01-15/regions_without_service__2024-01-15T20-15-13-0400.json to ./archiva-apagones/regions_without_service/2024-01-15/regions_without_service__2024-01-15T20-15-13-0400.json\n",
      "Downloading regions_without_service/2024-01-15/regions_without_service__2024-01-15T22-05-14-0400.json to ./archiva-apagones/regions_without_service/2024-01-15/regions_without_service__2024-01-15T22-05-14-0400.json\n",
      "Downloading regions_without_service/2024-01-15/regions_without_service__2024-01-15T18-35-14-0400.json to ./archiva-apagones/regions_without_service/2024-01-15/regions_without_service__2024-01-15T18-35-14-0400.json\n",
      "Downloading regions_without_service/2024-01-15/regions_without_service__2024-01-15T20-10-20-0400.json to ./archiva-apagones/regions_without_service/2024-01-15/regions_without_service__2024-01-15T20-10-20-0400.json\n",
      "Downloading regions_without_service/2024-01-15/regions_without_service__2024-01-15T19-35-14-0400.json to ./archiva-apagones/regions_without_service/2024-01-15/regions_without_service__2024-01-15T19-35-14-0400.json\n",
      "Downloading regions_without_service/2024-01-15/regions_without_service__2024-01-15T18-40-14-0400.json to ./archiva-apagones/regions_without_service/2024-01-15/regions_without_service__2024-01-15T18-40-14-0400.json\n",
      "Downloading regions_without_service/2024-01-15/regions_without_service__2024-01-15T19-30-14-0400.json to ./archiva-apagones/regions_without_service/2024-01-15/regions_without_service__2024-01-15T19-30-14-0400.json\n",
      "Downloading regions_without_service/2024-01-15/regions_without_service__2024-01-15T21-25-13-0400.json to ./archiva-apagones/regions_without_service/2024-01-15/regions_without_service__2024-01-15T21-25-13-0400.json\n",
      "Downloading regions_without_service/2024-01-15/regions_without_service__2024-01-15T18-25-16-0400.json to ./archiva-apagones/regions_without_service/2024-01-15/regions_without_service__2024-01-15T18-25-16-0400.json\n",
      "Downloading regions_without_service/2024-01-15/regions_without_service__2024-01-15T17-25-14-0400.json to ./archiva-apagones/regions_without_service/2024-01-15/regions_without_service__2024-01-15T17-25-14-0400.json\n",
      "Downloading regions_without_service/2024-01-15/regions_without_service__2024-01-15T19-55-13-0400.json to ./archiva-apagones/regions_without_service/2024-01-15/regions_without_service__2024-01-15T19-55-13-0400.json\n",
      "Downloading regions_without_service/2024-01-15/regions_without_service__2024-01-15T17-40-17-0400.json to ./archiva-apagones/regions_without_service/2024-01-15/regions_without_service__2024-01-15T17-40-17-0400.json\n",
      "Downloading regions_without_service/2024-01-15/regions_without_service__2024-01-15T21-40-15-0400.json to ./archiva-apagones/regions_without_service/2024-01-15/regions_without_service__2024-01-15T21-40-15-0400.json\n",
      "Downloading regions_without_service/2024-01-15/regions_without_service__2024-01-15T22-20-14-0400.json to ./archiva-apagones/regions_without_service/2024-01-15/regions_without_service__2024-01-15T22-20-14-0400.json\n",
      "Downloading regions_without_service/2024-01-15/regions_without_service__2024-01-15T20-05-19-0400.json to ./archiva-apagones/regions_without_service/2024-01-15/regions_without_service__2024-01-15T20-05-19-0400.json\n",
      "Downloading regions_without_service/2024-01-15/regions_without_service__2024-01-15T18-10-15-0400.json to ./archiva-apagones/regions_without_service/2024-01-15/regions_without_service__2024-01-15T18-10-15-0400.json\n",
      "Downloading regions_without_service/2024-01-15/regions_without_service__2024-01-15T20-40-18-0400.json to ./archiva-apagones/regions_without_service/2024-01-15/regions_without_service__2024-01-15T20-40-18-0400.json\n",
      "Downloading regions_without_service/2024-01-15/regions_without_service__2024-01-15T21-55-13-0400.json to ./archiva-apagones/regions_without_service/2024-01-15/regions_without_service__2024-01-15T21-55-13-0400.json\n",
      "Downloading regions_without_service/2024-01-15/regions_without_service__2024-01-15T21-10-17-0400.json to ./archiva-apagones/regions_without_service/2024-01-15/regions_without_service__2024-01-15T21-10-17-0400.json\n",
      "Downloading regions_without_service/2024-01-15/regions_without_service__2024-01-15T20-25-13-0400.json to ./archiva-apagones/regions_without_service/2024-01-15/regions_without_service__2024-01-15T20-25-13-0400.json\n",
      "Downloading regions_without_service/2024-01-15/regions_without_service__2024-01-15T20-30-16-0400.json to ./archiva-apagones/regions_without_service/2024-01-15/regions_without_service__2024-01-15T20-30-16-0400.json\n",
      "Downloading regions_without_service/2024-01-15/regions_without_service__2024-01-15T19-15-15-0400.json to ./archiva-apagones/regions_without_service/2024-01-15/regions_without_service__2024-01-15T19-15-15-0400.json\n",
      "Downloading regions_without_service/2024-01-15/regions_without_service__2024-01-15T20-45-18-0400.json to ./archiva-apagones/regions_without_service/2024-01-15/regions_without_service__2024-01-15T20-45-18-0400.json\n",
      "Downloading regions_without_service/2024-01-15/regions_without_service__2024-01-15T18-15-16-0400.json to ./archiva-apagones/regions_without_service/2024-01-15/regions_without_service__2024-01-15T18-15-16-0400.json\n",
      "Downloading regions_without_service/2024-01-15/regions_without_service__2024-01-15T21-45-14-0400.json to ./archiva-apagones/regions_without_service/2024-01-15/regions_without_service__2024-01-15T21-45-14-0400.json\n",
      "Downloading regions_without_service/2024-01-15/regions_without_service__2024-01-15T18-50-14-0400.json to ./archiva-apagones/regions_without_service/2024-01-15/regions_without_service__2024-01-15T18-50-14-0400.json\n",
      "Downloading regions_without_service/2024-01-15/regions_without_service__2024-01-15T21-50-14-0400.json to ./archiva-apagones/regions_without_service/2024-01-15/regions_without_service__2024-01-15T21-50-14-0400.json\n",
      "Downloading regions_without_service/2024-01-15/regions_without_service__2024-01-15T17-15-15-0400.json to ./archiva-apagones/regions_without_service/2024-01-15/regions_without_service__2024-01-15T17-15-15-0400.json\n",
      "Downloading regions_without_service/2024-01-15/regions_without_service__2024-01-15T18-00-16-0400.json to ./archiva-apagones/regions_without_service/2024-01-15/regions_without_service__2024-01-15T18-00-16-0400.json\n",
      "Downloading regions_without_service/2024-01-15/regions_without_service__2024-01-15T19-10-18-0400.json to ./archiva-apagones/regions_without_service/2024-01-15/regions_without_service__2024-01-15T19-10-18-0400.json\n",
      "Downloading regions_without_service/2024-01-15/regions_without_service__2024-01-15T21-15-16-0400.json to ./archiva-apagones/regions_without_service/2024-01-15/regions_without_service__2024-01-15T21-15-16-0400.json\n",
      "Downloading regions_without_service/2024-01-15/regions_without_service__2024-01-15T20-00-17-0400.json to ./archiva-apagones/regions_without_service/2024-01-15/regions_without_service__2024-01-15T20-00-17-0400.json\n",
      "Downloading regions_without_service/2024-01-15/regions_without_service__2024-01-15T19-05-13-0400.json to ./archiva-apagones/regions_without_service/2024-01-15/regions_without_service__2024-01-15T19-05-13-0400.json\n",
      "Downloading regions_without_service/2024-01-15/regions_without_service__2024-01-15T20-20-14-0400.json to ./archiva-apagones/regions_without_service/2024-01-15/regions_without_service__2024-01-15T20-20-14-0400.json\n",
      "Downloading regions_without_service/2024-01-15/regions_without_service__2024-01-15T21-30-15-0400.json to ./archiva-apagones/regions_without_service/2024-01-15/regions_without_service__2024-01-15T21-30-15-0400.json\n",
      "Downloading regions_without_service/2024-01-15/regions_without_service__2024-01-15T17-10-15-0400.json to ./archiva-apagones/regions_without_service/2024-01-15/regions_without_service__2024-01-15T17-10-15-0400.json\n",
      "Downloading regions_without_service/2024-01-15/regions_without_service__2024-01-15T17-30-15-0400.json to ./archiva-apagones/regions_without_service/2024-01-15/regions_without_service__2024-01-15T17-30-15-0400.json\n",
      "Downloading regions_without_service/2024-01-15/regions_without_service__2024-01-15T20-55-12-0400.json to ./archiva-apagones/regions_without_service/2024-01-15/regions_without_service__2024-01-15T20-55-12-0400.json\n"
     ]
    }
   ],
   "source": [
    "# Parameters for function\n",
    "local_bucket_path = './archiva-apagones'\n",
    "prefix = 'regions_without_service'\n",
    "\n",
    "# Create local bucket path, if not already there\n",
    "os.makedirs(local_bucket_path, exist_ok=True)\n",
    "\n",
    "# Get list of objects in bucket\n",
    "obj_list = list(get_all_objects(s3, prefix))\n",
    "bucket_obj_keys = [obj['Key'] for obj in obj_list]\n",
    "\n",
    "# Get list of objects locally\n",
    "local_obj_keys = []\n",
    "for root, dirs, files in os.walk(local_bucket_path):\n",
    "    for file in files:\n",
    "        # Add to local_obj_list but strip off the local_bucket_path\n",
    "        obj_key = os.path.join(root, file).replace(local_bucket_path, '')[1:]\n",
    "        local_obj_keys.append(obj_key)\n",
    "\n",
    "# Determine which (prefixed) objects are missing locally\n",
    "missing_keys = set(bucket_obj_keys).difference(set(local_obj_keys))\n",
    "print(f'{len(missing_keys)} objects missing locally')\n",
    "\n",
    "# Download missing objects\n",
    "for obj_key in missing_keys:\n",
    "    local_path = os.path.join(local_bucket_path, obj_key)\n",
    "    download_object(s3, obj_key, local_path)"
   ]
  },
  {
   "cell_type": "code",
   "execution_count": 34,
   "metadata": {},
   "outputs": [],
   "source": [
    "\n",
    "\n",
    "# Get list of objects locally\n",
    "\n",
    "        \n",
    "\n",
    "# local_obj_keys"
   ]
  },
  {
   "cell_type": "code",
   "execution_count": 37,
   "metadata": {},
   "outputs": [
    {
     "data": {
      "text/plain": [
       "{'regions_without_service/2024-01-15/regions_without_service__2024-01-15T16-30-15-0400.json',\n",
       " 'regions_without_service/2024-01-15/regions_without_service__2024-01-15T16-35-14-0400.json',\n",
       " 'regions_without_service/2024-01-15/regions_without_service__2024-01-15T16-40-15-0400.json'}"
      ]
     },
     "execution_count": 37,
     "metadata": {},
     "output_type": "execute_result"
    }
   ],
   "source": []
  },
  {
   "cell_type": "code",
   "execution_count": 35,
   "metadata": {},
   "outputs": [
    {
     "name": "stdout",
     "output_type": "stream",
     "text": [
      "{'Key': 'genera/data_source/2023-12-26/genera_data_source__2023-12-26T21-48-54-0400.js', 'LastModified': datetime.datetime(2023, 12, 27, 1, 48, 55, 975000, tzinfo=tzutc()), 'ETag': '\"cc75570b565784e1e73e04eeef2a323c\"', 'Size': 10311, 'StorageClass': 'STANDARD'}\n"
     ]
    }
   ],
   "source": [
    "for obj in objects['Contents']:\n",
    "    print(obj)\n",
    "    break"
   ]
  },
  {
   "cell_type": "code",
   "execution_count": 14,
   "metadata": {},
   "outputs": [
    {
     "data": {
      "text/html": [
       "<div><style>\n",
       ".dataframe > thead > tr > th,\n",
       ".dataframe > tbody > tr > td {\n",
       "  text-align: right;\n",
       "  white-space: pre-wrap;\n",
       "}\n",
       "</style>\n",
       "<small>shape: (7_775, 5)</small><table border=\"1\" class=\"dataframe\"><thead><tr><th>Key</th><th>LastModified</th><th>ETag</th><th>Size</th><th>StorageClass</th></tr><tr><td>str</td><td>datetime[μs]</td><td>str</td><td>i64</td><td>str</td></tr></thead><tbody><tr><td>&quot;regions_withou…</td><td>2023-12-19 03:32:04.204</td><td>&quot;&quot;eccf2f1e0180a…</td><td>1947</td><td>&quot;STANDARD&quot;</td></tr><tr><td>&quot;regions_withou…</td><td>2023-12-19 03:52:43.471</td><td>&quot;&quot;f6cad08fa8afd…</td><td>1945</td><td>&quot;STANDARD&quot;</td></tr><tr><td>&quot;regions_withou…</td><td>2023-12-19 03:56:59.371</td><td>&quot;&quot;d152fb66669bb…</td><td>1945</td><td>&quot;STANDARD&quot;</td></tr><tr><td>&quot;regions_withou…</td><td>2023-12-19 04:44:08.715</td><td>&quot;&quot;5455ed8fb0e3d…</td><td>1948</td><td>&quot;STANDARD&quot;</td></tr><tr><td>&quot;regions_withou…</td><td>2023-12-19 04:54:11.658</td><td>&quot;&quot;49dcf20caa8a9…</td><td>1953</td><td>&quot;STANDARD&quot;</td></tr><tr><td>&quot;regions_withou…</td><td>2023-12-19 13:57:58.433</td><td>&quot;&quot;183f612a92c7e…</td><td>1956</td><td>&quot;STANDARD&quot;</td></tr><tr><td>&quot;regions_withou…</td><td>2023-12-19 14:05:32.201</td><td>&quot;&quot;440270f3b6742…</td><td>1956</td><td>&quot;STANDARD&quot;</td></tr><tr><td>&quot;regions_withou…</td><td>2023-12-19 14:23:48.494</td><td>&quot;&quot;4769815d33432…</td><td>1954</td><td>&quot;STANDARD&quot;</td></tr><tr><td>&quot;regions_withou…</td><td>2023-12-19 14:28:23.457</td><td>&quot;&quot;9a62e847f01fc…</td><td>1954</td><td>&quot;STANDARD&quot;</td></tr><tr><td>&quot;regions_withou…</td><td>2023-12-19 14:30:20.426</td><td>&quot;&quot;a92f0297045a7…</td><td>1954</td><td>&quot;STANDARD&quot;</td></tr><tr><td>&quot;regions_withou…</td><td>2023-12-19 14:35:21.016</td><td>&quot;&quot;822313b4881ee…</td><td>1954</td><td>&quot;STANDARD&quot;</td></tr><tr><td>&quot;regions_withou…</td><td>2023-12-19 14:40:19.712</td><td>&quot;&quot;6cac0421d5a28…</td><td>1954</td><td>&quot;STANDARD&quot;</td></tr><tr><td>&hellip;</td><td>&hellip;</td><td>&hellip;</td><td>&hellip;</td><td>&hellip;</td></tr><tr><td>&quot;regions_withou…</td><td>2024-01-15 16:15:17.693</td><td>&quot;&quot;c21153894446a…</td><td>1949</td><td>&quot;STANDARD&quot;</td></tr><tr><td>&quot;regions_withou…</td><td>2024-01-15 16:20:17.128</td><td>&quot;&quot;b90a1e60c5c6b…</td><td>1949</td><td>&quot;STANDARD&quot;</td></tr><tr><td>&quot;regions_withou…</td><td>2024-01-15 16:25:17.518</td><td>&quot;&quot;b604ccbb42c46…</td><td>1949</td><td>&quot;STANDARD&quot;</td></tr><tr><td>&quot;regions_withou…</td><td>2024-01-15 16:30:16.637</td><td>&quot;&quot;2e54b146f0961…</td><td>1949</td><td>&quot;STANDARD&quot;</td></tr><tr><td>&quot;regions_withou…</td><td>2024-01-15 16:35:15.259</td><td>&quot;&quot;16d6d20b8ef6b…</td><td>1950</td><td>&quot;STANDARD&quot;</td></tr><tr><td>&quot;regions_withou…</td><td>2024-01-15 16:40:16.980</td><td>&quot;&quot;5279ead4652e4…</td><td>1950</td><td>&quot;STANDARD&quot;</td></tr><tr><td>&quot;regions_withou…</td><td>2024-01-15 16:45:16.578</td><td>&quot;&quot;dd6445a421db0…</td><td>1950</td><td>&quot;STANDARD&quot;</td></tr><tr><td>&quot;regions_withou…</td><td>2024-01-15 16:50:16.412</td><td>&quot;&quot;d14f4659cdfa1…</td><td>1950</td><td>&quot;STANDARD&quot;</td></tr><tr><td>&quot;regions_withou…</td><td>2024-01-15 16:55:18.177</td><td>&quot;&quot;97e87fc8b8e7d…</td><td>1951</td><td>&quot;STANDARD&quot;</td></tr><tr><td>&quot;regions_withou…</td><td>2024-01-15 17:00:17.678</td><td>&quot;&quot;f5fe2bfcfa3a8…</td><td>1951</td><td>&quot;STANDARD&quot;</td></tr><tr><td>&quot;regions_withou…</td><td>2024-01-15 17:05:14.918</td><td>&quot;&quot;4eb106839a707…</td><td>1954</td><td>&quot;STANDARD&quot;</td></tr><tr><td>&quot;regions_withou…</td><td>2024-01-15 17:10:15.128</td><td>&quot;&quot;e9a2f58c07e2b…</td><td>1955</td><td>&quot;STANDARD&quot;</td></tr></tbody></table></div>"
      ],
      "text/plain": [
       "shape: (7_775, 5)\n",
       "┌──────────────────────────────┬──────────────┬──────────────────────────────┬──────┬──────────────┐\n",
       "│ Key                          ┆ LastModified ┆ ETag                         ┆ Size ┆ StorageClass │\n",
       "│ ---                          ┆ ---          ┆ ---                          ┆ ---  ┆ ---          │\n",
       "│ str                          ┆ datetime[μs] ┆ str                          ┆ i64  ┆ str          │\n",
       "╞══════════════════════════════╪══════════════╪══════════════════════════════╪══════╪══════════════╡\n",
       "│ regions_without_service.json ┆ 2023-12-19   ┆ \"eccf2f1e0180a215b07020cebaf ┆ 1947 ┆ STANDARD     │\n",
       "│                              ┆ 03:32:04.204 ┆ a614…                        ┆      ┆              │\n",
       "│ regions_without_service/2023 ┆ 2023-12-19   ┆ \"f6cad08fa8afdbd8ada52f755d5 ┆ 1945 ┆ STANDARD     │\n",
       "│ -12-…                        ┆ 03:52:43.471 ┆ bdcc…                        ┆      ┆              │\n",
       "│ regions_without_service/2023 ┆ 2023-12-19   ┆ \"d152fb66669bbe4c6d42ee42e7b ┆ 1945 ┆ STANDARD     │\n",
       "│ -12-…                        ┆ 03:56:59.371 ┆ e34f…                        ┆      ┆              │\n",
       "│ regions_without_service/2023 ┆ 2023-12-19   ┆ \"5455ed8fb0e3dbf01915b4c02a3 ┆ 1948 ┆ STANDARD     │\n",
       "│ -12-…                        ┆ 04:44:08.715 ┆ 641c…                        ┆      ┆              │\n",
       "│ …                            ┆ …            ┆ …                            ┆ …    ┆ …            │\n",
       "│ regions_without_service/2024 ┆ 2024-01-15   ┆ \"97e87fc8b8e7db6d94d727299c9 ┆ 1951 ┆ STANDARD     │\n",
       "│ -01-…                        ┆ 16:55:18.177 ┆ 44b8…                        ┆      ┆              │\n",
       "│ regions_without_service/2024 ┆ 2024-01-15   ┆ \"f5fe2bfcfa3a88c1afa3b181ef8 ┆ 1951 ┆ STANDARD     │\n",
       "│ -01-…                        ┆ 17:00:17.678 ┆ 9af7…                        ┆      ┆              │\n",
       "│ regions_without_service/2024 ┆ 2024-01-15   ┆ \"4eb106839a70784aad3c7390fb8 ┆ 1954 ┆ STANDARD     │\n",
       "│ -01-…                        ┆ 17:05:14.918 ┆ 8c98…                        ┆      ┆              │\n",
       "│ regions_without_service/2024 ┆ 2024-01-15   ┆ \"e9a2f58c07e2b7978e23d071aab ┆ 1955 ┆ STANDARD     │\n",
       "│ -01-…                        ┆ 17:10:15.128 ┆ 28ea…                        ┆      ┆              │\n",
       "└──────────────────────────────┴──────────────┴──────────────────────────────┴──────┴──────────────┘"
      ]
     },
     "execution_count": 14,
     "metadata": {},
     "output_type": "execute_result"
    }
   ],
   "source": [
    "pl.DataFrame(get_all_objects(prefix='regions_without_service'))"
   ]
  },
  {
   "cell_type": "code",
   "execution_count": 12,
   "metadata": {},
   "outputs": [
    {
     "data": {
      "text/html": [
       "<div><style>\n",
       ".dataframe > thead > tr > th,\n",
       ".dataframe > tbody > tr > td {\n",
       "  text-align: right;\n",
       "  white-space: pre-wrap;\n",
       "}\n",
       "</style>\n",
       "<small>shape: (18_231, 6)</small><table border=\"1\" class=\"dataframe\"><thead><tr><th>Key</th><th>LastModified</th><th>ETag</th><th>Size</th><th>StorageClass</th><th>dataset</th></tr><tr><td>str</td><td>datetime[μs]</td><td>str</td><td>i64</td><td>str</td><td>str</td></tr></thead><tbody><tr><td>&quot;genera/data_so…</td><td>2023-12-27 01:48:55.975</td><td>&quot;&quot;cc75570b56578…</td><td>10311</td><td>&quot;STANDARD&quot;</td><td>&quot;genera/data_so…</td></tr><tr><td>&quot;genera/data_so…</td><td>2023-12-27 02:35:43.279</td><td>&quot;&quot;29739f74bbdb6…</td><td>10305</td><td>&quot;STANDARD&quot;</td><td>&quot;genera/data_so…</td></tr><tr><td>&quot;genera/data_so…</td><td>2023-12-27 02:40:17.820</td><td>&quot;&quot;fb81ee8ba448e…</td><td>10304</td><td>&quot;STANDARD&quot;</td><td>&quot;genera/data_so…</td></tr><tr><td>&quot;genera/data_so…</td><td>2023-12-27 02:45:15.713</td><td>&quot;&quot;2ffe81b9af089…</td><td>10300</td><td>&quot;STANDARD&quot;</td><td>&quot;genera/data_so…</td></tr><tr><td>&quot;genera/data_so…</td><td>2023-12-27 02:50:16.624</td><td>&quot;&quot;4609efd807273…</td><td>10298</td><td>&quot;STANDARD&quot;</td><td>&quot;genera/data_so…</td></tr><tr><td>&quot;genera/data_so…</td><td>2023-12-27 02:55:13.952</td><td>&quot;&quot;fefcf9dfd4089…</td><td>10297</td><td>&quot;STANDARD&quot;</td><td>&quot;genera/data_so…</td></tr><tr><td>&quot;genera/data_so…</td><td>2023-12-27 03:00:17.059</td><td>&quot;&quot;9dc57786f9846…</td><td>10299</td><td>&quot;STANDARD&quot;</td><td>&quot;genera/data_so…</td></tr><tr><td>&quot;genera/data_so…</td><td>2023-12-27 03:05:19.057</td><td>&quot;&quot;19e51d1cbc1b3…</td><td>10298</td><td>&quot;STANDARD&quot;</td><td>&quot;genera/data_so…</td></tr><tr><td>&quot;genera/data_so…</td><td>2023-12-27 03:10:17.064</td><td>&quot;&quot;f34eedd77e21d…</td><td>10298</td><td>&quot;STANDARD&quot;</td><td>&quot;genera/data_so…</td></tr><tr><td>&quot;genera/data_so…</td><td>2023-12-27 03:15:17.183</td><td>&quot;&quot;e6fd08df8aedb…</td><td>10300</td><td>&quot;STANDARD&quot;</td><td>&quot;genera/data_so…</td></tr><tr><td>&quot;genera/data_so…</td><td>2023-12-27 03:20:15.332</td><td>&quot;&quot;da17019d17e66…</td><td>10294</td><td>&quot;STANDARD&quot;</td><td>&quot;genera/data_so…</td></tr><tr><td>&quot;genera/data_so…</td><td>2023-12-27 03:25:15.433</td><td>&quot;&quot;ec35476d6d007…</td><td>10297</td><td>&quot;STANDARD&quot;</td><td>&quot;genera/data_so…</td></tr><tr><td>&hellip;</td><td>&hellip;</td><td>&hellip;</td><td>&hellip;</td><td>&hellip;</td><td>&hellip;</td></tr><tr><td>&quot;regions_withou…</td><td>2024-01-15 16:10:16.251</td><td>&quot;&quot;c19e43de01ff7…</td><td>1949</td><td>&quot;STANDARD&quot;</td><td>&quot;regions_withou…</td></tr><tr><td>&quot;regions_withou…</td><td>2024-01-15 16:15:17.693</td><td>&quot;&quot;c21153894446a…</td><td>1949</td><td>&quot;STANDARD&quot;</td><td>&quot;regions_withou…</td></tr><tr><td>&quot;regions_withou…</td><td>2024-01-15 16:20:17.128</td><td>&quot;&quot;b90a1e60c5c6b…</td><td>1949</td><td>&quot;STANDARD&quot;</td><td>&quot;regions_withou…</td></tr><tr><td>&quot;regions_withou…</td><td>2024-01-15 16:25:17.518</td><td>&quot;&quot;b604ccbb42c46…</td><td>1949</td><td>&quot;STANDARD&quot;</td><td>&quot;regions_withou…</td></tr><tr><td>&quot;regions_withou…</td><td>2024-01-15 16:30:16.637</td><td>&quot;&quot;2e54b146f0961…</td><td>1949</td><td>&quot;STANDARD&quot;</td><td>&quot;regions_withou…</td></tr><tr><td>&quot;regions_withou…</td><td>2024-01-15 16:35:15.259</td><td>&quot;&quot;16d6d20b8ef6b…</td><td>1950</td><td>&quot;STANDARD&quot;</td><td>&quot;regions_withou…</td></tr><tr><td>&quot;regions_withou…</td><td>2024-01-15 16:40:16.980</td><td>&quot;&quot;5279ead4652e4…</td><td>1950</td><td>&quot;STANDARD&quot;</td><td>&quot;regions_withou…</td></tr><tr><td>&quot;regions_withou…</td><td>2024-01-15 16:45:16.578</td><td>&quot;&quot;dd6445a421db0…</td><td>1950</td><td>&quot;STANDARD&quot;</td><td>&quot;regions_withou…</td></tr><tr><td>&quot;regions_withou…</td><td>2024-01-15 16:50:16.412</td><td>&quot;&quot;d14f4659cdfa1…</td><td>1950</td><td>&quot;STANDARD&quot;</td><td>&quot;regions_withou…</td></tr><tr><td>&quot;regions_withou…</td><td>2024-01-15 16:55:18.177</td><td>&quot;&quot;97e87fc8b8e7d…</td><td>1951</td><td>&quot;STANDARD&quot;</td><td>&quot;regions_withou…</td></tr><tr><td>&quot;regions_withou…</td><td>2024-01-15 17:00:17.678</td><td>&quot;&quot;f5fe2bfcfa3a8…</td><td>1951</td><td>&quot;STANDARD&quot;</td><td>&quot;regions_withou…</td></tr><tr><td>&quot;regions_withou…</td><td>2024-01-15 17:05:14.918</td><td>&quot;&quot;4eb106839a707…</td><td>1954</td><td>&quot;STANDARD&quot;</td><td>&quot;regions_withou…</td></tr></tbody></table></div>"
      ],
      "text/plain": [
       "shape: (18_231, 6)\n",
       "┌────────────────────┬──────────────┬───────────────────┬───────┬──────────────┬───────────────────┐\n",
       "│ Key                ┆ LastModified ┆ ETag              ┆ Size  ┆ StorageClass ┆ dataset           │\n",
       "│ ---                ┆ ---          ┆ ---               ┆ ---   ┆ ---          ┆ ---               │\n",
       "│ str                ┆ datetime[μs] ┆ str               ┆ i64   ┆ str          ┆ str               │\n",
       "╞════════════════════╪══════════════╪═══════════════════╪═══════╪══════════════╪═══════════════════╡\n",
       "│ genera/data_source ┆ 2023-12-27   ┆ \"cc75570b565784e1 ┆ 10311 ┆ STANDARD     ┆ genera/data_sourc │\n",
       "│ /2023-12-26/ge…    ┆ 01:48:55.975 ┆ e73e04eeef2a323…  ┆       ┆              ┆ e                 │\n",
       "│ genera/data_source ┆ 2023-12-27   ┆ \"29739f74bbdb6716 ┆ 10305 ┆ STANDARD     ┆ genera/data_sourc │\n",
       "│ /2023-12-26/ge…    ┆ 02:35:43.279 ┆ ef1aa064179ae25…  ┆       ┆              ┆ e                 │\n",
       "│ genera/data_source ┆ 2023-12-27   ┆ \"fb81ee8ba448e259 ┆ 10304 ┆ STANDARD     ┆ genera/data_sourc │\n",
       "│ /2023-12-26/ge…    ┆ 02:40:17.820 ┆ b73cabeaafbd6b3…  ┆       ┆              ┆ e                 │\n",
       "│ genera/data_source ┆ 2023-12-27   ┆ \"2ffe81b9af089da2 ┆ 10300 ┆ STANDARD     ┆ genera/data_sourc │\n",
       "│ /2023-12-26/ge…    ┆ 02:45:15.713 ┆ 4b8f30ba02de8a4…  ┆       ┆              ┆ e                 │\n",
       "│ …                  ┆ …            ┆ …                 ┆ …     ┆ …            ┆ …                 │\n",
       "│ regions_without_se ┆ 2024-01-15   ┆ \"d14f4659cdfa13bb ┆ 1950  ┆ STANDARD     ┆ regions_without_s │\n",
       "│ rvice/2024-01-…    ┆ 16:50:16.412 ┆ b1d60c4e9137ec0…  ┆       ┆              ┆ ervice            │\n",
       "│ regions_without_se ┆ 2024-01-15   ┆ \"97e87fc8b8e7db6d ┆ 1951  ┆ STANDARD     ┆ regions_without_s │\n",
       "│ rvice/2024-01-…    ┆ 16:55:18.177 ┆ 94d727299c944b8…  ┆       ┆              ┆ ervice            │\n",
       "│ regions_without_se ┆ 2024-01-15   ┆ \"f5fe2bfcfa3a88c1 ┆ 1951  ┆ STANDARD     ┆ regions_without_s │\n",
       "│ rvice/2024-01-…    ┆ 17:00:17.678 ┆ afa3b181ef89af7…  ┆       ┆              ┆ ervice            │\n",
       "│ regions_without_se ┆ 2024-01-15   ┆ \"4eb106839a70784a ┆ 1954  ┆ STANDARD     ┆ regions_without_s │\n",
       "│ rvice/2024-01-…    ┆ 17:05:14.918 ┆ ad3c7390fb88c98…  ┆       ┆              ┆ ervice            │\n",
       "└────────────────────┴──────────────┴───────────────────┴───────┴──────────────┴───────────────────┘"
      ]
     },
     "execution_count": 12,
     "metadata": {},
     "output_type": "execute_result"
    }
   ],
   "source": [
    "objects_df = (\n",
    "    pl.DataFrame(get_all_objects())\n",
    "    .with_columns([\n",
    "        pl.when(pl.col('Key').str.starts_with('genera'))\n",
    "        .then(pl.col('Key').str.split('/').list.slice(0,2).list.join('/'))\n",
    "        .otherwise(pl.col('Key').str.split('/').list.get(0))\n",
    "        .alias('dataset')\n",
    "    ])\n",
    ")\n",
    "objects_df"
   ]
  },
  {
   "cell_type": "code",
   "execution_count": 8,
   "metadata": {},
   "outputs": [
    {
     "data": {
      "text/html": [
       "<div>\n",
       "<style scoped>\n",
       "    .dataframe tbody tr th:only-of-type {\n",
       "        vertical-align: middle;\n",
       "    }\n",
       "\n",
       "    .dataframe tbody tr th {\n",
       "        vertical-align: top;\n",
       "    }\n",
       "\n",
       "    .dataframe thead th {\n",
       "        text-align: right;\n",
       "    }\n",
       "</style>\n",
       "<table border=\"1\" class=\"dataframe\">\n",
       "  <thead>\n",
       "    <tr style=\"text-align: right;\">\n",
       "      <th></th>\n",
       "      <th>dataset</th>\n",
       "      <th>count</th>\n",
       "      <th>Size</th>\n",
       "      <th>Size (MB)</th>\n",
       "      <th>Avg. Size</th>\n",
       "      <th>Avg. Daily Size (MB)</th>\n",
       "    </tr>\n",
       "  </thead>\n",
       "  <tbody>\n",
       "    <tr>\n",
       "      <th>0</th>\n",
       "      <td>genera/data_source</td>\n",
       "      <td>5635</td>\n",
       "      <td>57756124</td>\n",
       "      <td>57.756124</td>\n",
       "      <td>10250.0</td>\n",
       "      <td>2.952</td>\n",
       "    </tr>\n",
       "    <tr>\n",
       "      <th>1</th>\n",
       "      <td>outage_towns</td>\n",
       "      <td>4815</td>\n",
       "      <td>16306378</td>\n",
       "      <td>16.306378</td>\n",
       "      <td>3387.0</td>\n",
       "      <td>0.975</td>\n",
       "    </tr>\n",
       "    <tr>\n",
       "      <th>2</th>\n",
       "      <td>regions_without_service</td>\n",
       "      <td>7770</td>\n",
       "      <td>15138822</td>\n",
       "      <td>15.138822</td>\n",
       "      <td>1948.0</td>\n",
       "      <td>0.561</td>\n",
       "    </tr>\n",
       "    <tr>\n",
       "      <th>3</th>\n",
       "      <td>penguins.csv</td>\n",
       "      <td>1</td>\n",
       "      <td>13478</td>\n",
       "      <td>0.013478</td>\n",
       "      <td>13478.0</td>\n",
       "      <td>3.882</td>\n",
       "    </tr>\n",
       "    <tr>\n",
       "      <th>4</th>\n",
       "      <td>regions_without_service.json</td>\n",
       "      <td>1</td>\n",
       "      <td>1947</td>\n",
       "      <td>0.001947</td>\n",
       "      <td>1947.0</td>\n",
       "      <td>0.561</td>\n",
       "    </tr>\n",
       "  </tbody>\n",
       "</table>\n",
       "</div>"
      ],
      "text/plain": [
       "                        dataset  count      Size  Size (MB)  Avg. Size  \\\n",
       "0            genera/data_source   5635  57756124  57.756124    10250.0   \n",
       "1                  outage_towns   4815  16306378  16.306378     3387.0   \n",
       "2       regions_without_service   7770  15138822  15.138822     1948.0   \n",
       "3                  penguins.csv      1     13478   0.013478    13478.0   \n",
       "4  regions_without_service.json      1      1947   0.001947     1947.0   \n",
       "\n",
       "   Avg. Daily Size (MB)  \n",
       "0                 2.952  \n",
       "1                 0.975  \n",
       "2                 0.561  \n",
       "3                 3.882  \n",
       "4                 0.561  "
      ]
     },
     "execution_count": 8,
     "metadata": {},
     "output_type": "execute_result"
    }
   ],
   "source": [
    "(\n",
    "    objects_df\n",
    "    .group_by('dataset')\n",
    "    .agg([\n",
    "        pl.count(),\n",
    "        pl.sum('Size')\n",
    "    ])\n",
    "    .with_columns([\n",
    "        (pl.col('Size')/1e6).alias('Size (MB)'),\n",
    "        (pl.col('Size')/pl.col('count')).round().alias('Avg. Size'),\n",
    "        (pl.col('Size')/pl.col('count') * 288 / 1e6).round(3).alias('Avg. Daily Size (MB)'),\n",
    "    ])\n",
    "    .sort('Size (MB)', descending=True)\n",
    ").to_pandas()"
   ]
  }
 ],
 "metadata": {
  "kernelspec": {
   "display_name": "apagones-queries",
   "language": "python",
   "name": "python3"
  },
  "language_info": {
   "codemirror_mode": {
    "name": "ipython",
    "version": 3
   },
   "file_extension": ".py",
   "mimetype": "text/x-python",
   "name": "python",
   "nbconvert_exporter": "python",
   "pygments_lexer": "ipython3",
   "version": "3.11.6"
  },
  "orig_nbformat": 4
 },
 "nbformat": 4,
 "nbformat_minor": 2
}
