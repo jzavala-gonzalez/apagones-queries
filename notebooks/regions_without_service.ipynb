{
 "cells": [
  {
   "cell_type": "code",
   "execution_count": 9,
   "metadata": {},
   "outputs": [],
   "source": [
    "import os\n",
    "import boto3\n",
    "import duckdb\n",
    "from dotenv import load_dotenv\n",
    "from scripts.utils import download_object, get_all_objects\n",
    "\n",
    "# Para probar que podamos conectarnos al bucket correctamente"
   ]
  },
  {
   "cell_type": "code",
   "execution_count": 10,
   "metadata": {},
   "outputs": [
    {
     "data": {
      "text/plain": [
       "True"
      ]
     },
     "execution_count": 10,
     "metadata": {},
     "output_type": "execute_result"
    }
   ],
   "source": [
    "load_dotenv()  # take environment variables from .env."
   ]
  },
  {
   "cell_type": "code",
   "execution_count": 11,
   "metadata": {},
   "outputs": [],
   "source": [
    "s3 = boto3.client('s3',\n",
    "    endpoint_url='https://'+os.getenv('DUCKDB_S3_ENDPOINT'),\n",
    ")"
   ]
  },
  {
   "cell_type": "code",
   "execution_count": 12,
   "metadata": {},
   "outputs": [
    {
     "name": "stdout",
     "output_type": "stream",
     "text": [
      "Probando desde duckdb:\n",
      "┌─────────┬───────────┬────────────────┬───────────────┬───────────────────┬─────────────┬─────────┐\n",
      "│ species │  island   │ bill_length_mm │ bill_depth_mm │ flipper_length_mm │ body_mass_g │   sex   │\n",
      "│ varchar │  varchar  │     double     │    double     │       int64       │    int64    │ varchar │\n",
      "├─────────┼───────────┼────────────────┼───────────────┼───────────────────┼─────────────┼─────────┤\n",
      "│ Adelie  │ Torgersen │           39.1 │          18.7 │               181 │        3750 │ MALE    │\n",
      "│ Adelie  │ Torgersen │           39.5 │          17.4 │               186 │        3800 │ FEMALE  │\n",
      "│ Adelie  │ Torgersen │           40.3 │          18.0 │               195 │        3250 │ FEMALE  │\n",
      "│ Adelie  │ Torgersen │           NULL │          NULL │              NULL │        NULL │ NULL    │\n",
      "│ Adelie  │ Torgersen │           36.7 │          19.3 │               193 │        3450 │ FEMALE  │\n",
      "│ Adelie  │ Torgersen │           39.3 │          20.6 │               190 │        3650 │ MALE    │\n",
      "│ Adelie  │ Torgersen │           38.9 │          17.8 │               181 │        3625 │ FEMALE  │\n",
      "│ Adelie  │ Torgersen │           39.2 │          19.6 │               195 │        4675 │ MALE    │\n",
      "│ Adelie  │ Torgersen │           34.1 │          18.1 │               193 │        3475 │ NULL    │\n",
      "│ Adelie  │ Torgersen │           42.0 │          20.2 │               190 │        4250 │ NULL    │\n",
      "│   ·     │   ·       │             ·  │            ·  │                ·  │          ·  │  ·      │\n",
      "│   ·     │   ·       │             ·  │            ·  │                ·  │          ·  │  ·      │\n",
      "│   ·     │   ·       │             ·  │            ·  │                ·  │          ·  │  ·      │\n",
      "│ Gentoo  │ Biscoe    │           46.2 │          14.1 │               217 │        4375 │ FEMALE  │\n",
      "│ Gentoo  │ Biscoe    │           55.1 │          16.0 │               230 │        5850 │ MALE    │\n",
      "│ Gentoo  │ Biscoe    │           44.5 │          15.7 │               217 │        4875 │ NULL    │\n",
      "│ Gentoo  │ Biscoe    │           48.8 │          16.2 │               222 │        6000 │ MALE    │\n",
      "│ Gentoo  │ Biscoe    │           47.2 │          13.7 │               214 │        4925 │ FEMALE  │\n",
      "│ Gentoo  │ Biscoe    │           NULL │          NULL │              NULL │        NULL │ NULL    │\n",
      "│ Gentoo  │ Biscoe    │           46.8 │          14.3 │               215 │        4850 │ FEMALE  │\n",
      "│ Gentoo  │ Biscoe    │           50.4 │          15.7 │               222 │        5750 │ MALE    │\n",
      "│ Gentoo  │ Biscoe    │           45.2 │          14.8 │               212 │        5200 │ FEMALE  │\n",
      "│ Gentoo  │ Biscoe    │           49.9 │          16.1 │               213 │        5400 │ MALE    │\n",
      "├─────────┴───────────┴────────────────┴───────────────┴───────────────────┴─────────────┴─────────┤\n",
      "│ 344 rows (20 shown)                                                                    7 columns │\n",
      "└──────────────────────────────────────────────────────────────────────────────────────────────────┘\n",
      "\n"
     ]
    }
   ],
   "source": [
    "print('Probando desde duckdb:')\n",
    "res = duckdb.sql(\n",
    "'''\n",
    "select *\n",
    "from read_csv_auto('s3://archiva-apagones/penguins.csv')   \n",
    "''')\n",
    "print(res)"
   ]
  },
  {
   "cell_type": "code",
   "execution_count": 13,
   "metadata": {},
   "outputs": [
    {
     "name": "stdout",
     "output_type": "stream",
     "text": [
      "2 objects missing locally\n",
      "Downloading regions_without_service/2024-01-15/regions_without_service__2024-01-15T22-25-15-0400.json to ./archiva-apagones/regions_without_service/2024-01-15/regions_without_service__2024-01-15T22-25-15-0400.json\n",
      "Downloading regions_without_service/2024-01-15/regions_without_service__2024-01-15T22-30-15-0400.json to ./archiva-apagones/regions_without_service/2024-01-15/regions_without_service__2024-01-15T22-30-15-0400.json\n"
     ]
    }
   ],
   "source": [
    "# Parameters for function\n",
    "local_bucket_path = './archiva-apagones' # Probs more useful as env var\n",
    "prefix = 'regions_without_service'\n",
    "\n",
    "# Create local bucket path, if not already there\n",
    "os.makedirs(local_bucket_path, exist_ok=True)\n",
    "\n",
    "# Get list of objects in bucket\n",
    "obj_list = list(get_all_objects(s3, prefix))\n",
    "bucket_obj_keys = [obj['Key'] for obj in obj_list]\n",
    "\n",
    "# Get list of objects locally\n",
    "local_obj_keys = []\n",
    "for root, dirs, files in os.walk(local_bucket_path):\n",
    "    for file in files:\n",
    "        # Add to local_obj_list but strip off the local_bucket_path\n",
    "        obj_key = os.path.join(root, file).replace(local_bucket_path, '')[1:]\n",
    "        local_obj_keys.append(obj_key)\n",
    "\n",
    "# Determine which (prefixed) objects are missing locally\n",
    "missing_keys = set(bucket_obj_keys).difference(set(local_obj_keys))\n",
    "print(f'{len(missing_keys)} objects missing locally')\n",
    "\n",
    "# Download missing objects\n",
    "for obj_key in missing_keys:\n",
    "    local_path = os.path.join(local_bucket_path, obj_key)\n",
    "    download_object(s3, obj_key, local_path)"
   ]
  },
  {
   "cell_type": "code",
   "execution_count": 18,
   "metadata": {},
   "outputs": [
    {
     "data": {
      "text/plain": [
       "<duckdb.duckdb.DuckDBPyConnection at 0x10508cbb0>"
      ]
     },
     "execution_count": 18,
     "metadata": {},
     "output_type": "execute_result"
    }
   ],
   "source": [
    "duckdb.execute(\n",
    "'''\n",
    "create or replace table raw_regions_without_service as (\n",
    "    select *\n",
    "    -- from read_json('s3://archiva-apagones/regions_without_service/2023-12-19/*.json', filename=true, auto_detect=true, format='auto') \n",
    "    from read_json('./archiva-apagones/regions_without_service/*/*.json', filename=true, auto_detect=true, format='auto') \n",
    ")\n",
    "''')\n",
    "# select * from read_json('samples/regions_without_service/*.json', filename=true, auto_detect=true, format='auto')"
   ]
  },
  {
   "cell_type": "code",
   "execution_count": 19,
   "metadata": {},
   "outputs": [
    {
     "data": {
      "text/plain": [
       "┌─────────────┬────────────────────────────────────────────────────────────────┬─────────┬─────────┬─────────┬─────────┐\n",
       "│ column_name │                          column_type                           │  null   │   key   │ default │  extra  │\n",
       "│   varchar   │                            varchar                             │ varchar │ varchar │ varchar │ varchar │\n",
       "├─────────────┼────────────────────────────────────────────────────────────────┼─────────┼─────────┼─────────┼─────────┤\n",
       "│ regions     │ STRUCT(\"name\" VARCHAR, percentageClientsWithService DOUBLE, …  │ YES     │ NULL    │ NULL    │ NULL    │\n",
       "│ timestamp   │ VARCHAR                                                        │ YES     │ NULL    │ NULL    │ NULL    │\n",
       "│ totals      │ STRUCT(totalClients BIGINT, totalClientsWithService BIGINT, …  │ YES     │ NULL    │ NULL    │ NULL    │\n",
       "│ filename    │ VARCHAR                                                        │ YES     │ NULL    │ NULL    │ NULL    │\n",
       "└─────────────┴────────────────────────────────────────────────────────────────┴─────────┴─────────┴─────────┴─────────┘"
      ]
     },
     "execution_count": 19,
     "metadata": {},
     "output_type": "execute_result"
    }
   ],
   "source": [
    "duckdb.sql(\n",
    "'''\n",
    "describe\n",
    "    select\n",
    "        *\n",
    "    from raw_regions_without_service\n",
    "''')"
   ]
  },
  {
   "cell_type": "code",
   "execution_count": 20,
   "metadata": {},
   "outputs": [
    {
     "data": {
      "text/plain": [
       "┌─────────────────────┬──────────┬───────────────────────┬───────────────────────┬──────────────────────────┐\n",
       "│      timestamp      │ clientes │ clientes_con_servicio │ clientes_sin_servicio │           uhh            │\n",
       "│      timestamp      │  int64   │         int64         │         int64         │         varchar          │\n",
       "├─────────────────────┼──────────┼───────────────────────┼───────────────────────┼──────────────────────────┤\n",
       "│ 2023-12-25 11:50:00 │  1468223 │               1467888 │                   335 │ 2023-12-25T11-50-18-0400 │\n",
       "│ 2023-12-25 05:25:00 │  1468223 │               1467376 │                   847 │ 2023-12-25T05-25-18-0400 │\n",
       "│ 2023-12-25 13:30:00 │  1468223 │               1467814 │                   409 │ 2023-12-25T13-30-20-0400 │\n",
       "│ 2023-12-25 21:30:00 │  1468223 │               1468160 │                    63 │ 2023-12-25T21-30-18-0400 │\n",
       "│ 2023-12-25 02:55:00 │  1468223 │               1467412 │                   811 │ 2023-12-25T02-55-18-0400 │\n",
       "│ 2023-12-25 12:15:00 │  1468223 │               1467833 │                   390 │ 2023-12-25T12-15-19-0400 │\n",
       "│ 2023-12-25 12:40:00 │  1468223 │               1467789 │                   434 │ 2023-12-25T12-40-19-0400 │\n",
       "│ 2023-12-25 22:40:00 │  1468223 │               1468113 │                   110 │ 2023-12-25T22-40-17-0400 │\n",
       "│ 2023-12-25 23:05:00 │  1468223 │               1468054 │                   169 │ 2023-12-25T23-05-15-0400 │\n",
       "│ 2023-12-25 12:20:00 │  1468223 │               1467846 │                   377 │ 2023-12-25T12-20-17-0400 │\n",
       "│          ·          │     ·    │                  ·    │                    ·  │            ·             │\n",
       "│          ·          │     ·    │                  ·    │                    ·  │            ·             │\n",
       "│          ·          │     ·    │                  ·    │                    ·  │            ·             │\n",
       "│ 2024-01-06 15:45:00 │  1468223 │               1455577 │                 12646 │ 2024-01-06T15-45-13-0400 │\n",
       "│ 2024-01-06 23:15:00 │  1468223 │               1467781 │                   442 │ 2024-01-06T23-15-14-0400 │\n",
       "│ 2024-01-06 21:20:00 │  1468223 │               1466947 │                  1276 │ 2024-01-06T21-20-19-0400 │\n",
       "│ 2024-01-06 06:55:00 │  1468223 │               1467668 │                   555 │ 2024-01-06T06-55-13-0400 │\n",
       "│ 2024-01-06 07:40:00 │  1468223 │               1467723 │                   500 │ 2024-01-06T07-40-14-0400 │\n",
       "│ 2024-01-06 02:30:00 │  1468223 │               1467427 │                   796 │ 2024-01-06T02-30-17-0400 │\n",
       "│ 2024-01-06 19:25:00 │  1468223 │               1466868 │                  1355 │ 2024-01-06T19-25-14-0400 │\n",
       "│ 2024-01-06 00:30:00 │  1468223 │               1464707 │                  3516 │ 2024-01-06T00-30-14-0400 │\n",
       "│ 2024-01-06 22:10:00 │  1468223 │               1467112 │                  1111 │ 2024-01-06T22-10-16-0400 │\n",
       "│ 2024-01-06 15:05:00 │  1468223 │               1465791 │                  2432 │ 2024-01-06T15-05-13-0400 │\n",
       "├─────────────────────┴──────────┴───────────────────────┴───────────────────────┴──────────────────────────┤\n",
       "│ 7886 rows (20 shown)                                                                            5 columns │\n",
       "└───────────────────────────────────────────────────────────────────────────────────────────────────────────┘"
      ]
     },
     "execution_count": 20,
     "metadata": {},
     "output_type": "execute_result"
    }
   ],
   "source": [
    "duckdb.sql(\n",
    "'''\n",
    "    select\n",
    "        strptime(\"timestamp\", '%m/%d/%Y %I:%M %p') as \"timestamp\",\n",
    "        totals.totalClients as clientes,\n",
    "        totals.totalClientsWithService as clientes_con_servicio,\n",
    "        totals.totalClientsWithoutService as clientes_sin_servicio,\n",
    "        filename\n",
    "            .string_split('__')[2]\n",
    "            .regexp_extract('(.*).json', 1)\n",
    "            as uhh\n",
    "    from raw_regions_without_service\n",
    "''')"
   ]
  },
  {
   "cell_type": "code",
   "execution_count": 7,
   "metadata": {},
   "outputs": [
    {
     "data": {
      "text/plain": [
       "┌─────────────┬────────────────────────────────────────────────────────────────┬─────────┬─────────┬─────────┬─────────┐\n",
       "│ column_name │                          column_type                           │  null   │   key   │ default │  extra  │\n",
       "│   varchar   │                            varchar                             │ varchar │ varchar │ varchar │ varchar │\n",
       "├─────────────┼────────────────────────────────────────────────────────────────┼─────────┼─────────┼─────────┼─────────┤\n",
       "│ regions[1]  │ STRUCT(\"name\" VARCHAR, percentageClientsWithService DOUBLE, …  │ YES     │ NULL    │ NULL    │ NULL    │\n",
       "└─────────────┴────────────────────────────────────────────────────────────────┴─────────┴─────────┴─────────┴─────────┘"
      ]
     },
     "execution_count": 7,
     "metadata": {},
     "output_type": "execute_result"
    }
   ],
   "source": [
    "duckdb.sql(\n",
    "'''\n",
    "describe\n",
    "    select\n",
    "        regions[1]\n",
    "    from raw_regions_without_service\n",
    "''')"
   ]
  },
  {
   "cell_type": "code",
   "execution_count": 8,
   "metadata": {},
   "outputs": [
    {
     "data": {
      "text/plain": [
       "┌──────────────────────┬─────────────────────┬──────────────────────┬──────────────────────────────────────────────────┐\n",
       "│      regions[1]      │      timestamp      │        totals        │                     filename                     │\n",
       "│ struct(\"name\" varc…  │       varchar       │ struct(totalclient…  │                     varchar                      │\n",
       "├──────────────────────┼─────────────────────┼──────────────────────┼──────────────────────────────────────────────────┤\n",
       "│ {'name': Arecibo, …  │ 12/19/2023 12:40 AM │ {'totalClients': 1…  │ s3://archiva-apagones/regions_without_service/…  │\n",
       "│ {'name': Arecibo, …  │ 12/19/2023 12:50 AM │ {'totalClients': 1…  │ s3://archiva-apagones/regions_without_service/…  │\n",
       "│ {'name': Arecibo, …  │ 12/19/2023 09:55 AM │ {'totalClients': 1…  │ s3://archiva-apagones/regions_without_service/…  │\n",
       "│ {'name': Arecibo, …  │ 12/19/2023 10:05 AM │ {'totalClients': 1…  │ s3://archiva-apagones/regions_without_service/…  │\n",
       "│ {'name': Arecibo, …  │ 12/19/2023 10:20 AM │ {'totalClients': 1…  │ s3://archiva-apagones/regions_without_service/…  │\n",
       "│ {'name': Arecibo, …  │ 12/19/2023 10:25 AM │ {'totalClients': 1…  │ s3://archiva-apagones/regions_without_service/…  │\n",
       "│ {'name': Arecibo, …  │ 12/19/2023 10:30 AM │ {'totalClients': 1…  │ s3://archiva-apagones/regions_without_service/…  │\n",
       "│ {'name': Arecibo, …  │ 12/19/2023 10:35 AM │ {'totalClients': 1…  │ s3://archiva-apagones/regions_without_service/…  │\n",
       "│ {'name': Arecibo, …  │ 12/19/2023 10:40 AM │ {'totalClients': 1…  │ s3://archiva-apagones/regions_without_service/…  │\n",
       "│ {'name': Arecibo, …  │ 12/19/2023 10:45 AM │ {'totalClients': 1…  │ s3://archiva-apagones/regions_without_service/…  │\n",
       "│          ·           │          ·          │          ·           │                        ·                         │\n",
       "│          ·           │          ·          │          ·           │                        ·                         │\n",
       "│          ·           │          ·          │          ·           │                        ·                         │\n",
       "│ {'name': Arecibo, …  │ 12/19/2023 11:10 PM │ {'totalClients': 1…  │ s3://archiva-apagones/regions_without_service/…  │\n",
       "│ {'name': Arecibo, …  │ 12/19/2023 11:15 PM │ {'totalClients': 1…  │ s3://archiva-apagones/regions_without_service/…  │\n",
       "│ {'name': Arecibo, …  │ 12/19/2023 11:20 PM │ {'totalClients': 1…  │ s3://archiva-apagones/regions_without_service/…  │\n",
       "│ {'name': Arecibo, …  │ 12/19/2023 11:25 PM │ {'totalClients': 1…  │ s3://archiva-apagones/regions_without_service/…  │\n",
       "│ {'name': Arecibo, …  │ 12/19/2023 11:30 PM │ {'totalClients': 1…  │ s3://archiva-apagones/regions_without_service/…  │\n",
       "│ {'name': Arecibo, …  │ 12/19/2023 11:35 PM │ {'totalClients': 1…  │ s3://archiva-apagones/regions_without_service/…  │\n",
       "│ {'name': Arecibo, …  │ 12/19/2023 11:40 PM │ {'totalClients': 1…  │ s3://archiva-apagones/regions_without_service/…  │\n",
       "│ {'name': Arecibo, …  │ 12/19/2023 11:45 PM │ {'totalClients': 1…  │ s3://archiva-apagones/regions_without_service/…  │\n",
       "│ {'name': Arecibo, …  │ 12/19/2023 11:50 PM │ {'totalClients': 1…  │ s3://archiva-apagones/regions_without_service/…  │\n",
       "│ {'name': Arecibo, …  │ 12/19/2023 11:55 PM │ {'totalClients': 1…  │ s3://archiva-apagones/regions_without_service/…  │\n",
       "├──────────────────────┴─────────────────────┴──────────────────────┴──────────────────────────────────────────────────┤\n",
       "│ 168 rows (20 shown)                                                                                        4 columns │\n",
       "└──────────────────────────────────────────────────────────────────────────────────────────────────────────────────────┘"
      ]
     },
     "execution_count": 8,
     "metadata": {},
     "output_type": "execute_result"
    }
   ],
   "source": [
    "duckdb.sql(\n",
    "'''\n",
    "    select\n",
    "        regions[1],\n",
    "        \"timestamp\",\n",
    "        totals,\n",
    "        filename\n",
    "    from raw_regions_without_service\n",
    "''')"
   ]
  },
  {
   "cell_type": "code",
   "execution_count": null,
   "metadata": {},
   "outputs": [],
   "source": []
  }
 ],
 "metadata": {
  "kernelspec": {
   "display_name": "apagones-queries",
   "language": "python",
   "name": "python3"
  },
  "language_info": {
   "codemirror_mode": {
    "name": "ipython",
    "version": 3
   },
   "file_extension": ".py",
   "mimetype": "text/x-python",
   "name": "python",
   "nbconvert_exporter": "python",
   "pygments_lexer": "ipython3",
   "version": "3.11.6"
  },
  "orig_nbformat": 4
 },
 "nbformat": 4,
 "nbformat_minor": 2
}
