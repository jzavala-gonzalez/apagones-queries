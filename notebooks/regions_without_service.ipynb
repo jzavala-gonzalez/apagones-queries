{
 "cells": [
  {
   "cell_type": "code",
   "execution_count": 1,
   "metadata": {},
   "outputs": [],
   "source": [
    "import duckdb\n",
    "from dotenv import load_dotenv\n",
    "\n",
    "# Para probar que podamos conectarnos al bucket correctamente"
   ]
  },
  {
   "cell_type": "code",
   "execution_count": 2,
   "metadata": {},
   "outputs": [
    {
     "data": {
      "text/plain": [
       "True"
      ]
     },
     "execution_count": 2,
     "metadata": {},
     "output_type": "execute_result"
    }
   ],
   "source": [
    "load_dotenv()  # take environment variables from .env."
   ]
  },
  {
   "cell_type": "code",
   "execution_count": 3,
   "metadata": {},
   "outputs": [
    {
     "name": "stdout",
     "output_type": "stream",
     "text": [
      "Probando desde duckdb:\n",
      "┌─────────┬───────────┬────────────────┬───────────────┬───────────────────┬─────────────┬─────────┐\n",
      "│ species │  island   │ bill_length_mm │ bill_depth_mm │ flipper_length_mm │ body_mass_g │   sex   │\n",
      "│ varchar │  varchar  │     double     │    double     │       int64       │    int64    │ varchar │\n",
      "├─────────┼───────────┼────────────────┼───────────────┼───────────────────┼─────────────┼─────────┤\n",
      "│ Adelie  │ Torgersen │           39.1 │          18.7 │               181 │        3750 │ MALE    │\n",
      "│ Adelie  │ Torgersen │           39.5 │          17.4 │               186 │        3800 │ FEMALE  │\n",
      "│ Adelie  │ Torgersen │           40.3 │          18.0 │               195 │        3250 │ FEMALE  │\n",
      "│ Adelie  │ Torgersen │           NULL │          NULL │              NULL │        NULL │ NULL    │\n",
      "│ Adelie  │ Torgersen │           36.7 │          19.3 │               193 │        3450 │ FEMALE  │\n",
      "│ Adelie  │ Torgersen │           39.3 │          20.6 │               190 │        3650 │ MALE    │\n",
      "│ Adelie  │ Torgersen │           38.9 │          17.8 │               181 │        3625 │ FEMALE  │\n",
      "│ Adelie  │ Torgersen │           39.2 │          19.6 │               195 │        4675 │ MALE    │\n",
      "│ Adelie  │ Torgersen │           34.1 │          18.1 │               193 │        3475 │ NULL    │\n",
      "│ Adelie  │ Torgersen │           42.0 │          20.2 │               190 │        4250 │ NULL    │\n",
      "│   ·     │   ·       │             ·  │            ·  │                ·  │          ·  │  ·      │\n",
      "│   ·     │   ·       │             ·  │            ·  │                ·  │          ·  │  ·      │\n",
      "│   ·     │   ·       │             ·  │            ·  │                ·  │          ·  │  ·      │\n",
      "│ Gentoo  │ Biscoe    │           46.2 │          14.1 │               217 │        4375 │ FEMALE  │\n",
      "│ Gentoo  │ Biscoe    │           55.1 │          16.0 │               230 │        5850 │ MALE    │\n",
      "│ Gentoo  │ Biscoe    │           44.5 │          15.7 │               217 │        4875 │ NULL    │\n",
      "│ Gentoo  │ Biscoe    │           48.8 │          16.2 │               222 │        6000 │ MALE    │\n",
      "│ Gentoo  │ Biscoe    │           47.2 │          13.7 │               214 │        4925 │ FEMALE  │\n",
      "│ Gentoo  │ Biscoe    │           NULL │          NULL │              NULL │        NULL │ NULL    │\n",
      "│ Gentoo  │ Biscoe    │           46.8 │          14.3 │               215 │        4850 │ FEMALE  │\n",
      "│ Gentoo  │ Biscoe    │           50.4 │          15.7 │               222 │        5750 │ MALE    │\n",
      "│ Gentoo  │ Biscoe    │           45.2 │          14.8 │               212 │        5200 │ FEMALE  │\n",
      "│ Gentoo  │ Biscoe    │           49.9 │          16.1 │               213 │        5400 │ MALE    │\n",
      "├─────────┴───────────┴────────────────┴───────────────┴───────────────────┴─────────────┴─────────┤\n",
      "│ 344 rows (20 shown)                                                                    7 columns │\n",
      "└──────────────────────────────────────────────────────────────────────────────────────────────────┘\n",
      "\n"
     ]
    }
   ],
   "source": [
    "print('Probando desde duckdb:')\n",
    "res = duckdb.sql(\n",
    "'''\n",
    "select *\n",
    "from read_csv_auto('s3://archiva-apagones/penguins.csv')   \n",
    "''')\n",
    "print(res)"
   ]
  },
  {
   "cell_type": "code",
   "execution_count": 4,
   "metadata": {},
   "outputs": [
    {
     "data": {
      "text/plain": [
       "<duckdb.duckdb.DuckDBPyConnection at 0x10508cbb0>"
      ]
     },
     "execution_count": 4,
     "metadata": {},
     "output_type": "execute_result"
    }
   ],
   "source": [
    "duckdb.execute(\n",
    "'''\n",
    "create or replace table raw_regions_without_service as (\n",
    "    select *\n",
    "    from read_json('s3://archiva-apagones/regions_without_service/2023-12-19/*.json', filename=true, auto_detect=true, format='auto') \n",
    ")\n",
    "''')\n",
    "# select * from read_json('samples/regions_without_service/*.json', filename=true, auto_detect=true, format='auto')"
   ]
  },
  {
   "cell_type": "code",
   "execution_count": 5,
   "metadata": {},
   "outputs": [
    {
     "data": {
      "text/plain": [
       "┌─────────────┬────────────────────────────────────────────────────────────────┬─────────┬─────────┬─────────┬─────────┐\n",
       "│ column_name │                          column_type                           │  null   │   key   │ default │  extra  │\n",
       "│   varchar   │                            varchar                             │ varchar │ varchar │ varchar │ varchar │\n",
       "├─────────────┼────────────────────────────────────────────────────────────────┼─────────┼─────────┼─────────┼─────────┤\n",
       "│ regions     │ STRUCT(\"name\" VARCHAR, percentageClientsWithService DOUBLE, …  │ YES     │ NULL    │ NULL    │ NULL    │\n",
       "│ timestamp   │ VARCHAR                                                        │ YES     │ NULL    │ NULL    │ NULL    │\n",
       "│ totals      │ STRUCT(totalClients BIGINT, totalClientsWithService BIGINT, …  │ YES     │ NULL    │ NULL    │ NULL    │\n",
       "│ filename    │ VARCHAR                                                        │ YES     │ NULL    │ NULL    │ NULL    │\n",
       "└─────────────┴────────────────────────────────────────────────────────────────┴─────────┴─────────┴─────────┴─────────┘"
      ]
     },
     "execution_count": 5,
     "metadata": {},
     "output_type": "execute_result"
    }
   ],
   "source": [
    "duckdb.sql(\n",
    "'''\n",
    "describe\n",
    "    select\n",
    "        *\n",
    "    from raw_regions_without_service\n",
    "''')"
   ]
  },
  {
   "cell_type": "code",
   "execution_count": 6,
   "metadata": {},
   "outputs": [
    {
     "data": {
      "text/plain": [
       "┌─────────────────────┬──────────┬───────────────────────┬───────────────────────┬──────────────────────────┐\n",
       "│      timestamp      │ clientes │ clientes_con_servicio │ clientes_sin_servicio │           uhh            │\n",
       "│      timestamp      │  int64   │         int64         │         int64         │         varchar          │\n",
       "├─────────────────────┼──────────┼───────────────────────┼───────────────────────┼──────────────────────────┤\n",
       "│ 2023-12-19 00:40:00 │  1468223 │               1462627 │                  5596 │ 2023-12-19T00-44-07-0400 │\n",
       "│ 2023-12-19 00:50:00 │  1468223 │               1457008 │                 11215 │ 2023-12-19T00-54-11-0400 │\n",
       "│ 2023-12-19 09:55:00 │  1468223 │               1457024 │                 11199 │ 2023-12-19T09-57-57-0400 │\n",
       "│ 2023-12-19 10:05:00 │  1468223 │               1457020 │                 11203 │ 2023-12-19T10-05-31-0400 │\n",
       "│ 2023-12-19 10:20:00 │  1468223 │               1457014 │                 11209 │ 2023-12-19T10-23-47-0400 │\n",
       "│ 2023-12-19 10:25:00 │  1468223 │               1457019 │                 11204 │ 2023-12-19T10-28-22-0400 │\n",
       "│ 2023-12-19 10:30:00 │  1468223 │               1457020 │                 11203 │ 2023-12-19T10-30-19-0400 │\n",
       "│ 2023-12-19 10:35:00 │  1468223 │               1457018 │                 11205 │ 2023-12-19T10-35-20-0400 │\n",
       "│ 2023-12-19 10:40:00 │  1468223 │               1457028 │                 11195 │ 2023-12-19T10-40-18-0400 │\n",
       "│ 2023-12-19 10:45:00 │  1468223 │               1457028 │                 11195 │ 2023-12-19T10-45-21-0400 │\n",
       "│          ·          │     ·    │                  ·    │                    ·  │            ·             │\n",
       "│          ·          │     ·    │                  ·    │                    ·  │            ·             │\n",
       "│          ·          │     ·    │                  ·    │                    ·  │            ·             │\n",
       "│ 2023-12-19 23:10:00 │  1468223 │               1467792 │                   431 │ 2023-12-19T23-10-16-0400 │\n",
       "│ 2023-12-19 23:15:00 │  1468223 │               1467791 │                   432 │ 2023-12-19T23-15-20-0400 │\n",
       "│ 2023-12-19 23:20:00 │  1468223 │               1467791 │                   432 │ 2023-12-19T23-20-19-0400 │\n",
       "│ 2023-12-19 23:25:00 │  1468223 │               1467790 │                   433 │ 2023-12-19T23-25-15-0400 │\n",
       "│ 2023-12-19 23:30:00 │  1468223 │               1467788 │                   435 │ 2023-12-19T23-30-20-0400 │\n",
       "│ 2023-12-19 23:35:00 │  1468223 │               1467787 │                   436 │ 2023-12-19T23-35-18-0400 │\n",
       "│ 2023-12-19 23:40:00 │  1468223 │               1467787 │                   436 │ 2023-12-19T23-40-17-0400 │\n",
       "│ 2023-12-19 23:45:00 │  1468223 │               1467787 │                   436 │ 2023-12-19T23-45-16-0400 │\n",
       "│ 2023-12-19 23:50:00 │  1468223 │               1467786 │                   437 │ 2023-12-19T23-50-16-0400 │\n",
       "│ 2023-12-19 23:55:00 │  1468223 │               1467894 │                   329 │ 2023-12-19T23-55-16-0400 │\n",
       "├─────────────────────┴──────────┴───────────────────────┴───────────────────────┴──────────────────────────┤\n",
       "│ 168 rows (20 shown)                                                                             5 columns │\n",
       "└───────────────────────────────────────────────────────────────────────────────────────────────────────────┘"
      ]
     },
     "execution_count": 6,
     "metadata": {},
     "output_type": "execute_result"
    }
   ],
   "source": [
    "duckdb.sql(\n",
    "'''\n",
    "    select\n",
    "        strptime(\"timestamp\", '%m/%d/%Y %I:%M %p') as \"timestamp\",\n",
    "        totals.totalClients as clientes,\n",
    "        totals.totalClientsWithService as clientes_con_servicio,\n",
    "        totals.totalClientsWithoutService as clientes_sin_servicio,\n",
    "        filename\n",
    "            .string_split('__')[2]\n",
    "            .regexp_extract('(.*).json', 1)\n",
    "            as uhh\n",
    "    from raw_regions_without_service\n",
    "''')"
   ]
  },
  {
   "cell_type": "code",
   "execution_count": 7,
   "metadata": {},
   "outputs": [
    {
     "data": {
      "text/plain": [
       "┌─────────────┬────────────────────────────────────────────────────────────────┬─────────┬─────────┬─────────┬─────────┐\n",
       "│ column_name │                          column_type                           │  null   │   key   │ default │  extra  │\n",
       "│   varchar   │                            varchar                             │ varchar │ varchar │ varchar │ varchar │\n",
       "├─────────────┼────────────────────────────────────────────────────────────────┼─────────┼─────────┼─────────┼─────────┤\n",
       "│ regions[1]  │ STRUCT(\"name\" VARCHAR, percentageClientsWithService DOUBLE, …  │ YES     │ NULL    │ NULL    │ NULL    │\n",
       "└─────────────┴────────────────────────────────────────────────────────────────┴─────────┴─────────┴─────────┴─────────┘"
      ]
     },
     "execution_count": 7,
     "metadata": {},
     "output_type": "execute_result"
    }
   ],
   "source": [
    "duckdb.sql(\n",
    "'''\n",
    "describe\n",
    "    select\n",
    "        regions[1]\n",
    "    from raw_regions_without_service\n",
    "''')"
   ]
  },
  {
   "cell_type": "code",
   "execution_count": 8,
   "metadata": {},
   "outputs": [
    {
     "data": {
      "text/plain": [
       "┌──────────────────────┬─────────────────────┬──────────────────────┬──────────────────────────────────────────────────┐\n",
       "│      regions[1]      │      timestamp      │        totals        │                     filename                     │\n",
       "│ struct(\"name\" varc…  │       varchar       │ struct(totalclient…  │                     varchar                      │\n",
       "├──────────────────────┼─────────────────────┼──────────────────────┼──────────────────────────────────────────────────┤\n",
       "│ {'name': Arecibo, …  │ 12/19/2023 12:40 AM │ {'totalClients': 1…  │ s3://archiva-apagones/regions_without_service/…  │\n",
       "│ {'name': Arecibo, …  │ 12/19/2023 12:50 AM │ {'totalClients': 1…  │ s3://archiva-apagones/regions_without_service/…  │\n",
       "│ {'name': Arecibo, …  │ 12/19/2023 09:55 AM │ {'totalClients': 1…  │ s3://archiva-apagones/regions_without_service/…  │\n",
       "│ {'name': Arecibo, …  │ 12/19/2023 10:05 AM │ {'totalClients': 1…  │ s3://archiva-apagones/regions_without_service/…  │\n",
       "│ {'name': Arecibo, …  │ 12/19/2023 10:20 AM │ {'totalClients': 1…  │ s3://archiva-apagones/regions_without_service/…  │\n",
       "│ {'name': Arecibo, …  │ 12/19/2023 10:25 AM │ {'totalClients': 1…  │ s3://archiva-apagones/regions_without_service/…  │\n",
       "│ {'name': Arecibo, …  │ 12/19/2023 10:30 AM │ {'totalClients': 1…  │ s3://archiva-apagones/regions_without_service/…  │\n",
       "│ {'name': Arecibo, …  │ 12/19/2023 10:35 AM │ {'totalClients': 1…  │ s3://archiva-apagones/regions_without_service/…  │\n",
       "│ {'name': Arecibo, …  │ 12/19/2023 10:40 AM │ {'totalClients': 1…  │ s3://archiva-apagones/regions_without_service/…  │\n",
       "│ {'name': Arecibo, …  │ 12/19/2023 10:45 AM │ {'totalClients': 1…  │ s3://archiva-apagones/regions_without_service/…  │\n",
       "│          ·           │          ·          │          ·           │                        ·                         │\n",
       "│          ·           │          ·          │          ·           │                        ·                         │\n",
       "│          ·           │          ·          │          ·           │                        ·                         │\n",
       "│ {'name': Arecibo, …  │ 12/19/2023 11:10 PM │ {'totalClients': 1…  │ s3://archiva-apagones/regions_without_service/…  │\n",
       "│ {'name': Arecibo, …  │ 12/19/2023 11:15 PM │ {'totalClients': 1…  │ s3://archiva-apagones/regions_without_service/…  │\n",
       "│ {'name': Arecibo, …  │ 12/19/2023 11:20 PM │ {'totalClients': 1…  │ s3://archiva-apagones/regions_without_service/…  │\n",
       "│ {'name': Arecibo, …  │ 12/19/2023 11:25 PM │ {'totalClients': 1…  │ s3://archiva-apagones/regions_without_service/…  │\n",
       "│ {'name': Arecibo, …  │ 12/19/2023 11:30 PM │ {'totalClients': 1…  │ s3://archiva-apagones/regions_without_service/…  │\n",
       "│ {'name': Arecibo, …  │ 12/19/2023 11:35 PM │ {'totalClients': 1…  │ s3://archiva-apagones/regions_without_service/…  │\n",
       "│ {'name': Arecibo, …  │ 12/19/2023 11:40 PM │ {'totalClients': 1…  │ s3://archiva-apagones/regions_without_service/…  │\n",
       "│ {'name': Arecibo, …  │ 12/19/2023 11:45 PM │ {'totalClients': 1…  │ s3://archiva-apagones/regions_without_service/…  │\n",
       "│ {'name': Arecibo, …  │ 12/19/2023 11:50 PM │ {'totalClients': 1…  │ s3://archiva-apagones/regions_without_service/…  │\n",
       "│ {'name': Arecibo, …  │ 12/19/2023 11:55 PM │ {'totalClients': 1…  │ s3://archiva-apagones/regions_without_service/…  │\n",
       "├──────────────────────┴─────────────────────┴──────────────────────┴──────────────────────────────────────────────────┤\n",
       "│ 168 rows (20 shown)                                                                                        4 columns │\n",
       "└──────────────────────────────────────────────────────────────────────────────────────────────────────────────────────┘"
      ]
     },
     "execution_count": 8,
     "metadata": {},
     "output_type": "execute_result"
    }
   ],
   "source": [
    "duckdb.sql(\n",
    "'''\n",
    "    select\n",
    "        regions[1],\n",
    "        \"timestamp\",\n",
    "        totals,\n",
    "        filename\n",
    "    from raw_regions_without_service\n",
    "''')"
   ]
  },
  {
   "cell_type": "code",
   "execution_count": null,
   "metadata": {},
   "outputs": [],
   "source": []
  }
 ],
 "metadata": {
  "kernelspec": {
   "display_name": "apagones-queries",
   "language": "python",
   "name": "python3"
  },
  "language_info": {
   "codemirror_mode": {
    "name": "ipython",
    "version": 3
   },
   "file_extension": ".py",
   "mimetype": "text/x-python",
   "name": "python",
   "nbconvert_exporter": "python",
   "pygments_lexer": "ipython3",
   "version": "3.11.6"
  },
  "orig_nbformat": 4
 },
 "nbformat": 4,
 "nbformat_minor": 2
}
