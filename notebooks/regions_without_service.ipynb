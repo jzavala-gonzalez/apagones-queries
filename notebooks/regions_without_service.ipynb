{
 "cells": [
  {
   "cell_type": "code",
   "execution_count": 121,
   "metadata": {},
   "outputs": [],
   "source": [
    "import os\n",
    "import botocore\n",
    "import boto3\n",
    "import boto3.s3.transfer as s3transfer\n",
    "import time\n",
    "import duckdb\n",
    "from dotenv import load_dotenv\n",
    "from scripts.utils import download_object, get_all_objects\n",
    "\n",
    "# Para probar que podamos conectarnos al bucket correctamente"
   ]
  },
  {
   "cell_type": "code",
   "execution_count": 122,
   "metadata": {},
   "outputs": [
    {
     "data": {
      "text/plain": [
       "True"
      ]
     },
     "execution_count": 122,
     "metadata": {},
     "output_type": "execute_result"
    }
   ],
   "source": [
    "load_dotenv()  # take environment variables from .env."
   ]
  },
  {
   "cell_type": "code",
   "execution_count": 144,
   "metadata": {},
   "outputs": [
    {
     "data": {
      "text/plain": [
       "False"
      ]
     },
     "execution_count": 144,
     "metadata": {},
     "output_type": "execute_result"
    }
   ],
   "source": [
    "os.path.isfile('databases/sample.db')"
   ]
  },
  {
   "cell_type": "code",
   "execution_count": 145,
   "metadata": {},
   "outputs": [
    {
     "data": {
      "text/plain": [
       "┌─────────┐\n",
       "│  name   │\n",
       "│ varchar │\n",
       "├─────────┤\n",
       "│ 0 rows  │\n",
       "└─────────┘"
      ]
     },
     "execution_count": 145,
     "metadata": {},
     "output_type": "execute_result"
    }
   ],
   "source": [
    "con = duckdb.connect('./databases/sample.db')\n",
    "con.sql('show tables;')\n",
    "# con.close() # to terminate connection"
   ]
  },
  {
   "cell_type": "code",
   "execution_count": 124,
   "metadata": {},
   "outputs": [],
   "source": [
    "botocore_config = botocore.config.Config(max_pool_connections=20)\n",
    "s3 = boto3.client('s3',\n",
    "    endpoint_url='https://'+os.getenv('DUCKDB_S3_ENDPOINT'),\n",
    "    config=botocore_config\n",
    ")\n",
    "\n",
    "transfer_config = s3transfer.TransferConfig(\n",
    "    use_threads=True,\n",
    "    max_concurrency=20,\n",
    ")\n",
    "\n",
    "s3t = s3transfer.create_transfer_manager(s3, transfer_config)"
   ]
  },
  {
   "cell_type": "code",
   "execution_count": 125,
   "metadata": {},
   "outputs": [
    {
     "name": "stdout",
     "output_type": "stream",
     "text": [
      "Probando desde duckdb:\n",
      "┌─────────┬───────────┬────────────────┬───────────────┬───────────────────┬─────────────┬─────────┐\n",
      "│ species │  island   │ bill_length_mm │ bill_depth_mm │ flipper_length_mm │ body_mass_g │   sex   │\n",
      "│ varchar │  varchar  │     double     │    double     │       int64       │    int64    │ varchar │\n",
      "├─────────┼───────────┼────────────────┼───────────────┼───────────────────┼─────────────┼─────────┤\n",
      "│ Adelie  │ Torgersen │           39.1 │          18.7 │               181 │        3750 │ MALE    │\n",
      "│ Adelie  │ Torgersen │           39.5 │          17.4 │               186 │        3800 │ FEMALE  │\n",
      "│ Adelie  │ Torgersen │           40.3 │          18.0 │               195 │        3250 │ FEMALE  │\n",
      "│ Adelie  │ Torgersen │           NULL │          NULL │              NULL │        NULL │ NULL    │\n",
      "│ Adelie  │ Torgersen │           36.7 │          19.3 │               193 │        3450 │ FEMALE  │\n",
      "│ Adelie  │ Torgersen │           39.3 │          20.6 │               190 │        3650 │ MALE    │\n",
      "│ Adelie  │ Torgersen │           38.9 │          17.8 │               181 │        3625 │ FEMALE  │\n",
      "│ Adelie  │ Torgersen │           39.2 │          19.6 │               195 │        4675 │ MALE    │\n",
      "│ Adelie  │ Torgersen │           34.1 │          18.1 │               193 │        3475 │ NULL    │\n",
      "│ Adelie  │ Torgersen │           42.0 │          20.2 │               190 │        4250 │ NULL    │\n",
      "│   ·     │   ·       │             ·  │            ·  │                ·  │          ·  │  ·      │\n",
      "│   ·     │   ·       │             ·  │            ·  │                ·  │          ·  │  ·      │\n",
      "│   ·     │   ·       │             ·  │            ·  │                ·  │          ·  │  ·      │\n",
      "│ Gentoo  │ Biscoe    │           46.2 │          14.1 │               217 │        4375 │ FEMALE  │\n",
      "│ Gentoo  │ Biscoe    │           55.1 │          16.0 │               230 │        5850 │ MALE    │\n",
      "│ Gentoo  │ Biscoe    │           44.5 │          15.7 │               217 │        4875 │ NULL    │\n",
      "│ Gentoo  │ Biscoe    │           48.8 │          16.2 │               222 │        6000 │ MALE    │\n",
      "│ Gentoo  │ Biscoe    │           47.2 │          13.7 │               214 │        4925 │ FEMALE  │\n",
      "│ Gentoo  │ Biscoe    │           NULL │          NULL │              NULL │        NULL │ NULL    │\n",
      "│ Gentoo  │ Biscoe    │           46.8 │          14.3 │               215 │        4850 │ FEMALE  │\n",
      "│ Gentoo  │ Biscoe    │           50.4 │          15.7 │               222 │        5750 │ MALE    │\n",
      "│ Gentoo  │ Biscoe    │           45.2 │          14.8 │               212 │        5200 │ FEMALE  │\n",
      "│ Gentoo  │ Biscoe    │           49.9 │          16.1 │               213 │        5400 │ MALE    │\n",
      "├─────────┴───────────┴────────────────┴───────────────┴───────────────────┴─────────────┴─────────┤\n",
      "│ 344 rows (20 shown)                                                                    7 columns │\n",
      "└──────────────────────────────────────────────────────────────────────────────────────────────────┘\n",
      "\n"
     ]
    }
   ],
   "source": [
    "print('Probando desde duckdb:')\n",
    "res = duckdb.sql(\n",
    "'''\n",
    "select *\n",
    "from read_csv_auto('s3://archiva-apagones/penguins.csv')   \n",
    "''')\n",
    "print(res)"
   ]
  },
  {
   "cell_type": "code",
   "execution_count": 126,
   "metadata": {},
   "outputs": [
    {
     "name": "stdout",
     "output_type": "stream",
     "text": [
      "254 objects missing locally\n"
     ]
    }
   ],
   "source": [
    "# Parameters for function\n",
    "local_bucket_path = './archiva-apagones' # Probs more useful as env var\n",
    "prefix = 'regions_without_service'\n",
    "\n",
    "# Create local bucket path, if not already there\n",
    "os.makedirs(local_bucket_path, exist_ok=True)\n",
    "\n",
    "# Get list of objects in bucket\n",
    "obj_list = list(get_all_objects(s3, prefix))\n",
    "bucket_obj_keys = [obj['Key'] for obj in obj_list]\n",
    "\n",
    "# Get list of objects locally\n",
    "local_obj_keys = []\n",
    "for root, dirs, files in os.walk(local_bucket_path):\n",
    "    for file in files:\n",
    "        # Add to local_obj_list but strip off the local_bucket_path\n",
    "        obj_key = os.path.join(root, file).replace(local_bucket_path, '')[1:]\n",
    "        local_obj_keys.append(obj_key)\n",
    "\n",
    "# Determine which (prefixed) objects are missing locally\n",
    "missing_keys = set(bucket_obj_keys).difference(set(local_obj_keys))\n",
    "print(f'{len(missing_keys)} objects missing locally')\n",
    "\n"
   ]
  },
  {
   "cell_type": "code",
   "execution_count": 127,
   "metadata": {},
   "outputs": [
    {
     "name": "stdout",
     "output_type": "stream",
     "text": [
      "Downloading regions_without_service/2024-01-24/regions_without_service__2024-01-24T11-50-17-0400.json to ./archiva-apagones/regions_without_service/2024-01-24/regions_without_service__2024-01-24T11-50-17-0400.json\n",
      "Downloading regions_without_service/2024-01-24/regions_without_service__2024-01-24T06-10-16-0400.json to ./archiva-apagones/regions_without_service/2024-01-24/regions_without_service__2024-01-24T06-10-16-0400.json\n",
      "Downloading regions_without_service/2024-01-24/regions_without_service__2024-01-24T08-25-16-0400.json to ./archiva-apagones/regions_without_service/2024-01-24/regions_without_service__2024-01-24T08-25-16-0400.json\n",
      "Downloading regions_without_service/2024-01-24/regions_without_service__2024-01-24T04-15-16-0400.json to ./archiva-apagones/regions_without_service/2024-01-24/regions_without_service__2024-01-24T04-15-16-0400.json\n",
      "Downloading regions_without_service/2024-01-24/regions_without_service__2024-01-24T05-10-15-0400.json to ./archiva-apagones/regions_without_service/2024-01-24/regions_without_service__2024-01-24T05-10-15-0400.json\n",
      "Downloading regions_without_service/2024-01-24/regions_without_service__2024-01-24T01-50-19-0400.json to ./archiva-apagones/regions_without_service/2024-01-24/regions_without_service__2024-01-24T01-50-19-0400.json\n",
      "Downloading regions_without_service/2024-01-24/regions_without_service__2024-01-24T03-10-17-0400.json to ./archiva-apagones/regions_without_service/2024-01-24/regions_without_service__2024-01-24T03-10-17-0400.json\n",
      "Downloading regions_without_service/2024-01-23/regions_without_service__2024-01-23T20-00-19-0400.json to ./archiva-apagones/regions_without_service/2024-01-23/regions_without_service__2024-01-23T20-00-19-0400.json\n",
      "Downloading regions_without_service/2024-01-24/regions_without_service__2024-01-24T13-10-20-0400.json to ./archiva-apagones/regions_without_service/2024-01-24/regions_without_service__2024-01-24T13-10-20-0400.json\n",
      "Downloading regions_without_service/2024-01-24/regions_without_service__2024-01-24T03-55-14-0400.json to ./archiva-apagones/regions_without_service/2024-01-24/regions_without_service__2024-01-24T03-55-14-0400.json\n",
      "Downloading regions_without_service/2024-01-24/regions_without_service__2024-01-24T08-00-23-0400.json to ./archiva-apagones/regions_without_service/2024-01-24/regions_without_service__2024-01-24T08-00-23-0400.json\n",
      "Downloading regions_without_service/2024-01-24/regions_without_service__2024-01-24T14-10-16-0400.json to ./archiva-apagones/regions_without_service/2024-01-24/regions_without_service__2024-01-24T14-10-16-0400.json\n",
      "Downloading regions_without_service/2024-01-24/regions_without_service__2024-01-24T15-40-17-0400.json to ./archiva-apagones/regions_without_service/2024-01-24/regions_without_service__2024-01-24T15-40-17-0400.json\n",
      "Downloading regions_without_service/2024-01-24/regions_without_service__2024-01-24T09-25-15-0400.json to ./archiva-apagones/regions_without_service/2024-01-24/regions_without_service__2024-01-24T09-25-15-0400.json\n",
      "Downloading regions_without_service/2024-01-24/regions_without_service__2024-01-24T00-25-17-0400.json to ./archiva-apagones/regions_without_service/2024-01-24/regions_without_service__2024-01-24T00-25-17-0400.json\n",
      "Downloading regions_without_service/2024-01-24/regions_without_service__2024-01-24T08-15-16-0400.json to ./archiva-apagones/regions_without_service/2024-01-24/regions_without_service__2024-01-24T08-15-16-0400.json\n",
      "Downloading regions_without_service/2024-01-23/regions_without_service__2024-01-23T22-35-13-0400.json to ./archiva-apagones/regions_without_service/2024-01-23/regions_without_service__2024-01-23T22-35-13-0400.json\n",
      "Downloading regions_without_service/2024-01-24/regions_without_service__2024-01-24T15-30-15-0400.json to ./archiva-apagones/regions_without_service/2024-01-24/regions_without_service__2024-01-24T15-30-15-0400.json\n",
      "Downloading regions_without_service/2024-01-24/regions_without_service__2024-01-24T03-25-12-0400.json to ./archiva-apagones/regions_without_service/2024-01-24/regions_without_service__2024-01-24T03-25-12-0400.json\n",
      "Downloading regions_without_service/2024-01-23/regions_without_service__2024-01-23T20-50-16-0400.json to ./archiva-apagones/regions_without_service/2024-01-23/regions_without_service__2024-01-23T20-50-16-0400.json\n",
      "Downloading regions_without_service/2024-01-24/regions_without_service__2024-01-24T04-30-19-0400.json to ./archiva-apagones/regions_without_service/2024-01-24/regions_without_service__2024-01-24T04-30-19-0400.json\n",
      "Downloading regions_without_service/2024-01-24/regions_without_service__2024-01-24T13-35-15-0400.json to ./archiva-apagones/regions_without_service/2024-01-24/regions_without_service__2024-01-24T13-35-15-0400.json\n",
      "Downloading regions_without_service/2024-01-24/regions_without_service__2024-01-24T16-50-16-0400.json to ./archiva-apagones/regions_without_service/2024-01-24/regions_without_service__2024-01-24T16-50-16-0400.json\n",
      "Downloading regions_without_service/2024-01-24/regions_without_service__2024-01-24T09-50-14-0400.json to ./archiva-apagones/regions_without_service/2024-01-24/regions_without_service__2024-01-24T09-50-14-0400.json\n",
      "Downloading regions_without_service/2024-01-24/regions_without_service__2024-01-24T15-20-16-0400.json to ./archiva-apagones/regions_without_service/2024-01-24/regions_without_service__2024-01-24T15-20-16-0400.json\n",
      "Downloading regions_without_service/2024-01-24/regions_without_service__2024-01-24T02-40-16-0400.json to ./archiva-apagones/regions_without_service/2024-01-24/regions_without_service__2024-01-24T02-40-16-0400.json\n",
      "Downloading regions_without_service/2024-01-24/regions_without_service__2024-01-24T04-20-19-0400.json to ./archiva-apagones/regions_without_service/2024-01-24/regions_without_service__2024-01-24T04-20-19-0400.json\n",
      "Downloading regions_without_service/2024-01-24/regions_without_service__2024-01-24T16-20-14-0400.json to ./archiva-apagones/regions_without_service/2024-01-24/regions_without_service__2024-01-24T16-20-14-0400.json\n",
      "Downloading regions_without_service/2024-01-24/regions_without_service__2024-01-24T12-40-16-0400.json to ./archiva-apagones/regions_without_service/2024-01-24/regions_without_service__2024-01-24T12-40-16-0400.json\n",
      "Downloading regions_without_service/2024-01-24/regions_without_service__2024-01-24T11-05-16-0400.json to ./archiva-apagones/regions_without_service/2024-01-24/regions_without_service__2024-01-24T11-05-16-0400.json\n",
      "Downloading regions_without_service/2024-01-24/regions_without_service__2024-01-24T02-35-16-0400.json to ./archiva-apagones/regions_without_service/2024-01-24/regions_without_service__2024-01-24T02-35-16-0400.json\n",
      "Downloading regions_without_service/2024-01-24/regions_without_service__2024-01-24T15-35-13-0400.json to ./archiva-apagones/regions_without_service/2024-01-24/regions_without_service__2024-01-24T15-35-13-0400.json\n",
      "Downloading regions_without_service/2024-01-24/regions_without_service__2024-01-24T01-55-15-0400.json to ./archiva-apagones/regions_without_service/2024-01-24/regions_without_service__2024-01-24T01-55-15-0400.json\n",
      "Downloading regions_without_service/2024-01-24/regions_without_service__2024-01-24T06-50-14-0400.json to ./archiva-apagones/regions_without_service/2024-01-24/regions_without_service__2024-01-24T06-50-14-0400.json\n",
      "Downloading regions_without_service/2024-01-24/regions_without_service__2024-01-24T10-05-13-0400.json to ./archiva-apagones/regions_without_service/2024-01-24/regions_without_service__2024-01-24T10-05-13-0400.json\n",
      "Downloading regions_without_service/2024-01-24/regions_without_service__2024-01-24T04-35-14-0400.json to ./archiva-apagones/regions_without_service/2024-01-24/regions_without_service__2024-01-24T04-35-14-0400.json\n",
      "Downloading regions_without_service/2024-01-24/regions_without_service__2024-01-24T14-00-16-0400.json to ./archiva-apagones/regions_without_service/2024-01-24/regions_without_service__2024-01-24T14-00-16-0400.json\n",
      "Downloading regions_without_service/2024-01-24/regions_without_service__2024-01-24T04-40-16-0400.json to ./archiva-apagones/regions_without_service/2024-01-24/regions_without_service__2024-01-24T04-40-16-0400.json\n",
      "Downloading regions_without_service/2024-01-24/regions_without_service__2024-01-24T12-55-16-0400.json to ./archiva-apagones/regions_without_service/2024-01-24/regions_without_service__2024-01-24T12-55-16-0400.json\n",
      "Downloading regions_without_service/2024-01-24/regions_without_service__2024-01-24T09-10-16-0400.json to ./archiva-apagones/regions_without_service/2024-01-24/regions_without_service__2024-01-24T09-10-16-0400.json\n",
      "Downloading regions_without_service/2024-01-23/regions_without_service__2024-01-23T21-55-16-0400.json to ./archiva-apagones/regions_without_service/2024-01-23/regions_without_service__2024-01-23T21-55-16-0400.json\n",
      "Downloading regions_without_service/2024-01-24/regions_without_service__2024-01-24T09-55-15-0400.json to ./archiva-apagones/regions_without_service/2024-01-24/regions_without_service__2024-01-24T09-55-15-0400.json\n",
      "Downloading regions_without_service/2024-01-24/regions_without_service__2024-01-24T13-50-17-0400.json to ./archiva-apagones/regions_without_service/2024-01-24/regions_without_service__2024-01-24T13-50-17-0400.json\n",
      "Downloading regions_without_service/2024-01-24/regions_without_service__2024-01-24T01-10-16-0400.json to ./archiva-apagones/regions_without_service/2024-01-24/regions_without_service__2024-01-24T01-10-16-0400.json\n",
      "Downloading regions_without_service/2024-01-23/regions_without_service__2024-01-23T21-40-17-0400.json to ./archiva-apagones/regions_without_service/2024-01-23/regions_without_service__2024-01-23T21-40-17-0400.json\n",
      "Downloading regions_without_service/2024-01-23/regions_without_service__2024-01-23T22-05-14-0400.json to ./archiva-apagones/regions_without_service/2024-01-23/regions_without_service__2024-01-23T22-05-14-0400.json\n",
      "Downloading regions_without_service/2024-01-24/regions_without_service__2024-01-24T14-20-16-0400.json to ./archiva-apagones/regions_without_service/2024-01-24/regions_without_service__2024-01-24T14-20-16-0400.json\n",
      "Downloading regions_without_service/2024-01-23/regions_without_service__2024-01-23T23-50-16-0400.json to ./archiva-apagones/regions_without_service/2024-01-23/regions_without_service__2024-01-23T23-50-16-0400.json\n",
      "Downloading regions_without_service/2024-01-24/regions_without_service__2024-01-24T15-55-15-0400.json to ./archiva-apagones/regions_without_service/2024-01-24/regions_without_service__2024-01-24T15-55-15-0400.json\n",
      "Downloading regions_without_service/2024-01-24/regions_without_service__2024-01-24T12-00-16-0400.json to ./archiva-apagones/regions_without_service/2024-01-24/regions_without_service__2024-01-24T12-00-16-0400.json\n",
      "Downloading regions_without_service/2024-01-24/regions_without_service__2024-01-24T05-05-14-0400.json to ./archiva-apagones/regions_without_service/2024-01-24/regions_without_service__2024-01-24T05-05-14-0400.json\n",
      "Downloading regions_without_service/2024-01-23/regions_without_service__2024-01-23T22-45-18-0400.json to ./archiva-apagones/regions_without_service/2024-01-23/regions_without_service__2024-01-23T22-45-18-0400.json\n",
      "Downloading regions_without_service/2024-01-24/regions_without_service__2024-01-24T09-20-15-0400.json to ./archiva-apagones/regions_without_service/2024-01-24/regions_without_service__2024-01-24T09-20-15-0400.json\n",
      "Downloading regions_without_service/2024-01-24/regions_without_service__2024-01-24T11-20-15-0400.json to ./archiva-apagones/regions_without_service/2024-01-24/regions_without_service__2024-01-24T11-20-15-0400.json\n",
      "Downloading regions_without_service/2024-01-24/regions_without_service__2024-01-24T06-45-15-0400.json to ./archiva-apagones/regions_without_service/2024-01-24/regions_without_service__2024-01-24T06-45-15-0400.json\n",
      "Downloading regions_without_service/2024-01-24/regions_without_service__2024-01-24T02-55-14-0400.json to ./archiva-apagones/regions_without_service/2024-01-24/regions_without_service__2024-01-24T02-55-14-0400.json\n",
      "Downloading regions_without_service/2024-01-24/regions_without_service__2024-01-24T12-25-15-0400.json to ./archiva-apagones/regions_without_service/2024-01-24/regions_without_service__2024-01-24T12-25-15-0400.json\n",
      "Downloading regions_without_service/2024-01-23/regions_without_service__2024-01-23T21-25-13-0400.json to ./archiva-apagones/regions_without_service/2024-01-23/regions_without_service__2024-01-23T21-25-13-0400.json\n",
      "Downloading regions_without_service/2024-01-24/regions_without_service__2024-01-24T10-30-16-0400.json to ./archiva-apagones/regions_without_service/2024-01-24/regions_without_service__2024-01-24T10-30-16-0400.json\n",
      "Downloading regions_without_service/2024-01-24/regions_without_service__2024-01-24T15-25-17-0400.json to ./archiva-apagones/regions_without_service/2024-01-24/regions_without_service__2024-01-24T15-25-17-0400.json\n",
      "Downloading regions_without_service/2024-01-24/regions_without_service__2024-01-24T08-10-17-0400.json to ./archiva-apagones/regions_without_service/2024-01-24/regions_without_service__2024-01-24T08-10-17-0400.json\n",
      "Downloading regions_without_service/2024-01-24/regions_without_service__2024-01-24T14-50-16-0400.json to ./archiva-apagones/regions_without_service/2024-01-24/regions_without_service__2024-01-24T14-50-16-0400.json\n",
      "Downloading regions_without_service/2024-01-23/regions_without_service__2024-01-23T20-40-21-0400.json to ./archiva-apagones/regions_without_service/2024-01-23/regions_without_service__2024-01-23T20-40-21-0400.json\n",
      "Downloading regions_without_service/2024-01-24/regions_without_service__2024-01-24T16-55-13-0400.json to ./archiva-apagones/regions_without_service/2024-01-24/regions_without_service__2024-01-24T16-55-13-0400.json\n",
      "Downloading regions_without_service/2024-01-24/regions_without_service__2024-01-24T12-50-29-0400.json to ./archiva-apagones/regions_without_service/2024-01-24/regions_without_service__2024-01-24T12-50-29-0400.json\n",
      "Downloading regions_without_service/2024-01-24/regions_without_service__2024-01-24T01-30-15-0400.json to ./archiva-apagones/regions_without_service/2024-01-24/regions_without_service__2024-01-24T01-30-15-0400.json\n",
      "Downloading regions_without_service/2024-01-23/regions_without_service__2024-01-23T23-45-17-0400.json to ./archiva-apagones/regions_without_service/2024-01-23/regions_without_service__2024-01-23T23-45-17-0400.json\n",
      "Downloading regions_without_service/2024-01-24/regions_without_service__2024-01-24T15-15-14-0400.json to ./archiva-apagones/regions_without_service/2024-01-24/regions_without_service__2024-01-24T15-15-14-0400.json\n",
      "Downloading regions_without_service/2024-01-24/regions_without_service__2024-01-24T06-40-15-0400.json to ./archiva-apagones/regions_without_service/2024-01-24/regions_without_service__2024-01-24T06-40-15-0400.json\n",
      "Downloading regions_without_service/2024-01-24/regions_without_service__2024-01-24T04-25-17-0400.json to ./archiva-apagones/regions_without_service/2024-01-24/regions_without_service__2024-01-24T04-25-17-0400.json\n",
      "Downloading regions_without_service/2024-01-24/regions_without_service__2024-01-24T04-55-14-0400.json to ./archiva-apagones/regions_without_service/2024-01-24/regions_without_service__2024-01-24T04-55-14-0400.json\n",
      "Downloading regions_without_service/2024-01-24/regions_without_service__2024-01-24T07-40-14-0400.json to ./archiva-apagones/regions_without_service/2024-01-24/regions_without_service__2024-01-24T07-40-14-0400.json\n",
      "Downloading regions_without_service/2024-01-23/regions_without_service__2024-01-23T22-00-20-0400.json to ./archiva-apagones/regions_without_service/2024-01-23/regions_without_service__2024-01-23T22-00-20-0400.json\n",
      "Downloading regions_without_service/2024-01-24/regions_without_service__2024-01-24T07-35-22-0400.json to ./archiva-apagones/regions_without_service/2024-01-24/regions_without_service__2024-01-24T07-35-22-0400.json\n",
      "Downloading regions_without_service/2024-01-23/regions_without_service__2024-01-23T23-55-14-0400.json to ./archiva-apagones/regions_without_service/2024-01-23/regions_without_service__2024-01-23T23-55-14-0400.json\n",
      "Downloading regions_without_service/2024-01-24/regions_without_service__2024-01-24T14-55-14-0400.json to ./archiva-apagones/regions_without_service/2024-01-24/regions_without_service__2024-01-24T14-55-14-0400.json\n",
      "Downloading regions_without_service/2024-01-23/regions_without_service__2024-01-23T21-05-23-0400.json to ./archiva-apagones/regions_without_service/2024-01-23/regions_without_service__2024-01-23T21-05-23-0400.json\n",
      "Downloading regions_without_service/2024-01-23/regions_without_service__2024-01-23T21-35-17-0400.json to ./archiva-apagones/regions_without_service/2024-01-23/regions_without_service__2024-01-23T21-35-17-0400.json\n",
      "Downloading regions_without_service/2024-01-24/regions_without_service__2024-01-24T02-00-18-0400.json to ./archiva-apagones/regions_without_service/2024-01-24/regions_without_service__2024-01-24T02-00-18-0400.json\n",
      "Downloading regions_without_service/2024-01-24/regions_without_service__2024-01-24T05-20-16-0400.json to ./archiva-apagones/regions_without_service/2024-01-24/regions_without_service__2024-01-24T05-20-16-0400.json\n",
      "Downloading regions_without_service/2024-01-24/regions_without_service__2024-01-24T06-25-13-0400.json to ./archiva-apagones/regions_without_service/2024-01-24/regions_without_service__2024-01-24T06-25-13-0400.json\n",
      "Downloading regions_without_service/2024-01-24/regions_without_service__2024-01-24T05-30-17-0400.json to ./archiva-apagones/regions_without_service/2024-01-24/regions_without_service__2024-01-24T05-30-17-0400.json\n",
      "Downloading regions_without_service/2024-01-24/regions_without_service__2024-01-24T06-15-18-0400.json to ./archiva-apagones/regions_without_service/2024-01-24/regions_without_service__2024-01-24T06-15-18-0400.json\n",
      "Downloading regions_without_service/2024-01-24/regions_without_service__2024-01-24T10-15-19-0400.json to ./archiva-apagones/regions_without_service/2024-01-24/regions_without_service__2024-01-24T10-15-19-0400.json\n",
      "Downloading regions_without_service/2024-01-24/regions_without_service__2024-01-24T05-45-17-0400.json to ./archiva-apagones/regions_without_service/2024-01-24/regions_without_service__2024-01-24T05-45-17-0400.json\n",
      "Downloading regions_without_service/2024-01-23/regions_without_service__2024-01-23T20-10-15-0400.json to ./archiva-apagones/regions_without_service/2024-01-23/regions_without_service__2024-01-23T20-10-15-0400.json\n",
      "Downloading regions_without_service/2024-01-24/regions_without_service__2024-01-24T06-35-13-0400.json to ./archiva-apagones/regions_without_service/2024-01-24/regions_without_service__2024-01-24T06-35-13-0400.json\n",
      "Downloading regions_without_service/2024-01-24/regions_without_service__2024-01-24T06-55-13-0400.json to ./archiva-apagones/regions_without_service/2024-01-24/regions_without_service__2024-01-24T06-55-13-0400.json\n",
      "Downloading regions_without_service/2024-01-24/regions_without_service__2024-01-24T05-25-14-0400.json to ./archiva-apagones/regions_without_service/2024-01-24/regions_without_service__2024-01-24T05-25-14-0400.json\n",
      "Downloading regions_without_service/2024-01-24/regions_without_service__2024-01-24T16-00-16-0400.json to ./archiva-apagones/regions_without_service/2024-01-24/regions_without_service__2024-01-24T16-00-16-0400.json\n",
      "Downloading regions_without_service/2024-01-23/regions_without_service__2024-01-23T22-50-17-0400.json to ./archiva-apagones/regions_without_service/2024-01-23/regions_without_service__2024-01-23T22-50-17-0400.json\n",
      "Downloading regions_without_service/2024-01-23/regions_without_service__2024-01-23T23-00-15-0400.json to ./archiva-apagones/regions_without_service/2024-01-23/regions_without_service__2024-01-23T23-00-15-0400.json\n",
      "Downloading regions_without_service/2024-01-24/regions_without_service__2024-01-24T05-35-12-0400.json to ./archiva-apagones/regions_without_service/2024-01-24/regions_without_service__2024-01-24T05-35-12-0400.json\n",
      "Downloading regions_without_service/2024-01-24/regions_without_service__2024-01-24T13-15-17-0400.json to ./archiva-apagones/regions_without_service/2024-01-24/regions_without_service__2024-01-24T13-15-17-0400.json\n",
      "Downloading regions_without_service/2024-01-23/regions_without_service__2024-01-23T22-15-13-0400.json to ./archiva-apagones/regions_without_service/2024-01-23/regions_without_service__2024-01-23T22-15-13-0400.json\n",
      "Downloading regions_without_service/2024-01-24/regions_without_service__2024-01-24T07-10-15-0400.json to ./archiva-apagones/regions_without_service/2024-01-24/regions_without_service__2024-01-24T07-10-15-0400.json\n",
      "Downloading regions_without_service/2024-01-24/regions_without_service__2024-01-24T13-00-17-0400.json to ./archiva-apagones/regions_without_service/2024-01-24/regions_without_service__2024-01-24T13-00-17-0400.json\n",
      "Downloading regions_without_service/2024-01-24/regions_without_service__2024-01-24T00-10-15-0400.json to ./archiva-apagones/regions_without_service/2024-01-24/regions_without_service__2024-01-24T00-10-15-0400.json\n",
      "Downloading regions_without_service/2024-01-24/regions_without_service__2024-01-24T14-35-15-0400.json to ./archiva-apagones/regions_without_service/2024-01-24/regions_without_service__2024-01-24T14-35-15-0400.json\n",
      "Downloading regions_without_service/2024-01-24/regions_without_service__2024-01-24T02-30-15-0400.json to ./archiva-apagones/regions_without_service/2024-01-24/regions_without_service__2024-01-24T02-30-15-0400.json\n",
      "Downloading regions_without_service/2024-01-24/regions_without_service__2024-01-24T01-45-14-0400.json to ./archiva-apagones/regions_without_service/2024-01-24/regions_without_service__2024-01-24T01-45-14-0400.json\n",
      "Downloading regions_without_service/2024-01-24/regions_without_service__2024-01-24T07-50-14-0400.json to ./archiva-apagones/regions_without_service/2024-01-24/regions_without_service__2024-01-24T07-50-14-0400.json\n",
      "Downloading regions_without_service/2024-01-24/regions_without_service__2024-01-24T07-25-13-0400.json to ./archiva-apagones/regions_without_service/2024-01-24/regions_without_service__2024-01-24T07-25-13-0400.json\n",
      "Downloading regions_without_service/2024-01-24/regions_without_service__2024-01-24T15-45-15-0400.json to ./archiva-apagones/regions_without_service/2024-01-24/regions_without_service__2024-01-24T15-45-15-0400.json\n",
      "Downloading regions_without_service/2024-01-24/regions_without_service__2024-01-24T07-00-20-0400.json to ./archiva-apagones/regions_without_service/2024-01-24/regions_without_service__2024-01-24T07-00-20-0400.json\n",
      "Downloading regions_without_service/2024-01-24/regions_without_service__2024-01-24T00-00-16-0400.json to ./archiva-apagones/regions_without_service/2024-01-24/regions_without_service__2024-01-24T00-00-16-0400.json\n",
      "Downloading regions_without_service/2024-01-23/regions_without_service__2024-01-23T21-30-19-0400.json to ./archiva-apagones/regions_without_service/2024-01-23/regions_without_service__2024-01-23T21-30-19-0400.json\n",
      "Downloading regions_without_service/2024-01-24/regions_without_service__2024-01-24T01-15-14-0400.json to ./archiva-apagones/regions_without_service/2024-01-24/regions_without_service__2024-01-24T01-15-14-0400.json\n",
      "Downloading regions_without_service/2024-01-24/regions_without_service__2024-01-24T07-30-17-0400.json to ./archiva-apagones/regions_without_service/2024-01-24/regions_without_service__2024-01-24T07-30-17-0400.json\n",
      "Downloading regions_without_service/2024-01-24/regions_without_service__2024-01-24T02-20-15-0400.json to ./archiva-apagones/regions_without_service/2024-01-24/regions_without_service__2024-01-24T02-20-15-0400.json\n",
      "Downloading regions_without_service/2024-01-24/regions_without_service__2024-01-24T06-00-16-0400.json to ./archiva-apagones/regions_without_service/2024-01-24/regions_without_service__2024-01-24T06-00-16-0400.json\n",
      "Downloading regions_without_service/2024-01-24/regions_without_service__2024-01-24T03-15-16-0400.json to ./archiva-apagones/regions_without_service/2024-01-24/regions_without_service__2024-01-24T03-15-16-0400.json\n",
      "Downloading regions_without_service/2024-01-24/regions_without_service__2024-01-24T01-35-18-0400.json to ./archiva-apagones/regions_without_service/2024-01-24/regions_without_service__2024-01-24T01-35-18-0400.json\n",
      "Downloading regions_without_service/2024-01-24/regions_without_service__2024-01-24T13-05-17-0400.json to ./archiva-apagones/regions_without_service/2024-01-24/regions_without_service__2024-01-24T13-05-17-0400.json\n",
      "Downloading regions_without_service/2024-01-24/regions_without_service__2024-01-24T12-15-18-0400.json to ./archiva-apagones/regions_without_service/2024-01-24/regions_without_service__2024-01-24T12-15-18-0400.json\n",
      "Downloading regions_without_service/2024-01-24/regions_without_service__2024-01-24T11-00-17-0400.json to ./archiva-apagones/regions_without_service/2024-01-24/regions_without_service__2024-01-24T11-00-17-0400.json\n",
      "Downloading regions_without_service/2024-01-24/regions_without_service__2024-01-24T10-00-20-0400.json to ./archiva-apagones/regions_without_service/2024-01-24/regions_without_service__2024-01-24T10-00-20-0400.json\n",
      "Downloading regions_without_service/2024-01-24/regions_without_service__2024-01-24T03-35-16-0400.json to ./archiva-apagones/regions_without_service/2024-01-24/regions_without_service__2024-01-24T03-35-16-0400.json\n",
      "Downloading regions_without_service/2024-01-24/regions_without_service__2024-01-24T03-00-18-0400.json to ./archiva-apagones/regions_without_service/2024-01-24/regions_without_service__2024-01-24T03-00-18-0400.json\n",
      "Downloading regions_without_service/2024-01-24/regions_without_service__2024-01-24T02-10-24-0400.json to ./archiva-apagones/regions_without_service/2024-01-24/regions_without_service__2024-01-24T02-10-24-0400.json\n",
      "Downloading regions_without_service/2024-01-24/regions_without_service__2024-01-24T09-30-16-0400.json to ./archiva-apagones/regions_without_service/2024-01-24/regions_without_service__2024-01-24T09-30-16-0400.json\n",
      "Downloading regions_without_service/2024-01-24/regions_without_service__2024-01-24T15-10-16-0400.json to ./archiva-apagones/regions_without_service/2024-01-24/regions_without_service__2024-01-24T15-10-16-0400.json\n",
      "Downloading regions_without_service/2024-01-24/regions_without_service__2024-01-24T04-00-18-0400.json to ./archiva-apagones/regions_without_service/2024-01-24/regions_without_service__2024-01-24T04-00-18-0400.json\n",
      "Downloading regions_without_service/2024-01-24/regions_without_service__2024-01-24T15-00-17-0400.json to ./archiva-apagones/regions_without_service/2024-01-24/regions_without_service__2024-01-24T15-00-17-0400.json\n",
      "Downloading regions_without_service/2024-01-23/regions_without_service__2024-01-23T23-10-14-0400.json to ./archiva-apagones/regions_without_service/2024-01-23/regions_without_service__2024-01-23T23-10-14-0400.json\n",
      "Downloading regions_without_service/2024-01-24/regions_without_service__2024-01-24T00-55-14-0400.json to ./archiva-apagones/regions_without_service/2024-01-24/regions_without_service__2024-01-24T00-55-14-0400.json\n",
      "Downloading regions_without_service/2024-01-24/regions_without_service__2024-01-24T04-45-17-0400.json to ./archiva-apagones/regions_without_service/2024-01-24/regions_without_service__2024-01-24T04-45-17-0400.json\n",
      "Downloading regions_without_service/2024-01-23/regions_without_service__2024-01-23T23-15-15-0400.json to ./archiva-apagones/regions_without_service/2024-01-23/regions_without_service__2024-01-23T23-15-15-0400.json\n",
      "Downloading regions_without_service/2024-01-23/regions_without_service__2024-01-23T22-40-17-0400.json to ./archiva-apagones/regions_without_service/2024-01-23/regions_without_service__2024-01-23T22-40-17-0400.json\n",
      "Downloading regions_without_service/2024-01-23/regions_without_service__2024-01-23T20-15-17-0400.json to ./archiva-apagones/regions_without_service/2024-01-23/regions_without_service__2024-01-23T20-15-17-0400.json\n",
      "Downloading regions_without_service/2024-01-24/regions_without_service__2024-01-24T08-30-17-0400.json to ./archiva-apagones/regions_without_service/2024-01-24/regions_without_service__2024-01-24T08-30-17-0400.json\n",
      "Downloading regions_without_service/2024-01-24/regions_without_service__2024-01-24T04-50-14-0400.json to ./archiva-apagones/regions_without_service/2024-01-24/regions_without_service__2024-01-24T04-50-14-0400.json\n",
      "Downloading regions_without_service/2024-01-24/regions_without_service__2024-01-24T05-00-18-0400.json to ./archiva-apagones/regions_without_service/2024-01-24/regions_without_service__2024-01-24T05-00-18-0400.json\n",
      "Downloading regions_without_service/2024-01-24/regions_without_service__2024-01-24T16-30-16-0400.json to ./archiva-apagones/regions_without_service/2024-01-24/regions_without_service__2024-01-24T16-30-16-0400.json\n",
      "Downloading regions_without_service/2024-01-24/regions_without_service__2024-01-24T11-10-15-0400.json to ./archiva-apagones/regions_without_service/2024-01-24/regions_without_service__2024-01-24T11-10-15-0400.json\n",
      "Downloading regions_without_service/2024-01-24/regions_without_service__2024-01-24T11-35-16-0400.json to ./archiva-apagones/regions_without_service/2024-01-24/regions_without_service__2024-01-24T11-35-16-0400.json\n",
      "Downloading regions_without_service/2024-01-24/regions_without_service__2024-01-24T14-40-17-0400.json to ./archiva-apagones/regions_without_service/2024-01-24/regions_without_service__2024-01-24T14-40-17-0400.json\n",
      "Downloading regions_without_service/2024-01-23/regions_without_service__2024-01-23T22-55-15-0400.json to ./archiva-apagones/regions_without_service/2024-01-23/regions_without_service__2024-01-23T22-55-15-0400.json\n",
      "Downloading regions_without_service/2024-01-24/regions_without_service__2024-01-24T09-40-16-0400.json to ./archiva-apagones/regions_without_service/2024-01-24/regions_without_service__2024-01-24T09-40-16-0400.json\n",
      "Downloading regions_without_service/2024-01-24/regions_without_service__2024-01-24T01-05-13-0400.json to ./archiva-apagones/regions_without_service/2024-01-24/regions_without_service__2024-01-24T01-05-13-0400.json\n",
      "Downloading regions_without_service/2024-01-24/regions_without_service__2024-01-24T05-50-14-0400.json to ./archiva-apagones/regions_without_service/2024-01-24/regions_without_service__2024-01-24T05-50-14-0400.json\n",
      "Downloading regions_without_service/2024-01-24/regions_without_service__2024-01-24T06-20-16-0400.json to ./archiva-apagones/regions_without_service/2024-01-24/regions_without_service__2024-01-24T06-20-16-0400.json\n",
      "Downloading regions_without_service/2024-01-24/regions_without_service__2024-01-24T13-55-15-0400.json to ./archiva-apagones/regions_without_service/2024-01-24/regions_without_service__2024-01-24T13-55-15-0400.json\n",
      "Downloading regions_without_service/2024-01-24/regions_without_service__2024-01-24T16-40-15-0400.json to ./archiva-apagones/regions_without_service/2024-01-24/regions_without_service__2024-01-24T16-40-15-0400.json\n",
      "Downloading regions_without_service/2024-01-24/regions_without_service__2024-01-24T13-40-14-0400.json to ./archiva-apagones/regions_without_service/2024-01-24/regions_without_service__2024-01-24T13-40-14-0400.json\n",
      "Downloading regions_without_service/2024-01-24/regions_without_service__2024-01-24T02-05-16-0400.json to ./archiva-apagones/regions_without_service/2024-01-24/regions_without_service__2024-01-24T02-05-16-0400.json\n",
      "Downloading regions_without_service/2024-01-24/regions_without_service__2024-01-24T01-00-15-0400.json to ./archiva-apagones/regions_without_service/2024-01-24/regions_without_service__2024-01-24T01-00-15-0400.json\n",
      "Downloading regions_without_service/2024-01-24/regions_without_service__2024-01-24T12-45-16-0400.json to ./archiva-apagones/regions_without_service/2024-01-24/regions_without_service__2024-01-24T12-45-16-0400.json\n",
      "Downloading regions_without_service/2024-01-24/regions_without_service__2024-01-24T12-35-18-0400.json to ./archiva-apagones/regions_without_service/2024-01-24/regions_without_service__2024-01-24T12-35-18-0400.json\n",
      "Downloading regions_without_service/2024-01-24/regions_without_service__2024-01-24T11-30-15-0400.json to ./archiva-apagones/regions_without_service/2024-01-24/regions_without_service__2024-01-24T11-30-15-0400.json\n",
      "Downloading regions_without_service/2024-01-23/regions_without_service__2024-01-23T21-15-18-0400.json to ./archiva-apagones/regions_without_service/2024-01-23/regions_without_service__2024-01-23T21-15-18-0400.json\n",
      "Downloading regions_without_service/2024-01-24/regions_without_service__2024-01-24T08-35-14-0400.json to ./archiva-apagones/regions_without_service/2024-01-24/regions_without_service__2024-01-24T08-35-14-0400.json\n",
      "Downloading regions_without_service/2024-01-24/regions_without_service__2024-01-24T13-20-16-0400.json to ./archiva-apagones/regions_without_service/2024-01-24/regions_without_service__2024-01-24T13-20-16-0400.json\n",
      "Downloading regions_without_service/2024-01-24/regions_without_service__2024-01-24T07-05-14-0400.json to ./archiva-apagones/regions_without_service/2024-01-24/regions_without_service__2024-01-24T07-05-14-0400.json\n",
      "Downloading regions_without_service/2024-01-24/regions_without_service__2024-01-24T12-20-16-0400.json to ./archiva-apagones/regions_without_service/2024-01-24/regions_without_service__2024-01-24T12-20-16-0400.json\n",
      "Downloading regions_without_service/2024-01-24/regions_without_service__2024-01-24T11-55-15-0400.json to ./archiva-apagones/regions_without_service/2024-01-24/regions_without_service__2024-01-24T11-55-15-0400.json\n",
      "Downloading regions_without_service/2024-01-24/regions_without_service__2024-01-24T16-05-15-0400.json to ./archiva-apagones/regions_without_service/2024-01-24/regions_without_service__2024-01-24T16-05-15-0400.json\n",
      "Downloading regions_without_service/2024-01-24/regions_without_service__2024-01-24T10-40-15-0400.json to ./archiva-apagones/regions_without_service/2024-01-24/regions_without_service__2024-01-24T10-40-15-0400.json\n",
      "Downloading regions_without_service/2024-01-24/regions_without_service__2024-01-24T02-25-15-0400.json to ./archiva-apagones/regions_without_service/2024-01-24/regions_without_service__2024-01-24T02-25-15-0400.json\n",
      "Downloading regions_without_service/2024-01-23/regions_without_service__2024-01-23T23-35-15-0400.json to ./archiva-apagones/regions_without_service/2024-01-23/regions_without_service__2024-01-23T23-35-15-0400.json\n",
      "Downloading regions_without_service/2024-01-23/regions_without_service__2024-01-23T20-20-14-0400.json to ./archiva-apagones/regions_without_service/2024-01-23/regions_without_service__2024-01-23T20-20-14-0400.json\n",
      "Downloading regions_without_service/2024-01-24/regions_without_service__2024-01-24T05-15-17-0400.json to ./archiva-apagones/regions_without_service/2024-01-24/regions_without_service__2024-01-24T05-15-17-0400.json\n",
      "Downloading regions_without_service/2024-01-24/regions_without_service__2024-01-24T00-35-16-0400.json to ./archiva-apagones/regions_without_service/2024-01-24/regions_without_service__2024-01-24T00-35-16-0400.json\n",
      "Downloading regions_without_service/2024-01-24/regions_without_service__2024-01-24T06-30-16-0400.json to ./archiva-apagones/regions_without_service/2024-01-24/regions_without_service__2024-01-24T06-30-16-0400.json\n",
      "Downloading regions_without_service/2024-01-24/regions_without_service__2024-01-24T08-40-16-0400.json to ./archiva-apagones/regions_without_service/2024-01-24/regions_without_service__2024-01-24T08-40-16-0400.json\n",
      "Downloading regions_without_service/2024-01-24/regions_without_service__2024-01-24T08-20-16-0400.json to ./archiva-apagones/regions_without_service/2024-01-24/regions_without_service__2024-01-24T08-20-16-0400.json\n",
      "Downloading regions_without_service/2024-01-24/regions_without_service__2024-01-24T13-25-13-0400.json to ./archiva-apagones/regions_without_service/2024-01-24/regions_without_service__2024-01-24T13-25-13-0400.json\n",
      "Downloading regions_without_service/2024-01-23/regions_without_service__2024-01-23T23-40-15-0400.json to ./archiva-apagones/regions_without_service/2024-01-23/regions_without_service__2024-01-23T23-40-15-0400.json\n",
      "Downloading regions_without_service/2024-01-23/regions_without_service__2024-01-23T19-55-24-0400.json to ./archiva-apagones/regions_without_service/2024-01-23/regions_without_service__2024-01-23T19-55-24-0400.json\n",
      "Downloading regions_without_service/2024-01-24/regions_without_service__2024-01-24T00-45-14-0400.json to ./archiva-apagones/regions_without_service/2024-01-24/regions_without_service__2024-01-24T00-45-14-0400.json\n",
      "Downloading regions_without_service/2024-01-24/regions_without_service__2024-01-24T04-05-15-0400.json to ./archiva-apagones/regions_without_service/2024-01-24/regions_without_service__2024-01-24T04-05-15-0400.json\n",
      "Downloading regions_without_service/2024-01-24/regions_without_service__2024-01-24T14-05-14-0400.json to ./archiva-apagones/regions_without_service/2024-01-24/regions_without_service__2024-01-24T14-05-14-0400.json\n",
      "Downloading regions_without_service/2024-01-24/regions_without_service__2024-01-24T08-55-15-0400.json to ./archiva-apagones/regions_without_service/2024-01-24/regions_without_service__2024-01-24T08-55-15-0400.json\n",
      "Downloading regions_without_service/2024-01-24/regions_without_service__2024-01-24T11-40-16-0400.json to ./archiva-apagones/regions_without_service/2024-01-24/regions_without_service__2024-01-24T11-40-16-0400.json\n",
      "Downloading regions_without_service/2024-01-24/regions_without_service__2024-01-24T10-45-16-0400.json to ./archiva-apagones/regions_without_service/2024-01-24/regions_without_service__2024-01-24T10-45-16-0400.json\n",
      "Downloading regions_without_service/2024-01-24/regions_without_service__2024-01-24T15-50-16-0400.json to ./archiva-apagones/regions_without_service/2024-01-24/regions_without_service__2024-01-24T15-50-16-0400.json\n",
      "Downloading regions_without_service/2024-01-24/regions_without_service__2024-01-24T09-35-18-0400.json to ./archiva-apagones/regions_without_service/2024-01-24/regions_without_service__2024-01-24T09-35-18-0400.json\n",
      "Downloading regions_without_service/2024-01-23/regions_without_service__2024-01-23T21-50-18-0400.json to ./archiva-apagones/regions_without_service/2024-01-23/regions_without_service__2024-01-23T21-50-18-0400.json\n",
      "Downloading regions_without_service/2024-01-24/regions_without_service__2024-01-24T07-20-19-0400.json to ./archiva-apagones/regions_without_service/2024-01-24/regions_without_service__2024-01-24T07-20-19-0400.json\n",
      "Downloading regions_without_service/2024-01-23/regions_without_service__2024-01-23T22-25-14-0400.json to ./archiva-apagones/regions_without_service/2024-01-23/regions_without_service__2024-01-23T22-25-14-0400.json\n",
      "Downloading regions_without_service/2024-01-24/regions_without_service__2024-01-24T09-00-17-0400.json to ./archiva-apagones/regions_without_service/2024-01-24/regions_without_service__2024-01-24T09-00-17-0400.json\n",
      "Downloading regions_without_service/2024-01-24/regions_without_service__2024-01-24T14-30-16-0400.json to ./archiva-apagones/regions_without_service/2024-01-24/regions_without_service__2024-01-24T14-30-16-0400.json\n",
      "Downloading regions_without_service/2024-01-24/regions_without_service__2024-01-24T16-35-18-0400.json to ./archiva-apagones/regions_without_service/2024-01-24/regions_without_service__2024-01-24T16-35-18-0400.json\n",
      "Downloading regions_without_service/2024-01-24/regions_without_service__2024-01-24T00-50-15-0400.json to ./archiva-apagones/regions_without_service/2024-01-24/regions_without_service__2024-01-24T00-50-15-0400.json\n",
      "Downloading regions_without_service/2024-01-24/regions_without_service__2024-01-24T10-25-15-0400.json to ./archiva-apagones/regions_without_service/2024-01-24/regions_without_service__2024-01-24T10-25-15-0400.json\n",
      "Downloading regions_without_service/2024-01-24/regions_without_service__2024-01-24T09-05-14-0400.json to ./archiva-apagones/regions_without_service/2024-01-24/regions_without_service__2024-01-24T09-05-14-0400.json\n",
      "Downloading regions_without_service/2024-01-24/regions_without_service__2024-01-24T03-30-16-0400.json to ./archiva-apagones/regions_without_service/2024-01-24/regions_without_service__2024-01-24T03-30-16-0400.json\n",
      "Downloading regions_without_service/2024-01-23/regions_without_service__2024-01-23T21-20-17-0400.json to ./archiva-apagones/regions_without_service/2024-01-23/regions_without_service__2024-01-23T21-20-17-0400.json\n",
      "Downloading regions_without_service/2024-01-24/regions_without_service__2024-01-24T11-25-16-0400.json to ./archiva-apagones/regions_without_service/2024-01-24/regions_without_service__2024-01-24T11-25-16-0400.json\n",
      "Downloading regions_without_service/2024-01-23/regions_without_service__2024-01-23T22-10-19-0400.json to ./archiva-apagones/regions_without_service/2024-01-23/regions_without_service__2024-01-23T22-10-19-0400.json\n",
      "Downloading regions_without_service/2024-01-24/regions_without_service__2024-01-24T14-45-14-0400.json to ./archiva-apagones/regions_without_service/2024-01-24/regions_without_service__2024-01-24T14-45-14-0400.json\n",
      "Downloading regions_without_service/2024-01-24/regions_without_service__2024-01-24T16-10-17-0400.json to ./archiva-apagones/regions_without_service/2024-01-24/regions_without_service__2024-01-24T16-10-17-0400.json\n",
      "Downloading regions_without_service/2024-01-24/regions_without_service__2024-01-24T03-45-17-0400.json to ./archiva-apagones/regions_without_service/2024-01-24/regions_without_service__2024-01-24T03-45-17-0400.json\n",
      "Downloading regions_without_service/2024-01-24/regions_without_service__2024-01-24T10-35-18-0400.json to ./archiva-apagones/regions_without_service/2024-01-24/regions_without_service__2024-01-24T10-35-18-0400.json\n",
      "Downloading regions_without_service/2024-01-24/regions_without_service__2024-01-24T07-45-15-0400.json to ./archiva-apagones/regions_without_service/2024-01-24/regions_without_service__2024-01-24T07-45-15-0400.json\n",
      "Downloading regions_without_service/2024-01-23/regions_without_service__2024-01-23T20-45-21-0400.json to ./archiva-apagones/regions_without_service/2024-01-23/regions_without_service__2024-01-23T20-45-21-0400.json\n",
      "Downloading regions_without_service/2024-01-24/regions_without_service__2024-01-24T12-05-14-0400.json to ./archiva-apagones/regions_without_service/2024-01-24/regions_without_service__2024-01-24T12-05-14-0400.json\n",
      "Downloading regions_without_service/2024-01-24/regions_without_service__2024-01-24T00-40-14-0400.json to ./archiva-apagones/regions_without_service/2024-01-24/regions_without_service__2024-01-24T00-40-14-0400.json\n",
      "Downloading regions_without_service/2024-01-24/regions_without_service__2024-01-24T04-10-15-0400.json to ./archiva-apagones/regions_without_service/2024-01-24/regions_without_service__2024-01-24T04-10-15-0400.json\n",
      "Downloading regions_without_service/2024-01-24/regions_without_service__2024-01-24T14-15-16-0400.json to ./archiva-apagones/regions_without_service/2024-01-24/regions_without_service__2024-01-24T14-15-16-0400.json\n",
      "Downloading regions_without_service/2024-01-23/regions_without_service__2024-01-23T21-10-16-0400.json to ./archiva-apagones/regions_without_service/2024-01-23/regions_without_service__2024-01-23T21-10-16-0400.json\n",
      "Downloading regions_without_service/2024-01-23/regions_without_service__2024-01-23T19-50-22-0400.json to ./archiva-apagones/regions_without_service/2024-01-23/regions_without_service__2024-01-23T19-50-22-0400.json\n",
      "Downloading regions_without_service/2024-01-24/regions_without_service__2024-01-24T01-25-13-0400.json to ./archiva-apagones/regions_without_service/2024-01-24/regions_without_service__2024-01-24T01-25-13-0400.json\n",
      "Downloading regions_without_service/2024-01-24/regions_without_service__2024-01-24T16-25-16-0400.json to ./archiva-apagones/regions_without_service/2024-01-24/regions_without_service__2024-01-24T16-25-16-0400.json\n",
      "Downloading regions_without_service/2024-01-23/regions_without_service__2024-01-23T20-35-15-0400.json to ./archiva-apagones/regions_without_service/2024-01-23/regions_without_service__2024-01-23T20-35-15-0400.json\n",
      "Downloading regions_without_service/2024-01-24/regions_without_service__2024-01-24T07-15-14-0400.json to ./archiva-apagones/regions_without_service/2024-01-24/regions_without_service__2024-01-24T07-15-14-0400.json\n",
      "Downloading regions_without_service/2024-01-23/regions_without_service__2024-01-23T21-00-19-0400.json to ./archiva-apagones/regions_without_service/2024-01-23/regions_without_service__2024-01-23T21-00-19-0400.json\n",
      "Downloading regions_without_service/2024-01-23/regions_without_service__2024-01-23T22-30-18-0400.json to ./archiva-apagones/regions_without_service/2024-01-23/regions_without_service__2024-01-23T22-30-18-0400.json\n",
      "Downloading regions_without_service/2024-01-24/regions_without_service__2024-01-24T13-30-16-0400.json to ./archiva-apagones/regions_without_service/2024-01-24/regions_without_service__2024-01-24T13-30-16-0400.json\n",
      "Downloading regions_without_service/2024-01-24/regions_without_service__2024-01-24T00-15-38-0400.json to ./archiva-apagones/regions_without_service/2024-01-24/regions_without_service__2024-01-24T00-15-38-0400.json\n",
      "Downloading regions_without_service/2024-01-24/regions_without_service__2024-01-24T03-50-18-0400.json to ./archiva-apagones/regions_without_service/2024-01-24/regions_without_service__2024-01-24T03-50-18-0400.json\n",
      "Downloading regions_without_service/2024-01-24/regions_without_service__2024-01-24T05-40-15-0400.json to ./archiva-apagones/regions_without_service/2024-01-24/regions_without_service__2024-01-24T05-40-15-0400.json\n",
      "Downloading regions_without_service/2024-01-24/regions_without_service__2024-01-24T09-45-15-0400.json to ./archiva-apagones/regions_without_service/2024-01-24/regions_without_service__2024-01-24T09-45-15-0400.json\n",
      "Downloading regions_without_service/2024-01-24/regions_without_service__2024-01-24T08-50-17-0400.json to ./archiva-apagones/regions_without_service/2024-01-24/regions_without_service__2024-01-24T08-50-17-0400.json\n",
      "Downloading regions_without_service/2024-01-23/regions_without_service__2024-01-23T23-05-15-0400.json to ./archiva-apagones/regions_without_service/2024-01-23/regions_without_service__2024-01-23T23-05-15-0400.json\n",
      "Downloading regions_without_service/2024-01-24/regions_without_service__2024-01-24T02-50-14-0400.json to ./archiva-apagones/regions_without_service/2024-01-24/regions_without_service__2024-01-24T02-50-14-0400.json\n",
      "Downloading regions_without_service/2024-01-24/regions_without_service__2024-01-24T10-50-15-0400.json to ./archiva-apagones/regions_without_service/2024-01-24/regions_without_service__2024-01-24T10-50-15-0400.json\n",
      "Downloading regions_without_service/2024-01-24/regions_without_service__2024-01-24T02-45-14-0400.json to ./archiva-apagones/regions_without_service/2024-01-24/regions_without_service__2024-01-24T02-45-14-0400.json\n",
      "Downloading regions_without_service/2024-01-24/regions_without_service__2024-01-24T11-15-17-0400.json to ./archiva-apagones/regions_without_service/2024-01-24/regions_without_service__2024-01-24T11-15-17-0400.json\n",
      "Downloading regions_without_service/2024-01-24/regions_without_service__2024-01-24T12-10-15-0400.json to ./archiva-apagones/regions_without_service/2024-01-24/regions_without_service__2024-01-24T12-10-15-0400.json\n",
      "Downloading regions_without_service/2024-01-24/regions_without_service__2024-01-24T00-20-16-0400.json to ./archiva-apagones/regions_without_service/2024-01-24/regions_without_service__2024-01-24T00-20-16-0400.json\n",
      "Downloading regions_without_service/2024-01-24/regions_without_service__2024-01-24T08-05-17-0400.json to ./archiva-apagones/regions_without_service/2024-01-24/regions_without_service__2024-01-24T08-05-17-0400.json\n",
      "Downloading regions_without_service/2024-01-24/regions_without_service__2024-01-24T09-15-37-0400.json to ./archiva-apagones/regions_without_service/2024-01-24/regions_without_service__2024-01-24T09-15-37-0400.json\n",
      "Downloading regions_without_service/2024-01-24/regions_without_service__2024-01-24T03-05-14-0400.json to ./archiva-apagones/regions_without_service/2024-01-24/regions_without_service__2024-01-24T03-05-14-0400.json\n",
      "Downloading regions_without_service/2024-01-24/regions_without_service__2024-01-24T05-55-14-0400.json to ./archiva-apagones/regions_without_service/2024-01-24/regions_without_service__2024-01-24T05-55-14-0400.json\n",
      "Downloading regions_without_service/2024-01-24/regions_without_service__2024-01-24T14-25-13-0400.json to ./archiva-apagones/regions_without_service/2024-01-24/regions_without_service__2024-01-24T14-25-13-0400.json\n",
      "Downloading regions_without_service/2024-01-24/regions_without_service__2024-01-24T07-55-14-0400.json to ./archiva-apagones/regions_without_service/2024-01-24/regions_without_service__2024-01-24T07-55-14-0400.json\n",
      "Downloading regions_without_service/2024-01-23/regions_without_service__2024-01-23T21-45-13-0400.json to ./archiva-apagones/regions_without_service/2024-01-23/regions_without_service__2024-01-23T21-45-13-0400.json\n",
      "Downloading regions_without_service/2024-01-24/regions_without_service__2024-01-24T01-40-14-0400.json to ./archiva-apagones/regions_without_service/2024-01-24/regions_without_service__2024-01-24T01-40-14-0400.json\n",
      "Downloading regions_without_service/2024-01-24/regions_without_service__2024-01-24T06-05-13-0400.json to ./archiva-apagones/regions_without_service/2024-01-24/regions_without_service__2024-01-24T06-05-13-0400.json\n",
      "Downloading regions_without_service/2024-01-24/regions_without_service__2024-01-24T16-45-18-0400.json to ./archiva-apagones/regions_without_service/2024-01-24/regions_without_service__2024-01-24T16-45-18-0400.json\n",
      "Downloading regions_without_service/2024-01-23/regions_without_service__2024-01-23T20-25-15-0400.json to ./archiva-apagones/regions_without_service/2024-01-23/regions_without_service__2024-01-23T20-25-15-0400.json\n",
      "Downloading regions_without_service/2024-01-23/regions_without_service__2024-01-23T22-20-18-0400.json to ./archiva-apagones/regions_without_service/2024-01-23/regions_without_service__2024-01-23T22-20-18-0400.json\n",
      "Downloading regions_without_service/2024-01-24/regions_without_service__2024-01-24T13-45-14-0400.json to ./archiva-apagones/regions_without_service/2024-01-24/regions_without_service__2024-01-24T13-45-14-0400.json\n",
      "Downloading regions_without_service/2024-01-23/regions_without_service__2024-01-23T23-20-18-0400.json to ./archiva-apagones/regions_without_service/2024-01-23/regions_without_service__2024-01-23T23-20-18-0400.json\n",
      "Downloading regions_without_service/2024-01-24/regions_without_service__2024-01-24T03-20-15-0400.json to ./archiva-apagones/regions_without_service/2024-01-24/regions_without_service__2024-01-24T03-20-15-0400.json\n",
      "Downloading regions_without_service/2024-01-24/regions_without_service__2024-01-24T00-05-12-0400.json to ./archiva-apagones/regions_without_service/2024-01-24/regions_without_service__2024-01-24T00-05-12-0400.json\n",
      "Downloading regions_without_service/2024-01-23/regions_without_service__2024-01-23T23-30-15-0400.json to ./archiva-apagones/regions_without_service/2024-01-23/regions_without_service__2024-01-23T23-30-15-0400.json\n",
      "Downloading regions_without_service/2024-01-24/regions_without_service__2024-01-24T16-15-15-0400.json to ./archiva-apagones/regions_without_service/2024-01-24/regions_without_service__2024-01-24T16-15-15-0400.json\n",
      "Downloading regions_without_service/2024-01-23/regions_without_service__2024-01-23T20-05-15-0400.json to ./archiva-apagones/regions_without_service/2024-01-23/regions_without_service__2024-01-23T20-05-15-0400.json\n",
      "Downloading regions_without_service/2024-01-24/regions_without_service__2024-01-24T11-45-14-0400.json to ./archiva-apagones/regions_without_service/2024-01-24/regions_without_service__2024-01-24T11-45-14-0400.json\n",
      "Downloading regions_without_service/2024-01-24/regions_without_service__2024-01-24T03-40-17-0400.json to ./archiva-apagones/regions_without_service/2024-01-24/regions_without_service__2024-01-24T03-40-17-0400.json\n",
      "Downloading regions_without_service/2024-01-24/regions_without_service__2024-01-24T00-30-18-0400.json to ./archiva-apagones/regions_without_service/2024-01-24/regions_without_service__2024-01-24T00-30-18-0400.json\n",
      "Downloading regions_without_service/2024-01-23/regions_without_service__2024-01-23T23-25-13-0400.json to ./archiva-apagones/regions_without_service/2024-01-23/regions_without_service__2024-01-23T23-25-13-0400.json\n",
      "Downloading regions_without_service/2024-01-24/regions_without_service__2024-01-24T15-05-15-0400.json to ./archiva-apagones/regions_without_service/2024-01-24/regions_without_service__2024-01-24T15-05-15-0400.json\n",
      "Downloading regions_without_service/2024-01-24/regions_without_service__2024-01-24T08-45-15-0400.json to ./archiva-apagones/regions_without_service/2024-01-24/regions_without_service__2024-01-24T08-45-15-0400.json\n",
      "Downloading regions_without_service/2024-01-24/regions_without_service__2024-01-24T10-55-15-0400.json to ./archiva-apagones/regions_without_service/2024-01-24/regions_without_service__2024-01-24T10-55-15-0400.json\n",
      "Downloading regions_without_service/2024-01-24/regions_without_service__2024-01-24T10-10-17-0400.json to ./archiva-apagones/regions_without_service/2024-01-24/regions_without_service__2024-01-24T10-10-17-0400.json\n",
      "Downloading regions_without_service/2024-01-24/regions_without_service__2024-01-24T01-20-15-0400.json to ./archiva-apagones/regions_without_service/2024-01-24/regions_without_service__2024-01-24T01-20-15-0400.json\n",
      "Downloading regions_without_service/2024-01-24/regions_without_service__2024-01-24T12-30-15-0400.json to ./archiva-apagones/regions_without_service/2024-01-24/regions_without_service__2024-01-24T12-30-15-0400.json\n",
      "Downloading regions_without_service/2024-01-23/regions_without_service__2024-01-23T20-30-18-0400.json to ./archiva-apagones/regions_without_service/2024-01-23/regions_without_service__2024-01-23T20-30-18-0400.json\n",
      "Downloading regions_without_service/2024-01-23/regions_without_service__2024-01-23T20-55-16-0400.json to ./archiva-apagones/regions_without_service/2024-01-23/regions_without_service__2024-01-23T20-55-16-0400.json\n",
      "Downloading regions_without_service/2024-01-24/regions_without_service__2024-01-24T02-15-16-0400.json to ./archiva-apagones/regions_without_service/2024-01-24/regions_without_service__2024-01-24T02-15-16-0400.json\n",
      "Downloading regions_without_service/2024-01-24/regions_without_service__2024-01-24T10-20-17-0400.json to ./archiva-apagones/regions_without_service/2024-01-24/regions_without_service__2024-01-24T10-20-17-0400.json\n",
      "Elapsed time: 0.012359142303466797 seconds\n"
     ]
    }
   ],
   "source": [
    "# Download missing objects\n",
    "start_time = time.time()\n",
    "for obj_key in missing_keys:\n",
    "    local_path = os.path.join(local_bucket_path, obj_key)\n",
    "    download_object(s3t, obj_key, local_path, verbose=True)\n",
    "end_time = time.time()\n",
    "elapsed_time = end_time - start_time\n",
    "print(f\"Elapsed time: {elapsed_time} seconds\")"
   ]
  },
  {
   "cell_type": "code",
   "execution_count": 146,
   "metadata": {},
   "outputs": [
    {
     "data": {
      "text/plain": [
       "<duckdb.duckdb.DuckDBPyConnection at 0x10e277730>"
      ]
     },
     "execution_count": 146,
     "metadata": {},
     "output_type": "execute_result"
    }
   ],
   "source": [
    "con.execute(\n",
    "'''\n",
    "create or replace TEMP table raw_regions_without_service as (\n",
    "    select *\n",
    "    -- from read_json('s3://archiva-apagones/regions_without_service/2023-12-19/*.json', filename=true, auto_detect=true, format='auto') -- globs too much \n",
    "    from read_json('./archiva-apagones/regions_without_service/*/*.json', filename=true, auto_detect=true, format='auto') \n",
    ")\n",
    "''')\n",
    "# select * from read_json('samples/regions_without_service/*.json', filename=true, auto_detect=true, format='auto')"
   ]
  },
  {
   "cell_type": "code",
   "execution_count": 129,
   "metadata": {},
   "outputs": [],
   "source": [
    "# con.close()"
   ]
  },
  {
   "cell_type": "code",
   "execution_count": 147,
   "metadata": {},
   "outputs": [
    {
     "data": {
      "text/plain": [
       "┌─────────────┬────────────────────────────────────────────────────────────────┬─────────┬─────────┬─────────┬─────────┐\n",
       "│ column_name │                          column_type                           │  null   │   key   │ default │  extra  │\n",
       "│   varchar   │                            varchar                             │ varchar │ varchar │ varchar │ varchar │\n",
       "├─────────────┼────────────────────────────────────────────────────────────────┼─────────┼─────────┼─────────┼─────────┤\n",
       "│ regions     │ STRUCT(\"name\" VARCHAR, percentageClientsWithService DOUBLE, …  │ YES     │ NULL    │ NULL    │ NULL    │\n",
       "│ timestamp   │ VARCHAR                                                        │ YES     │ NULL    │ NULL    │ NULL    │\n",
       "│ totals      │ STRUCT(totalClients BIGINT, totalClientsWithService BIGINT, …  │ YES     │ NULL    │ NULL    │ NULL    │\n",
       "│ filename    │ VARCHAR                                                        │ YES     │ NULL    │ NULL    │ NULL    │\n",
       "└─────────────┴────────────────────────────────────────────────────────────────┴─────────┴─────────┴─────────┴─────────┘"
      ]
     },
     "execution_count": 147,
     "metadata": {},
     "output_type": "execute_result"
    }
   ],
   "source": [
    "con.sql(\n",
    "'''\n",
    "describe\n",
    "    select\n",
    "        *\n",
    "    from raw_regions_without_service\n",
    "''')"
   ]
  },
  {
   "cell_type": "code",
   "execution_count": 131,
   "metadata": {},
   "outputs": [
    {
     "data": {
      "text/plain": [
       "┌──────────────────────┬─────────────────────┬──────────────────────┬──────────────────────┬───────────────────────────┐\n",
       "│ marca_hora_present…  │ marca_hora_accedida │       regions        │        totals        │        object_key         │\n",
       "│      timestamp       │      timestamp      │ struct(\"name\" varc…  │ struct(totalclient…  │          varchar          │\n",
       "├──────────────────────┼─────────────────────┼──────────────────────┼──────────────────────┼───────────────────────────┤\n",
       "│ 2023-12-25 11:50:00  │ 2023-12-25 11:50:18 │ [{'name': Arecibo,…  │ {'totalClients': 1…  │ regions_without_service…  │\n",
       "│ 2023-12-25 05:25:00  │ 2023-12-25 05:25:18 │ [{'name': Arecibo,…  │ {'totalClients': 1…  │ regions_without_service…  │\n",
       "│ 2023-12-25 13:30:00  │ 2023-12-25 13:30:20 │ [{'name': Arecibo,…  │ {'totalClients': 1…  │ regions_without_service…  │\n",
       "│ 2023-12-25 21:30:00  │ 2023-12-25 21:30:18 │ [{'name': Arecibo,…  │ {'totalClients': 1…  │ regions_without_service…  │\n",
       "│ 2023-12-25 02:55:00  │ 2023-12-25 02:55:18 │ [{'name': Arecibo,…  │ {'totalClients': 1…  │ regions_without_service…  │\n",
       "│ 2023-12-25 12:15:00  │ 2023-12-25 12:15:19 │ [{'name': Arecibo,…  │ {'totalClients': 1…  │ regions_without_service…  │\n",
       "│ 2023-12-25 12:40:00  │ 2023-12-25 12:40:19 │ [{'name': Arecibo,…  │ {'totalClients': 1…  │ regions_without_service…  │\n",
       "│ 2023-12-25 22:40:00  │ 2023-12-25 22:40:17 │ [{'name': Arecibo,…  │ {'totalClients': 1…  │ regions_without_service…  │\n",
       "│ 2023-12-25 23:05:00  │ 2023-12-25 23:05:15 │ [{'name': Arecibo,…  │ {'totalClients': 1…  │ regions_without_service…  │\n",
       "│ 2023-12-25 12:20:00  │ 2023-12-25 12:20:17 │ [{'name': Arecibo,…  │ {'totalClients': 1…  │ regions_without_service…  │\n",
       "│          ·           │          ·          │          ·           │          ·           │             ·             │\n",
       "│          ·           │          ·          │          ·           │          ·           │             ·             │\n",
       "│          ·           │          ·          │          ·           │          ·           │             ·             │\n",
       "│ 2024-01-06 14:25:00  │ 2024-01-06 14:25:15 │ [{'name': Arecibo,…  │ {'totalClients': 1…  │ regions_without_service…  │\n",
       "│ 2024-01-06 11:00:00  │ 2024-01-06 11:00:16 │ [{'name': Arecibo,…  │ {'totalClients': 1…  │ regions_without_service…  │\n",
       "│ 2024-01-06 12:25:00  │ 2024-01-06 12:25:14 │ [{'name': Arecibo,…  │ {'totalClients': 1…  │ regions_without_service…  │\n",
       "│ 2024-01-06 06:50:00  │ 2024-01-06 06:50:14 │ [{'name': Arecibo,…  │ {'totalClients': 1…  │ regions_without_service…  │\n",
       "│ 2024-01-06 06:05:00  │ 2024-01-06 06:05:14 │ [{'name': Arecibo,…  │ {'totalClients': 1…  │ regions_without_service…  │\n",
       "│ 2024-01-06 01:20:00  │ 2024-01-06 01:20:14 │ [{'name': Arecibo,…  │ {'totalClients': 1…  │ regions_without_service…  │\n",
       "│ 2024-01-06 15:55:00  │ 2024-01-06 15:55:14 │ [{'name': Arecibo,…  │ {'totalClients': 1…  │ regions_without_service…  │\n",
       "│ 2024-01-06 14:10:00  │ 2024-01-06 14:10:16 │ [{'name': Arecibo,…  │ {'totalClients': 1…  │ regions_without_service…  │\n",
       "│ 2024-01-06 22:45:00  │ 2024-01-06 22:45:14 │ [{'name': Arecibo,…  │ {'totalClients': 1…  │ regions_without_service…  │\n",
       "│ 2024-01-06 17:45:00  │ 2024-01-06 17:45:12 │ [{'name': Arecibo,…  │ {'totalClients': 1…  │ regions_without_service…  │\n",
       "├──────────────────────┴─────────────────────┴──────────────────────┴──────────────────────┴───────────────────────────┤\n",
       "│ ? rows (>9999 rows, 20 shown)                                                                              5 columns │\n",
       "└──────────────────────────────────────────────────────────────────────────────────────────────────────────────────────┘"
      ]
     },
     "execution_count": 131,
     "metadata": {},
     "output_type": "execute_result"
    }
   ],
   "source": [
    "\"%Y-%m-%dT%H-%M-%S%z\"\n",
    "con.sql(\n",
    "f'''\n",
    "    select\n",
    "        strptime(\"timestamp\", '%m/%d/%Y %I:%M %p') as \"marca_hora_presentada\",\n",
    "        -- totals.totalClients as clientes,\n",
    "        -- totals.totalClientsWithService as clientes_con_servicio,\n",
    "        -- totals.totalClientsWithoutService as clientes_sin_servicio,\n",
    "        filename\n",
    "            .string_split('__')[2]\n",
    "            .regexp_extract('(.*).json', 1)\n",
    "            .strptime('%Y-%m-%dT%H-%M-%S%z')\n",
    "            ::TIMESTAMP -- drop timezone\n",
    "            as \"marca_hora_accedida\",\n",
    "        regions,\n",
    "        totals,\n",
    "        filename\n",
    "            .string_split('{local_bucket_path}')[2]\n",
    "            .ltrim('/')\n",
    "            as object_key\n",
    "        , -- TODO: Check que sea versatil para local y github actions workflow\n",
    "        \n",
    "    from raw_regions_without_service\n",
    "''')"
   ]
  },
  {
   "cell_type": "code",
   "execution_count": 148,
   "metadata": {},
   "outputs": [
    {
     "data": {
      "text/plain": [
       "<duckdb.duckdb.DuckDBPyConnection at 0x10e277730>"
      ]
     },
     "execution_count": 148,
     "metadata": {},
     "output_type": "execute_result"
    }
   ],
   "source": [
    "\"%Y-%m-%dT%H-%M-%S%z\"\n",
    "con.execute(\n",
    "f'''\n",
    "create or replace table regions_without_service_staging as (\n",
    "    select\n",
    "        strptime(\"timestamp\", '%m/%d/%Y %I:%M %p') as \"marca_hora_presentada\",\n",
    "        -- totals.totalClients as clientes,\n",
    "        -- totals.totalClientsWithService as clientes_con_servicio,\n",
    "        -- totals.totalClientsWithoutService as clientes_sin_servicio,\n",
    "        filename\n",
    "            .string_split('__')[2]\n",
    "            .regexp_extract('(.*).json', 1)\n",
    "            .strptime('%Y-%m-%dT%H-%M-%S%z')\n",
    "            ::TIMESTAMP -- drop timezone\n",
    "            as \"marca_hora_accedida\",\n",
    "        regions,\n",
    "        totals,\n",
    "        filename\n",
    "            .string_split('{local_bucket_path}')[2]\n",
    "            .ltrim('/')\n",
    "            as object_key\n",
    "        , -- TODO: Check que sea versatil para local y github actions workflow\n",
    "        \n",
    "    from raw_regions_without_service\n",
    ");\n",
    "''')"
   ]
  },
  {
   "cell_type": "code",
   "execution_count": 149,
   "metadata": {},
   "outputs": [
    {
     "data": {
      "text/plain": [
       "┌───────────────────────────────────────────────────────────────────────────────────────────┐\n",
       "│                                        object_key                                         │\n",
       "│                                          varchar                                          │\n",
       "├───────────────────────────────────────────────────────────────────────────────────────────┤\n",
       "│ regions_without_service/2023-12-25/regions_without_service__2023-12-25T12-15-19-0400.json │\n",
       "│ regions_without_service/2023-12-25/regions_without_service__2023-12-25T12-40-19-0400.json │\n",
       "│ regions_without_service/2023-12-25/regions_without_service__2023-12-25T23-05-15-0400.json │\n",
       "│ regions_without_service/2023-12-25/regions_without_service__2023-12-25T19-50-18-0400.json │\n",
       "│ regions_without_service/2023-12-25/regions_without_service__2023-12-25T18-00-22-0400.json │\n",
       "│ regions_without_service/2023-12-25/regions_without_service__2023-12-25T06-35-18-0400.json │\n",
       "│ regions_without_service/2023-12-25/regions_without_service__2023-12-25T11-45-19-0400.json │\n",
       "│ regions_without_service/2023-12-25/regions_without_service__2023-12-25T05-30-21-0400.json │\n",
       "│ regions_without_service/2023-12-25/regions_without_service__2023-12-25T23-50-19-0400.json │\n",
       "│ regions_without_service/2023-12-25/regions_without_service__2023-12-25T22-05-20-0400.json │\n",
       "│                                             ·                                             │\n",
       "│                                             ·                                             │\n",
       "│                                             ·                                             │\n",
       "│ regions_without_service/2024-01-06/regions_without_service__2024-01-06T05-35-15-0400.json │\n",
       "│ regions_without_service/2024-01-06/regions_without_service__2024-01-06T05-10-13-0400.json │\n",
       "│ regions_without_service/2024-01-06/regions_without_service__2024-01-06T00-15-14-0400.json │\n",
       "│ regions_without_service/2024-01-06/regions_without_service__2024-01-06T10-00-15-0400.json │\n",
       "│ regions_without_service/2024-01-06/regions_without_service__2024-01-06T01-45-16-0400.json │\n",
       "│ regions_without_service/2024-01-06/regions_without_service__2024-01-06T20-15-16-0400.json │\n",
       "│ regions_without_service/2024-01-06/regions_without_service__2024-01-06T13-55-17-0400.json │\n",
       "│ regions_without_service/2024-01-06/regions_without_service__2024-01-06T06-25-15-0400.json │\n",
       "│ regions_without_service/2024-01-06/regions_without_service__2024-01-06T07-00-16-0400.json │\n",
       "│ regions_without_service/2024-01-06/regions_without_service__2024-01-06T02-50-14-0400.json │\n",
       "├───────────────────────────────────────────────────────────────────────────────────────────┤\n",
       "│                               ? rows (>9999 rows, 20 shown)                               │\n",
       "└───────────────────────────────────────────────────────────────────────────────────────────┘"
      ]
     },
     "execution_count": 149,
     "metadata": {},
     "output_type": "execute_result"
    }
   ],
   "source": [
    "con.sql(\n",
    "'''\n",
    "select \n",
    "    distinct object_key\n",
    "from regions_without_service_staging\n",
    "'''\n",
    ")#.fetchall()"
   ]
  },
  {
   "cell_type": "code",
   "execution_count": 134,
   "metadata": {},
   "outputs": [
    {
     "data": {
      "text/plain": [
       "┌──────────────────────┬─────────────────────┬───┬──────────────────────┬──────────────────────┬──────────────────────┐\n",
       "│ marca_hora_present…  │ marca_hora_accedida │ … │ total_clientes_sin…  │ porcentaje_cliente…  │ porcentaje_cliente…  │\n",
       "│      timestamp       │      timestamp      │   │        int64         │        double        │        double        │\n",
       "├──────────────────────┼─────────────────────┼───┼──────────────────────┼──────────────────────┼──────────────────────┤\n",
       "│ 2023-12-25 11:50:00  │ 2023-12-25 11:50:18 │ … │                  335 │                99.98 │                 0.02 │\n",
       "│ 2023-12-25 05:25:00  │ 2023-12-25 05:25:18 │ … │                  847 │                99.94 │                 0.06 │\n",
       "│ 2023-12-25 13:30:00  │ 2023-12-25 13:30:20 │ … │                  409 │                99.97 │                 0.03 │\n",
       "│ 2023-12-25 21:30:00  │ 2023-12-25 21:30:18 │ … │                   63 │                100.0 │                  0.0 │\n",
       "│ 2023-12-25 02:55:00  │ 2023-12-25 02:55:18 │ … │                  811 │                99.94 │                 0.06 │\n",
       "│ 2023-12-25 12:15:00  │ 2023-12-25 12:15:19 │ … │                  390 │                99.97 │                 0.03 │\n",
       "│ 2023-12-25 12:40:00  │ 2023-12-25 12:40:19 │ … │                  434 │                99.97 │                 0.03 │\n",
       "│ 2023-12-25 22:40:00  │ 2023-12-25 22:40:17 │ … │                  110 │                99.99 │                 0.01 │\n",
       "│ 2023-12-25 23:05:00  │ 2023-12-25 23:05:15 │ … │                  169 │                99.99 │                 0.01 │\n",
       "│ 2023-12-25 12:20:00  │ 2023-12-25 12:20:17 │ … │                  377 │                99.97 │                 0.03 │\n",
       "│          ·           │          ·          │ · │                   ·  │                  ·   │                   ·  │\n",
       "│          ·           │          ·          │ · │                   ·  │                  ·   │                   ·  │\n",
       "│          ·           │          ·          │ · │                   ·  │                  ·   │                   ·  │\n",
       "│ 2024-01-06 14:25:00  │ 2024-01-06 14:25:15 │ … │                 2362 │                99.84 │                 0.16 │\n",
       "│ 2024-01-06 11:00:00  │ 2024-01-06 11:00:16 │ … │                 1031 │                99.93 │                 0.07 │\n",
       "│ 2024-01-06 12:25:00  │ 2024-01-06 12:25:14 │ … │                 1409 │                 99.9 │                  0.1 │\n",
       "│ 2024-01-06 06:50:00  │ 2024-01-06 06:50:14 │ … │                  566 │                99.96 │                 0.04 │\n",
       "│ 2024-01-06 06:05:00  │ 2024-01-06 06:05:14 │ … │                  565 │                99.96 │                 0.04 │\n",
       "│ 2024-01-06 01:20:00  │ 2024-01-06 01:20:14 │ … │                 1221 │                99.92 │                 0.08 │\n",
       "│ 2024-01-06 15:55:00  │ 2024-01-06 15:55:14 │ … │                12635 │                99.14 │                 0.86 │\n",
       "│ 2024-01-06 14:10:00  │ 2024-01-06 14:10:16 │ … │                 2380 │                99.84 │                 0.16 │\n",
       "│ 2024-01-06 22:45:00  │ 2024-01-06 22:45:14 │ … │                 1112 │                99.92 │                 0.08 │\n",
       "│ 2024-01-06 17:45:00  │ 2024-01-06 17:45:12 │ … │                12106 │                99.18 │                 0.82 │\n",
       "├──────────────────────┴─────────────────────┴───┴──────────────────────┴──────────────────────┴──────────────────────┤\n",
       "│ ? rows (>9999 rows, 20 shown)                                                                   7 columns (5 shown) │\n",
       "└─────────────────────────────────────────────────────────────────────────────────────────────────────────────────────┘"
      ]
     },
     "execution_count": 134,
     "metadata": {},
     "output_type": "execute_result"
    }
   ],
   "source": [
    "con.sql(\n",
    "'''\n",
    "\n",
    "(with initial as (\n",
    "select\n",
    "    marca_hora_presentada,\n",
    "    marca_hora_accedida,\n",
    "    -- unnest(totals),\n",
    "    totals.totalClients as total_clientes,\n",
    "    totals.totalClientsWithService as total_clientes_con_servicio,\n",
    "    totals.totalClientsWithoutService as total_clientes_sin_servicio,\n",
    "    totals.totalPercentageWithService as porcentaje_clientes_con_servicio,\n",
    "    totals.totalPercentageWithoutService as porcentaje_clientes_sin_servicio,\n",
    "from regions_without_service_staging\n",
    ")\n",
    "\n",
    "select * from initial\n",
    ")\n",
    "'''\n",
    ")"
   ]
  },
  {
   "cell_type": "code",
   "execution_count": 135,
   "metadata": {},
   "outputs": [
    {
     "data": {
      "text/plain": [
       "┌─────────────┬────────────────────────────────────────────────────────────────┬─────────┬─────────┬─────────┬─────────┐\n",
       "│ column_name │                          column_type                           │  null   │   key   │ default │  extra  │\n",
       "│   varchar   │                            varchar                             │ varchar │ varchar │ varchar │ varchar │\n",
       "├─────────────┼────────────────────────────────────────────────────────────────┼─────────┼─────────┼─────────┼─────────┤\n",
       "│ regions[1]  │ STRUCT(\"name\" VARCHAR, percentageClientsWithService DOUBLE, …  │ YES     │ NULL    │ NULL    │ NULL    │\n",
       "└─────────────┴────────────────────────────────────────────────────────────────┴─────────┴─────────┴─────────┴─────────┘"
      ]
     },
     "execution_count": 135,
     "metadata": {},
     "output_type": "execute_result"
    }
   ],
   "source": [
    "con.sql(\n",
    "'''\n",
    "describe\n",
    "    select\n",
    "        regions[1]\n",
    "    from raw_regions_without_service\n",
    "''')"
   ]
  },
  {
   "cell_type": "code",
   "execution_count": 136,
   "metadata": {},
   "outputs": [
    {
     "data": {
      "text/plain": [
       "┌──────────────────────┬─────────────────────┬──────────────────────┬──────────────────────────────────────────────────┐\n",
       "│      regions[1]      │      timestamp      │        totals        │                     filename                     │\n",
       "│ struct(\"name\" varc…  │       varchar       │ struct(totalclient…  │                     varchar                      │\n",
       "├──────────────────────┼─────────────────────┼──────────────────────┼──────────────────────────────────────────────────┤\n",
       "│ {'name': Arecibo, …  │ 12/25/2023 11:50 AM │ {'totalClients': 1…  │ ./archiva-apagones/regions_without_service/202…  │\n",
       "│ {'name': Arecibo, …  │ 12/25/2023 05:25 AM │ {'totalClients': 1…  │ ./archiva-apagones/regions_without_service/202…  │\n",
       "│ {'name': Arecibo, …  │ 12/25/2023 01:30 PM │ {'totalClients': 1…  │ ./archiva-apagones/regions_without_service/202…  │\n",
       "│ {'name': Arecibo, …  │ 12/25/2023 09:30 PM │ {'totalClients': 1…  │ ./archiva-apagones/regions_without_service/202…  │\n",
       "│ {'name': Arecibo, …  │ 12/25/2023 02:55 AM │ {'totalClients': 1…  │ ./archiva-apagones/regions_without_service/202…  │\n",
       "│ {'name': Arecibo, …  │ 12/25/2023 12:15 PM │ {'totalClients': 1…  │ ./archiva-apagones/regions_without_service/202…  │\n",
       "│ {'name': Arecibo, …  │ 12/25/2023 12:40 PM │ {'totalClients': 1…  │ ./archiva-apagones/regions_without_service/202…  │\n",
       "│ {'name': Arecibo, …  │ 12/25/2023 10:40 PM │ {'totalClients': 1…  │ ./archiva-apagones/regions_without_service/202…  │\n",
       "│ {'name': Arecibo, …  │ 12/25/2023 11:05 PM │ {'totalClients': 1…  │ ./archiva-apagones/regions_without_service/202…  │\n",
       "│ {'name': Arecibo, …  │ 12/25/2023 12:20 PM │ {'totalClients': 1…  │ ./archiva-apagones/regions_without_service/202…  │\n",
       "│          ·           │          ·          │          ·           │                        ·                         │\n",
       "│          ·           │          ·          │          ·           │                        ·                         │\n",
       "│          ·           │          ·          │          ·           │                        ·                         │\n",
       "│ {'name': Arecibo, …  │ 01/06/2024 02:25 PM │ {'totalClients': 1…  │ ./archiva-apagones/regions_without_service/202…  │\n",
       "│ {'name': Arecibo, …  │ 01/06/2024 11:00 AM │ {'totalClients': 1…  │ ./archiva-apagones/regions_without_service/202…  │\n",
       "│ {'name': Arecibo, …  │ 01/06/2024 12:25 PM │ {'totalClients': 1…  │ ./archiva-apagones/regions_without_service/202…  │\n",
       "│ {'name': Arecibo, …  │ 01/06/2024 06:50 AM │ {'totalClients': 1…  │ ./archiva-apagones/regions_without_service/202…  │\n",
       "│ {'name': Arecibo, …  │ 01/06/2024 06:05 AM │ {'totalClients': 1…  │ ./archiva-apagones/regions_without_service/202…  │\n",
       "│ {'name': Arecibo, …  │ 01/06/2024 01:20 AM │ {'totalClients': 1…  │ ./archiva-apagones/regions_without_service/202…  │\n",
       "│ {'name': Arecibo, …  │ 01/06/2024 03:55 PM │ {'totalClients': 1…  │ ./archiva-apagones/regions_without_service/202…  │\n",
       "│ {'name': Arecibo, …  │ 01/06/2024 02:10 PM │ {'totalClients': 1…  │ ./archiva-apagones/regions_without_service/202…  │\n",
       "│ {'name': Arecibo, …  │ 01/06/2024 10:45 PM │ {'totalClients': 1…  │ ./archiva-apagones/regions_without_service/202…  │\n",
       "│ {'name': Arecibo, …  │ 01/06/2024 05:45 PM │ {'totalClients': 1…  │ ./archiva-apagones/regions_without_service/202…  │\n",
       "├──────────────────────┴─────────────────────┴──────────────────────┴──────────────────────────────────────────────────┤\n",
       "│ ? rows (>9999 rows, 20 shown)                                                                              4 columns │\n",
       "└──────────────────────────────────────────────────────────────────────────────────────────────────────────────────────┘"
      ]
     },
     "execution_count": 136,
     "metadata": {},
     "output_type": "execute_result"
    }
   ],
   "source": [
    "con.sql(\n",
    "'''\n",
    "    select\n",
    "        regions[1],\n",
    "        \"timestamp\",\n",
    "        totals,\n",
    "        filename\n",
    "    from raw_regions_without_service\n",
    "''')"
   ]
  },
  {
   "cell_type": "code",
   "execution_count": 150,
   "metadata": {},
   "outputs": [],
   "source": [
    "con.close()"
   ]
  }
 ],
 "metadata": {
  "kernelspec": {
   "display_name": "apagones-queries",
   "language": "python",
   "name": "python3"
  },
  "language_info": {
   "codemirror_mode": {
    "name": "ipython",
    "version": 3
   },
   "file_extension": ".py",
   "mimetype": "text/x-python",
   "name": "python",
   "nbconvert_exporter": "python",
   "pygments_lexer": "ipython3",
   "version": "3.11.6"
  },
  "orig_nbformat": 4
 },
 "nbformat": 4,
 "nbformat_minor": 2
}
